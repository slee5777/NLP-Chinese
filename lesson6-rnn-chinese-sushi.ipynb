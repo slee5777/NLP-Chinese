{
 "cells": [
  {
   "cell_type": "markdown",
   "metadata": {},
   "source": [
    "# NPL Generative Model in Chinese - Su Shi"
   ]
  },
  {
   "cell_type": "code",
   "execution_count": 1,
   "metadata": {
    "collapsed": true
   },
   "outputs": [],
   "source": [
    "%reload_ext autoreload\n",
    "%autoreload 2\n",
    "%matplotlib inline\n",
    "\n",
    "from fastai.io import *\n",
    "from fastai.conv_learner import *\n",
    "\n",
    "from fastai.column_data import *"
   ]
  },
  {
   "cell_type": "code",
   "execution_count": 1,
   "metadata": {
    "collapsed": true
   },
   "outputs": [],
   "source": [
    "import spacy\n",
    "import jieba\n",
    "\n",
    "from spacy.util import get_lang_class\n",
    "nlp = get_lang_class('zh')"
   ]
  },
  {
   "cell_type": "markdown",
   "metadata": {},
   "source": [
    "## Who is Su Shi?\n",
    "https://en.wikipedia.org/wiki/Su_Shi"
   ]
  },
  {
   "cell_type": "markdown",
   "metadata": {},
   "source": [
    "# SpaCy\n",
    "https://spacy.io/usage/adding-languages"
   ]
  },
  {
   "cell_type": "markdown",
   "metadata": {},
   "source": [
    "## Setup"
   ]
  },
  {
   "cell_type": "markdown",
   "metadata": {},
   "source": [
    "We're going to download the collected works of Nietzsche to use as our data for this class."
   ]
  },
  {
   "cell_type": "code",
   "execution_count": 7,
   "metadata": {
    "collapsed": true
   },
   "outputs": [],
   "source": [
    "import sys\n",
    "sys.path.append('C://Users/sarad/Documents/fastai/')"
   ]
  },
  {
   "cell_type": "code",
   "execution_count": 55,
   "metadata": {
    "collapsed": true
   },
   "outputs": [],
   "source": [
    "PATH='C://Users/sarad/Documents/fastai/courses/dl1/data/SuShi/'"
   ]
  },
  {
   "cell_type": "code",
   "execution_count": 8,
   "metadata": {},
   "outputs": [
    {
     "name": "stdout",
     "output_type": "stream",
     "text": [
      "corpus length: 237313\n"
     ]
    }
   ],
   "source": [
    "file = 'C://Users/sarad/Documents/fastai/courses/dl1/data/SuShi/SuShi.txt'\n",
    "\n",
    "#get_data(\"https://s3.amazonaws.com/text-datasets/nietzsche.txt\", f'{PATH}nietzsche.txt')\n",
    "text = open(file, encoding=\"UTF-8\").read()\n",
    "print('corpus length:', len(text))"
   ]
  },
  {
   "cell_type": "code",
   "execution_count": 9,
   "metadata": {},
   "outputs": [
    {
     "data": {
      "text/plain": [
       "'\\ufeff\\n【辛醜十一月十九日既與子由別於鄭州西門之外馬上賦詩一篇寄之】\\n不飲胡為醉兀兀，此心已逐歸鞍發。歸人猶自念庭闈，今我何以慰寂寞。登高回\\n首坡壟隔，惟見烏帽出複沒。苦寒念爾衣裳薄，獨騎瘦馬踏殘月。路人行歌居人\\n樂，僮僕怪我苦淒惻。亦知人生要有別，但恐歲月去飄忽。寒燈相對記疇昔，夜\\n雨何時聽蕭瑟。君知此意不可忘，慎勿苦愛高官職。（嘗有夜雨對床之言，故雲\\n\\n\\x0c爾。）\\n【和子由澠池懷舊】\\n人生到處知何似，應似飛鴻踏雪泥。泥上偶然留指爪，鴻飛那複計東西。老僧已\\n死成新塔，壞壁無由見舊題。往日崎嶇還記否，路長人困蹇驢嘶。（往歲，馬死\\n於二陵，騎驢至澠池。）\\n【次韻和劉京兆石林亭之作石本唐苑中物散流民間劉購得之】\\n都城日荒廢，往事不可還。惟余故苑石，漂散向人間。公來始購蓄，不憚道裏艱。\\n盡従塵埃中，來對冰雪顏。瘦骨拔凜凜，蒼根漱潺潺。唐人惟奇章，好石古莫攀。\\n盡令屬牛氏，刻鑿紛班班。嗟此本何常，聚散實'"
      ]
     },
     "execution_count": 9,
     "metadata": {},
     "output_type": "execute_result"
    }
   ],
   "source": [
    "text[:400]"
   ]
  },
  {
   "cell_type": "code",
   "execution_count": 10,
   "metadata": {},
   "outputs": [
    {
     "name": "stdout",
     "output_type": "stream",
     "text": [
      "total chars: 5076\n"
     ]
    }
   ],
   "source": [
    "chars = sorted(list(set(text)))\n",
    "vocab_size = len(chars)+1\n",
    "print('total chars:', vocab_size)"
   ]
  },
  {
   "cell_type": "markdown",
   "metadata": {},
   "source": [
    "Sometimes it's useful to have a zero value in the dataset, e.g. for padding"
   ]
  },
  {
   "cell_type": "code",
   "execution_count": 11,
   "metadata": {},
   "outputs": [
    {
     "data": {
      "text/plain": [
       "'\\n\\x0c 0123456789?AS{}ω“”•│◎、。々《》【】〔〕〗一丁七丈三上下不且丕世丘丙丞並丫中丸丹主乃久么之乍乎乏乖乘乙九乞也乳乾亂了予事二于互五井些亞亡亢交亥亦亨享京亭亮亹人什仁仄仇今介仍仕他仗付仙仝仞代令以仰仲任仿企伊伋伍伎伏伐休伯伴伶伸伺似伽但佇佈位低住佐佔何佗佘余佚佛作佞佩佯佳併使侄來例侍侏侑侔侖侗供依侮侯侵侶便促俄俊俎俗俘俚俛俜保俞俟俠信修俯俱俸倅倆倉個倍倏倒倕倖倘候倚倛倜借倡倦倩倪倫倭值偃假偈偉偏偕停健側偶偷偽傅傍傑傖傘備催傭傲傳傴債傷傾僂僅像僑僕僚僛僥僦僧僬僭僮僵價僻儀儂儆儇儉儋儒儔儕儘償優儲儺儻儼兀元兄充兆先光克免兒兔兕党兜兢入內全兩八公六兮共兵其具典兼冀冉冊再冒冕冗冠冤冥冬冰冶冷冽准凋凍凜凝凡凰凱凶凸出函刀刁刃分切刈刊刑刓刖列初判別利刪刮到刲刳制刷券刹刺刻剃則削前剔剖剗剛剝剡剩剪副割創剽劃劄劇劈劉劍劑劚力功加劣助努劫劬劾勁勃勇勉勍勒動勖務勝勞勢勤勳勸勺勻勾勿包匆匊匏匕化北匙匝匠匡匣匪匯匱匹匿區十千卅升午卉半卑卒卓南博卜卞占卣卮卯印危即卵卷卻卿厄厔厖厚原厥厭厲去參又叉及友反叔取受叛叟叢口古句叨叩只叫召可台叱史右叵司吃各合吉吊同名后吏吐向吒君吞吟吠否含吭吳吷吸吹吻吼吾呀呂呈告呦周呱味呵呶呷呻呼命咀咄和咍咎咒咨咫咬咮咳咸咻咽咿哀品哂哄哇哈哉員哢哥哦哭哲哺哽唇唐唧售唯唱唳唷唾啄啅商問啖啜啞啟啻啼啾喁善喉喊喑喘喙喚喜喟喧喪喬單喻嗄嗅嗒嗔嗚嗜嗟嗣嗤嗾嘅嘆嘉嘔嘗嘩嘬嘯嘲嘵嘶嘹噀噂噍噎噓噞噤器噪噫噬噱噲噴嚅嚇嚌嚏嚬嚴嚶嚼囀囁囂囊囑囚四回因困囷固囿圃圈圉國圍園圓圖團圜土圠在圭圯地址均坊坌坎坐坑坡坤坦坯坰坱坳坷坼垂型垠垢垣埃埋城埒域埭執培基埽堂堅堆堇堙堠堤堧堪堯堰報場堵塉塊塌塑塔塗塘塚塞塢填塯塵塹塼塿墀墁境墓墜增墟墦墨墮墳墾壁壅壇壑壓壖壘壙壚壞壟壤士壬壯壺壽夏夔夕外夙多夜夢夥大天太夫夭央失夷夾奄奇奈奉奏契奔奕奚奢奧奩奪奮女奴奸好如妃妄妉妍妒妓妖妙妝妤妨妻妾姆姊始姐姑姓委姚姜姝姥姨姬姹姻姿威娉娑娘娛娜娟娥娩娶婀婁婆婉婕婚婞婢婦婭婷婺婿媒媚媧媮媸媼媾嫁嫂嫋嫌嫚嫣嫦嫩嫫嫮嫵嬈嬉嬋嬌嬛嬰孌子孔孕字存孚孜孝孟季孤孥孩孫孰孱學孺孽它宅宇守安宋完宏宕宗官宙定宛宜客宣室宥宦宮宰害宴宵家宸容宿寂寄寅密寇富寐寒寓寘寞察寡寢寤寥實寧寨審寫寬寮寰寵寶寸寺封射將專尉尊尋對導小少尖尚尤尫就尹尺尻尼尾局居屈屋屍屏屐屑展屟屠屢屣層履屨屬屭屯山屹岌岏岐岑岡岢岣岩岫岱岳岷岸峒峙峨峭峰峴島峻峽崆崇崎崒崔崖崛崢崤崦崧崩崷嵇嵋嵌嵐嵩嵬嵲嵽嶁嶂嶇嶠嶧嶮嶰嶷嶸嶺嶼嶽巉巍巑巒巔巘川州巡巢工左巧巨巫差己已巳巴巷巽巾市布帆希帑帔帕帖帙帚帛帝帡帢帥師席帳帶帷常帽幃幄幅幌幔幕幘幛幡幢幣幨幩幰干平年幸幹幻幼幽幾庇床底庖店庚府庠庥度座庫庭庳庵庶康庸庾廁廂廄廈廉廊廌廓廚廛廝廟廡廢廣廩廬廳延廷建弁弄弈弊弋式弓引弘弛弟弦弧弨弩弭弮弱張強弼彀彈彌彎彘彝形彤彥彩彪彬彭影彴彷役彼往征徂待徇很徉徊律後徐徑徒従得徘徙徜徠御徨復循微徵德徹徼徽心忄必忌忍志忘忙忝忠忤快念忽忿怍怏怒怕怖怛思怡急性怨怪怯怳恃恍恐恒恕恙恚恢恣恤恥恨恩恪恫恬恭息恰悃悄悅悌悍悔悟悠悢患悮悲悴悵悶悸悼悽情惆惇惑惘惚惜惝惟惠惡惰惱惲想惶惹惺惻愁愆愈愊意愔愕愚愛愜感愧愨愬愴慈態慍慎慓慕慘慚慟慢慣慥慧慨慮慰慳慵慶慷憀憂憊憎憐憑憒憔憚憤憩憫憮憲憶憾應懦懭懶懷懸懺懼懾懿戀戇戈戊戍戎成我戒戕或戚戛戟戡戢戣戩截戰戲戴戶戾房所扁扃扇扈扉手扌才打托扛扣扳扶批承技抃抆抉把抑投抗折披抱抵抹押抽拂拄拆拇拈拉拊拋拌拍拏拐拒拓拔拖拙招拜拫括拭拯拱拳拶拾持指挈按挑挫振挲挹挺挽挾捃捆捉捋捍捐捕捧捫捲捴捷掀掃掇授掉掌掐排掖掘掛掠採探掣接控推掩措掬掾揀揉揎提插揖揚換揞揠握揣揩揭揮援損搏搒搓搔搖搗搜搢搶摐摘摟摧摩摯摳摵摶摸摹摻撐撒撓撚撞撥撫播撮撰撲撼撾擁擅擇擉擊操擎擒擔擘據擠擢擬擲擷擺擾擿攀攄攓攕攘攙攜攝攢攪攫攬支攵收攸改攻放政故效敏救敕敖敗敘教敝敞敢散敦敬敲整敵敷數斂斃文斑斕斗料斛斜斝斟斡斤斥斧斨斫斬斯新斷方於施斿旁旂旃旄旅旆旋旌族旒旗旟既日旦旨早旬旭旰旱旻昂昃昆昉昊昌明昏易昔星映春昧昨昭是昴昶晁時晃晉晏晚晝晞晡晤晦晨普景晰晴晶晷智晻暄暇暈暉暌暑暖暗暘暝暢暫暮暴暹暾曄曆曇曈曉曛曜曝曠曦曨曩曬曰曲曳更曷書曹曼曾替最會朅朆月有朋服朏朒朓朔朕朗望朝期朣朦朧木未末本朱朴朵朽杉李杏材村杓杕杖杜杞束杪杭杯東杲杳杵杷杻杼松板枅枇枉枌析枕林枚果枝枯枰枳枵架枸枿柁柂柄柅柏某柑染柔柘柙柚柞柢查柩柬柯柰柱柳柴柿栗栘栝校株栱核根格栽桀桂桃桄桅案桐桑桓桔桴梁梅梏梓梔梗條梟梢梧梨梭梯械梳梵棄棉棋棐棕棗棘棚棟棠棣棧森棱棲棹棺椀植椎椏椒椓椰椹椽楂楇楊楓楚楝楞楠楣楫業楮楯極楷楸楹概榆榔榕榛榜榧榭榮榴榷榻榼榿槁槃槊構槍槎槐槔槨槱槲槳槽槿樁樂樊樏樑樓樗標樛樞模樣樵樸樹樺樽樾橄橅橇橈橋橐橘橙機橡橢橫檀檄檐檜檠檢檣檳檸檻櫌櫑櫓櫛櫝櫟櫪櫳櫺櫻欄權欏欒欖欠次欣欬欲欹欺欽款歇歊歌歎歐歙歜歟歡止正此步武歧歲歷歸死歿殆殉殊殍殘殞殫殯殲殳段殷殺殼殽殿毀毅毋母每毒毓比毗毛毫毳毹毿氂氅氈氍氎氏氐民氓氛氣氤氳水氵永汀汁求汊汍汗汙汝汞江池污汧汩汪汰汲汴汶決汾沂沃沆沇沈沉沌沐沒沖沙沛沫沮沱河沸油治沼沽沾沿況泂泄泅泉泊泓泔法泗泚泛泠泡波泣泥注泫泮泯泰洄洋洑洗洛洞津洧洩洪洫洮洲洵洶洹洺活洽派洿流浙浚浣浥浦浩浪浮浰浴海浸浼涅涇消涉涎涓涕涪涯液涴涵涸涼涿淄淅淇淋淑淒淖淘淙淚淞淡淤淥淨淩淪淫淮淰深淳淵混淹淺添清渚減渝渟渠渡渤渥渦測渭港渰渴游渺渼渾湃湄湍湓湔湖湘湛湜湟湣湧湫湯溉源準溜溝溟溢溧溪溫溯溶溷溺溽滁滂滄滅滋滌滏滑滓滔滕滯滴滹滿漁漂漆漉漏漓演漕漙漚漠漢漣漪漫漬漱漲漳漶漸漾漿潁潑潔潘潛潞潢潤潦潭潮潯潰潸潺潼澀澄澆澈澌澎澐澒澗澠澡澤澥澮澳澶澹激濁濂濃濆濉濕濛濞濟濠濡濤濩濫濮濯濰濱濺瀆瀉瀋瀏瀑瀕瀘瀚瀛瀝瀟瀣瀧瀨瀰瀲瀹瀺瀼瀾灂灊灌灑灘灞灣灩火灰灶灸灼災炊炎炙炬炭炮炯炳炷為烈烏烘烙烝烹烽焄焉焙焚無焦焰然煉煌煎煙煜煢煤煥照煨煩煮熊熏熒熙熟熠熨熱熹燁燃燅燈燎燒燔燕營燠燥燦燧燭燼燾燿爆爇爍爐爛爨爪爬爭爰爵父爽爾牁牂牆片版牏牒牖牘牙牛牝牟牡牢牣牧物牯牲特牽犀犁犍犖犢犬犯狀狂狄狎狐狒狖狗狙狠狡狩狸狹狻狼狽猊猖猗猘猛猜猩猱猴猶猷猾猿獄獅獐獒獠獨獪獰獲獵獸獺獻玃玄率玉王玕玖玘玠玦玩玫玭玲玻珀珂珊珍珞珠珥珪班珮現球琅理琉琚琛琢琥琪琮琯琱琲琳琴琵琶瑀瑕瑗瑙瑚瑞瑟瑣瑤瑩瑪瑰瑳瑾璀璁璃璉璋璞璠璣璧璨璫環璵璽瓊瓏瓔瓚瓜瓠瓢瓣瓦瓶瓷甃甄甌甍甑甓甔甕甘甚甜生產甥用甫甯田由甲申男甸町畀界畎畏畔留畚畛畜畝畢略畦番畫異當畸畹畾畿疆疇疊疏疑疚疣疥疫疲疵疾痂病痍痏痕痛痺痼痾瘁瘝瘞瘠瘡瘢瘦瘳瘴療癉癖癘癡癢癬癭癸登發白百皂的皆皇皋皎皓皙皤皪皮皰皴皺盂盃盆盈益盍盎盛盜盞盟盡監盤盥盧盩盪目盲直相盼盾省眇眈眉眊看真眠眥眩眯眷眸眺眼眾睅睎睛睡睢督睦睨睫睹睿瞋瞍瞑瞞瞢瞥瞬瞭瞰瞳瞻瞿矂矍矗矚矛矜矢矣知矧矩短矯石矴矻矼砂砆砉砌研砥砧砭破硉硎硬硯碌碎碑碓碕碗碟碣碧碩碪碳確碾磁磉磊磋磐磑磔磚磣磧磨磬磯磴磷磻磽礎礙礦礪礫礱礴示礻社祀祁祈祐祖祗祛祝神祠祥祧祭祿禁禊禋禍福禦禪禮禰禱禳禹禽禾禿秀私秉秋科秔秘租秣秦秧秩秫秬秸移稀稂稅程稌稍稔稗稚稟稠稭種稱稷稹稻稼稽稿穀穆積穎穗穜穞穟穠穡穢穩穰穴究穹空穿突窄窈窊窕窖窗窘窟窠窣窪窬窮窯窺窾窿竄竅竇竊立竛竟章童竦竭竮端競竹竺竽竿笄笏笑笙笛笞笠笥符第笳笴筆等筋筌筍筏筐筒答策筠筥筦筮筱筵筼箋箏箔箕算箜箝箠管箬箭箱箴箸節篁範篆篇築篋篌篘篙篤篦篨篩篲篸簇簋簌簏簞簟簡簧簪簫簷簸簹簽簾簿籀籃籋籌籍籜籟籠籤籥籧籩籬籲米粃粉粒粗粘粟粥粱粲粳粵粹精糊糖糗糜糝糞糟糠糧糯糲糴糵糸系紀紂約紅紆紈紉紋納紐紓純紗紙級紛紜紞素索紫累細紱紳紵紹紺紿終組絆絏結絕絛絝絡絢給絮統絲絳絹絺綃綆綈綏經綠綢綦綬維綰綱網綴綵綸綺綽綾綿緇緊緗緘線緝緡緣編緩緬緯緱緲練緹縈縉縋縑縕縛縞縠縣縫縮縱縵縶縷縹縻總績繁繅繆繇繈繐繒織繖繚繞繡繩繪繭繰繳繻繼繽纈纊續纏纓纖纛纜缸缺缽罄罅罌罍罐罔罕罘罝罟罦罨罩罪置罰署罳罵罷罹罾羅羆羈羊羌美羔羜羝羞群羨義羯羱羲羵羸羹羽羿翁翅翊翌翎翏習翔翛翟翠翡翥翦翩翮翰翳翹翻翼翾耀老考者耆耇而耐耒耕耗耘耜耦耳耶耽耿聃聊聒聖聘聚聞聯聰聲聳聵職聽聾肅肇肉肋肌肓肖肘肚肝股肢肥肩肪肯肱育肴肺胃胄背胎胛胝胞胡胥胭胯胸胼能胾脂脅脆脈脊脛脫脯脹脽脾腄腋腎腐腑腕腥腦腮腰腳腴腸腹膂膇膈膏膚膜膝膠膩膰膳膺膻膽膾臂臆臉臍臒臘臞臣臥臧臨自臭至致臺臻臼臾舂舄舅與興舉舊舌舍舐舒舛舜舞舟航舫般舶舷舸船艇艎艘艟艤艦艨艫良艱色艾芊芋芍芎芒芘芙芝芡芥芬芭芮花芳芷芸芹芻芼芽芾苑苓苔苕苗苜苞苟苡若苦苧英苴苻茁茂范茅茆茇茗茜茨茫茭茯茱茲茵茶茸茹荄荇荈草荊荏荑荒荔荷荻荼莊莎莒莖莘莛莞莠莢莧莩莫莽菁菅菊菌菑菔菖菘菜菟菡菩華菰菱菲菽萃萄萊萋萌萍萎萏萑萬萱萸萼落葆葉葑著葛葡董葦葩葫葬葭葵葺蒂蒍蒔蒙蒜蒢蒨蒯蒲蒸蒹蒺蒻蒼蒿蓀蓂蓄蓉蓊蓋蓍蓐蓑蓬蓮蓴蓺蓼蓽蓿蔌蔑蔓蔔蔗蔚蔞蔡蔣蔥蔫蔬蔭蔽蕃蕈蕉蕊蕎蕕蕖蕘蕙蕝蕡蕢蕤蕨蕩蕪蕭蕾薄薇薈薊薏薑薙薛薝薤薦薨薩薪薯薰薺藉藍藏藕藜藝藤藥藩藪藭藹藻藿蘄蘆蘇蘊蘋蘖蘚蘧蘭蘸蘼蘿虎虐虓虔處虛虜虞號虡虢虧虯虱虹虺虻蚊蚋蚌蚍蚓蚣蚤蚩蚪蚯蚱蚴蚶蚹蚻蚿蛄蛆蛇蛑蛙蛛蛜蛟蛤蛩蛸蛹蛺蛻蛾蜀蜂蜃蜈蜉蜍蜑蜒蜜蜢蜣蜥蜩蜴蜺蜿蝌蝍蝕蝗蝙蝛蝝蝠蝣蝤蝦蝴蝶蝸螂融螟螢螣螭螯螺螻螽螿蟀蟄蟆蟈蟉蟋蟑蟒蟠蟣蟪蟬蟲蟹蟺蟻蟾蠅蠆蠍蠖蠟蠡蠢蠱蠶蠹蠻血衄行衍衎衒術街衙衛衡衢衣衤表衫衰衲衽衾衿袁袂袋袍袖袞袢袨被袴裁裂裌裏裒裓裔裕裘裙裛補裝裯裳裴裸裹製裾複褊褐褒褓褚褭褰褵褺襄襋襟襦襪襯襲西要覃覆見規覓視親覬覯覲覷覺覽覿觀角觚觜解觥觱觴觶觸言計訊討訓訕訖記訚訛訝訟訣訥訪設許訴訶詆詎詐詔評詛詞詠詣試詩詭詮詰話詳詵詹詼誄誅誇認誑誓誕誘誚語誠誤誥誦誨說誰課誷誼調諄談請諒論諗諛諜諡諧諫諭諱諳諷諸諺諾謀謁謂謔謖謗謙講謝謠謦謨謫謬謳謹謾譊譎譏識譙譜警譫譬譯議譴護譽讀變讒讓讖谷谺谼谽谿豁豆豈豉豌豎豐豔豕豗豚象豢豨豪豫豬豭豹豺貂貅貉貌貓貔貙貝貞負財貢貧貨販貪貫責貯貰貲貳貴貶買貸貺費貼貽貿賀資賈賊賒賓賜賞賡賢賣賤賦質賭賴購賽贅贈贊贍贏贐贔贖贗贛赤赦赧赫赬赭走赴起趁超越趙趣趨趯足趺趾跂跋跌跎跏跑跕跗跚跛距跟跡跨跪跫跬路跰跳踉踏踐踔踞踟踣踴踵踸踽蹀蹁蹂蹄蹇蹈蹉蹊蹋蹕蹙蹟蹠蹡蹤蹬蹭蹯蹲蹴蹶蹸躁躄躅躋躍躑躔躕躚躞躡身躬軀車軋軌軍軒軔軛軟軫軸軺軻軼軾軿較輅輈載輒輔輕輜輝輞輟輥輦輩輪輯輸輾輿轂轄轅轆轉轍轓轗轡轣轤辛辜辟辣辦辨辭辮辯辰辱農迂迅迎近迓返迕迢迤迥迦迨迪迫迭述迴迷迸追退送逃逅逆逋逍透逐途通逝逞速造逡逢連逮進逵逶逸逼逾遁遂遄遇遊運遍過遐遑遒道達違遘遙遜遝遞遠遣遨適遭遮遲遵遷選遺遼遽避邀邁邂邃還邅邇邈邊邐邑邕邙邛邞邠邢那邦邪邯邴邵邶邸郁郃郊郎郗郛郡郢部郫郭郯郴郵都郿鄂鄆鄉鄒鄖鄘鄙鄠鄢鄧鄭鄰鄱鄲鄴酉酊酋酌配酒酡酢酣酤酥酩酪酬酲酴酷酸酹醅醇醉醋醍醐醑醒醜醞醢醪醫醬醮醯醲醴醵醺醻醽醿釀釂釃釅采釋里重野量釐金釘釜針釣釭釵鈈鈍鈎鈐鈔鈜鈞鈴鈿鉛鉞鉤鉦銀銅銖銘銚銛銜銳銷鋏鋒鋟鋤鋩鋪鋸錄錐錘錙錢錦錫錯鍋鍛鍤鍬鍰鍾鎌鎔鎖鎡鎩鎪鎮鎰鏃鏈鏐鏑鏗鏘鏟鏡鏤鏦鐃鐔鐘鐙鐫鐮鐵鐺鑄鑊鑒鑠鑣鑰鑱鑷鑽鑾鑿钅钜長門閃閈閉開閏閑閒間閔閘閟閣閥閨閩閫閬閭閱閶閻閽閾闃闇闈闉闊闌闍闐闔闕關闞闤阜阡阨阪阮阱防阻阿陀陂附陋陌降限陔陘陛陝陟院陣除陪陬陰陳陵陶陷陸陽隃隅隆隈隊隋階隔隕隗隘隙際障隧隨險隮隰隱隴隸隻隼雀雁雄雅集雇雉雋雌雍雕雖雙雛雜雞離難雨雩雪雲零雷雹電需霄霅霆震霍霎霏霓霔霖霙霜霞霧霰露霸霹霽霾靂靄靈青靖靜非靡面革靳靴靿鞅鞋鞍鞏鞓鞚鞠鞦鞬鞭鞮鞲鞿韁韉韋韓韜韝韭音韶韻響頂頃項順須頌頎預頑頒頓頗領頠頡頤頩頭頮頰頷頸頹頻顆題額顏顒願顙顛類顥顧顯顰顱風颭颯颸颺颼飀飄飆飛食飧飪飯飲飴飼飽飾餅餉養餌餐餓餔餘餞餡館餬餳餼餾饃饅饉饋饌饑饒饗饛饜饞首馘香馥馨馬馭馮馱馳馴駁駃駐駑駒駓駔駕駘駙駛駝駟駢駭駰駱駸駿騁騂騅騎騏騑騕騖騠騫騭騮騰騵騶騷騾驂驄驅驊驔驕驗驚驛驟驢驤驥驩驪骨骭骯骸髀髇髏髑髒髓體高髟髡髦髫髭髮髯髹髻髽鬅鬆鬍鬒鬙鬚鬟鬢鬣鬥鬧鬱鬲鬷鬻鬼魁魂魄魅魋魏魑魔魚魯魴鮆鮑鮓鮥鮪鮫鮭鮮鮰鯀鯁鯉鯖鯢鯤鯨鯰鯶鯽鯿鰍鰒鰕鰥鰩鰷鱉鱗鱠鱣鱮鱷鱸鳥鳧鳩鳳鳴鳶鳷鴂鴆鴉鴛鴞鴟鴦鴨鴯鴻鴿鵂鵑鵒鵙鵜鵝鵠鵡鵩鵪鵬鵲鵷鶂鶉鶋鶗鶘鶚鶡鶢鶤鶩鶯鶴鶹鶻鷀鷁鷂鷃鷇鷖鷗鷦鷫鷯鷲鷳鷹鷺鷾鸂鸇鸕鸘鸚鸛鸝鸞鹵鹹鹽鹿麇麈麋麏麒麓麗麚麝麟麥麰麴麵麹麻麽麾黁黃黍黎黏黑黔默黛黜黝點黠黧黨黮黯黳黶黻黽黿鼇鼉鼎鼓鼙鼛鼠鼯鼻鼾齁齊齋齎齏齒齔齕齟齠齡齦齧齬齾龍龐龔龕龜龢\\ue008\\ue03a\\ue03c\\ue0d0\\ue0d4\\ue0e3\\ue0f9\\ue0fd\\ue154\\ue1a6\\ue1b6\\ue237\\ue3ab\\ue3fd\\ue3ff\\ue400\\ue403\\ue404\\ue406\\ue409\\ue467\\ue4a3\\ue4ba\\ue4bc\\ue4bd\\ue4c1\\ue77e\\ue789\\ue837\\ue848\\ue85d\\ue85f\\ue862\\ufeff！（）'"
      ]
     },
     "execution_count": 11,
     "metadata": {},
     "output_type": "execute_result"
    }
   ],
   "source": [
    "chars.insert(0, \"\\0\")\n",
    "\n",
    "''.join(chars[1:-6])"
   ]
  },
  {
   "cell_type": "markdown",
   "metadata": {},
   "source": [
    "Map from chars to indices and back again"
   ]
  },
  {
   "cell_type": "code",
   "execution_count": 12,
   "metadata": {
    "collapsed": true
   },
   "outputs": [],
   "source": [
    "char_indices = {c: i for i, c in enumerate(chars)}\n",
    "indices_char = {i: c for i, c in enumerate(chars)}"
   ]
  },
  {
   "cell_type": "markdown",
   "metadata": {},
   "source": [
    "*idx* will be the data we use from now own - it simply converts all the characters to their index (based on the mapping above)"
   ]
  },
  {
   "cell_type": "code",
   "execution_count": 13,
   "metadata": {},
   "outputs": [
    {
     "data": {
      "text/plain": [
       "[5066, 1, 30, 4196, 4369, 416, 35, 1723, 416, 65]"
      ]
     },
     "execution_count": 13,
     "metadata": {},
     "output_type": "execute_result"
    }
   ],
   "source": [
    "idx = [char_indices[c] for c in text]\n",
    "\n",
    "idx[:10]"
   ]
  },
  {
   "cell_type": "code",
   "execution_count": 14,
   "metadata": {},
   "outputs": [
    {
     "data": {
      "text/plain": [
       "'\\ufeff\\n【辛醜十一月十九日既與子由別於鄭州西門之外馬上賦詩一篇寄之】\\n不飲胡為醉兀兀，此心已逐歸鞍發。歸人猶自念庭闈，今我何以慰寂寞。登高回\\n首'"
      ]
     },
     "execution_count": 14,
     "metadata": {},
     "output_type": "execute_result"
    }
   ],
   "source": [
    "''.join(indices_char[i] for i in idx[:70])"
   ]
  },
  {
   "cell_type": "markdown",
   "metadata": {
    "heading_collapsed": true
   },
   "source": [
    "## Three char model"
   ]
  },
  {
   "cell_type": "markdown",
   "metadata": {
    "hidden": true
   },
   "source": [
    "### Create inputs"
   ]
  },
  {
   "cell_type": "markdown",
   "metadata": {
    "hidden": true
   },
   "source": [
    "Create a list of every 4th character, starting at the 0th, 1st, 2nd, then 3rd characters"
   ]
  },
  {
   "cell_type": "code",
   "execution_count": 15,
   "metadata": {
    "collapsed": true,
    "hidden": true
   },
   "outputs": [],
   "source": [
    "cs=3\n",
    "c1_dat = [idx[i]   for i in range(0, len(idx)-cs, cs)]\n",
    "c2_dat = [idx[i+1] for i in range(0, len(idx)-cs, cs)]\n",
    "c3_dat = [idx[i+2] for i in range(0, len(idx)-cs, cs)]\n",
    "c4_dat = [idx[i+3] for i in range(0, len(idx)-cs, cs)]"
   ]
  },
  {
   "cell_type": "markdown",
   "metadata": {
    "hidden": true
   },
   "source": [
    "Our inputs"
   ]
  },
  {
   "cell_type": "code",
   "execution_count": 16,
   "metadata": {
    "collapsed": true,
    "hidden": true
   },
   "outputs": [],
   "source": [
    "x1 = np.stack(c1_dat)\n",
    "x2 = np.stack(c2_dat)\n",
    "x3 = np.stack(c3_dat)"
   ]
  },
  {
   "cell_type": "markdown",
   "metadata": {
    "hidden": true
   },
   "source": [
    "Our output"
   ]
  },
  {
   "cell_type": "code",
   "execution_count": 17,
   "metadata": {
    "collapsed": true,
    "hidden": true
   },
   "outputs": [],
   "source": [
    "y = np.stack(c4_dat)"
   ]
  },
  {
   "cell_type": "markdown",
   "metadata": {
    "hidden": true
   },
   "source": [
    "The first 4 inputs and outputs"
   ]
  },
  {
   "cell_type": "code",
   "execution_count": 18,
   "metadata": {
    "hidden": true,
    "scrolled": true
   },
   "outputs": [
    {
     "data": {
      "text/plain": [
       "(array([5066, 4196,   35,   65]),\n",
       " array([   1, 4369, 1723, 1632]),\n",
       " array([  30,  416,  416, 1631]))"
      ]
     },
     "execution_count": 18,
     "metadata": {},
     "output_type": "execute_result"
    }
   ],
   "source": [
    "x1[:4], x2[:4], x3[:4]"
   ]
  },
  {
   "cell_type": "code",
   "execution_count": 19,
   "metadata": {
    "hidden": true
   },
   "outputs": [
    {
     "data": {
      "text/plain": [
       "array([4196,   35,   65, 3395])"
      ]
     },
     "execution_count": 19,
     "metadata": {},
     "output_type": "execute_result"
    }
   ],
   "source": [
    "y[:4]"
   ]
  },
  {
   "cell_type": "code",
   "execution_count": 20,
   "metadata": {
    "hidden": true
   },
   "outputs": [
    {
     "data": {
      "text/plain": [
       "((79104,), (79104,))"
      ]
     },
     "execution_count": 20,
     "metadata": {},
     "output_type": "execute_result"
    }
   ],
   "source": [
    "x1.shape, y.shape"
   ]
  },
  {
   "cell_type": "markdown",
   "metadata": {
    "hidden": true
   },
   "source": [
    "### Create and train model"
   ]
  },
  {
   "cell_type": "markdown",
   "metadata": {
    "hidden": true
   },
   "source": [
    "Pick a size for our hidden state"
   ]
  },
  {
   "cell_type": "code",
   "execution_count": 21,
   "metadata": {
    "collapsed": true,
    "hidden": true
   },
   "outputs": [],
   "source": [
    "n_hidden = 256"
   ]
  },
  {
   "cell_type": "markdown",
   "metadata": {
    "hidden": true
   },
   "source": [
    "The number of latent factors to create (i.e. the size of the embedding matrix)"
   ]
  },
  {
   "cell_type": "code",
   "execution_count": 22,
   "metadata": {
    "collapsed": true,
    "hidden": true
   },
   "outputs": [],
   "source": [
    "n_fac = 42"
   ]
  },
  {
   "cell_type": "code",
   "execution_count": 23,
   "metadata": {
    "collapsed": true,
    "hidden": true
   },
   "outputs": [],
   "source": [
    "class Char3Model(nn.Module):\n",
    "    def __init__(self, vocab_size, n_fac):\n",
    "        super().__init__()\n",
    "        self.e = nn.Embedding(vocab_size, n_fac)\n",
    "\n",
    "        # The 'green arrow' from our diagram - the layer operation from input to hidden\n",
    "        self.l_in = nn.Linear(n_fac, n_hidden)\n",
    "\n",
    "        # The 'orange arrow' from our diagram - the layer operation from hidden to hidden\n",
    "        self.l_hidden = nn.Linear(n_hidden, n_hidden)\n",
    "        \n",
    "        # The 'blue arrow' from our diagram - the layer operation from hidden to output\n",
    "        self.l_out = nn.Linear(n_hidden, vocab_size)\n",
    "        \n",
    "    def forward(self, c1, c2, c3):\n",
    "        in1 = F.relu(self.l_in(self.e(c1)))\n",
    "        in2 = F.relu(self.l_in(self.e(c2)))\n",
    "        in3 = F.relu(self.l_in(self.e(c3)))\n",
    "        \n",
    "        h = V(torch.zeros(in1.size()).cuda())\n",
    "        h = F.tanh(self.l_hidden(h+in1))\n",
    "        h = F.tanh(self.l_hidden(h+in2))\n",
    "        h = F.tanh(self.l_hidden(h+in3))\n",
    "        \n",
    "        return F.log_softmax(self.l_out(h))"
   ]
  },
  {
   "cell_type": "code",
   "execution_count": 24,
   "metadata": {
    "collapsed": true,
    "hidden": true
   },
   "outputs": [],
   "source": [
    "md = ColumnarModelData.from_arrays('.', [-1], np.stack([x1,x2,x3], axis=1), y, bs=512)"
   ]
  },
  {
   "cell_type": "code",
   "execution_count": 25,
   "metadata": {
    "collapsed": true,
    "hidden": true
   },
   "outputs": [],
   "source": [
    "m = Char3Model(vocab_size, n_fac).cuda()"
   ]
  },
  {
   "cell_type": "code",
   "execution_count": 26,
   "metadata": {
    "collapsed": true,
    "hidden": true
   },
   "outputs": [],
   "source": [
    "it = iter(md.trn_dl)\n",
    "*xs,yt = next(it)\n",
    "t = m(*V(xs))"
   ]
  },
  {
   "cell_type": "code",
   "execution_count": 27,
   "metadata": {
    "collapsed": true,
    "hidden": true
   },
   "outputs": [],
   "source": [
    "opt = optim.Adam(m.parameters(), 1e-2)"
   ]
  },
  {
   "cell_type": "code",
   "execution_count": 28,
   "metadata": {
    "hidden": true
   },
   "outputs": [
    {
     "data": {
      "application/vnd.jupyter.widget-view+json": {
       "model_id": "a45325d6be4144beb8db500417e3049f",
       "version_major": 2,
       "version_minor": 0
      },
      "text/html": [
       "<p>Failed to display Jupyter Widget of type <code>HBox</code>.</p>\n",
       "<p>\n",
       "  If you're reading this message in the Jupyter Notebook or JupyterLab Notebook, it may mean\n",
       "  that the widgets JavaScript is still loading. If this message persists, it\n",
       "  likely means that the widgets JavaScript library is either not installed or\n",
       "  not enabled. See the <a href=\"https://ipywidgets.readthedocs.io/en/stable/user_install.html\">Jupyter\n",
       "  Widgets Documentation</a> for setup instructions.\n",
       "</p>\n",
       "<p>\n",
       "  If you're reading this message in another frontend (for example, a static\n",
       "  rendering on GitHub or <a href=\"https://nbviewer.jupyter.org/\">NBViewer</a>),\n",
       "  it may mean that your frontend doesn't currently support widgets.\n",
       "</p>\n"
      ],
      "text/plain": [
       "HBox(children=(IntProgress(value=0, description='Epoch', max=5), HTML(value='')))"
      ]
     },
     "metadata": {},
     "output_type": "display_data"
    },
    {
     "name": "stdout",
     "output_type": "stream",
     "text": [
      "epoch      trn_loss   val_loss                                                                                         \n",
      "    0      7.27401    1.014222  \n",
      "    1      7.061869   2.067131                                                                                         \n",
      "    2      6.817791   1.432975                                                                                         \n",
      "    3      6.619451   1.327675                                                                                         \n",
      "    4      6.398521   1.210383                                                                                         \n",
      "\n"
     ]
    },
    {
     "data": {
      "text/plain": [
       "[1.2103834]"
      ]
     },
     "execution_count": 28,
     "metadata": {},
     "output_type": "execute_result"
    }
   ],
   "source": [
    "fit(m, md, 5, opt, F.nll_loss)"
   ]
  },
  {
   "cell_type": "code",
   "execution_count": 29,
   "metadata": {
    "collapsed": true,
    "hidden": true
   },
   "outputs": [],
   "source": [
    "set_lrs(opt, 0.001)"
   ]
  },
  {
   "cell_type": "code",
   "execution_count": 30,
   "metadata": {
    "hidden": true
   },
   "outputs": [
    {
     "data": {
      "application/vnd.jupyter.widget-view+json": {
       "model_id": "d279eba62d4c42df913e63c379137718",
       "version_major": 2,
       "version_minor": 0
      },
      "text/html": [
       "<p>Failed to display Jupyter Widget of type <code>HBox</code>.</p>\n",
       "<p>\n",
       "  If you're reading this message in the Jupyter Notebook or JupyterLab Notebook, it may mean\n",
       "  that the widgets JavaScript is still loading. If this message persists, it\n",
       "  likely means that the widgets JavaScript library is either not installed or\n",
       "  not enabled. See the <a href=\"https://ipywidgets.readthedocs.io/en/stable/user_install.html\">Jupyter\n",
       "  Widgets Documentation</a> for setup instructions.\n",
       "</p>\n",
       "<p>\n",
       "  If you're reading this message in another frontend (for example, a static\n",
       "  rendering on GitHub or <a href=\"https://nbviewer.jupyter.org/\">NBViewer</a>),\n",
       "  it may mean that your frontend doesn't currently support widgets.\n",
       "</p>\n"
      ],
      "text/plain": [
       "HBox(children=(IntProgress(value=0, description='Epoch', max=5), HTML(value='')))"
      ]
     },
     "metadata": {},
     "output_type": "display_data"
    },
    {
     "name": "stdout",
     "output_type": "stream",
     "text": [
      "epoch      trn_loss   val_loss                                                                                         \n",
      "    0      5.134042   1.306654  \n",
      "    1      4.795378   1.256146                                                                                         \n",
      "    2      4.572484   1.190495                                                                                         \n",
      "    3      4.398297   1.221111                                                                                         \n",
      "    4      4.254784   1.288732                                                                                         \n",
      "\n"
     ]
    },
    {
     "data": {
      "text/plain": [
       "[1.2887316]"
      ]
     },
     "execution_count": 30,
     "metadata": {},
     "output_type": "execute_result"
    }
   ],
   "source": [
    "fit(m, md, 5, opt, F.nll_loss)"
   ]
  },
  {
   "cell_type": "markdown",
   "metadata": {
    "hidden": true
   },
   "source": [
    "### Test model"
   ]
  },
  {
   "cell_type": "code",
   "execution_count": 31,
   "metadata": {
    "collapsed": true,
    "hidden": true
   },
   "outputs": [],
   "source": [
    "def get_next(inp):\n",
    "    idxs = T(np.array([char_indices[c] for c in inp]))\n",
    "    p = m(*VV(idxs))\n",
    "    i = np.argmax(to_np(p))\n",
    "    return chars[i]"
   ]
  },
  {
   "cell_type": "code",
   "execution_count": 34,
   "metadata": {
    "hidden": true,
    "scrolled": false
   },
   "outputs": [
    {
     "data": {
      "text/plain": [
       "'常'"
      ]
     },
     "execution_count": 34,
     "metadata": {},
     "output_type": "execute_result"
    }
   ],
   "source": [
    "get_next('我一大')"
   ]
  },
  {
   "cell_type": "code",
   "execution_count": 35,
   "metadata": {
    "hidden": true,
    "scrolled": false
   },
   "outputs": [
    {
     "data": {
      "text/plain": [
       "'。'"
      ]
     },
     "execution_count": 35,
     "metadata": {},
     "output_type": "execute_result"
    }
   ],
   "source": [
    "get_next('等一等')"
   ]
  },
  {
   "cell_type": "code",
   "execution_count": 37,
   "metadata": {
    "hidden": true
   },
   "outputs": [
    {
     "data": {
      "text/plain": [
       "'，'"
      ]
     },
     "execution_count": 37,
     "metadata": {},
     "output_type": "execute_result"
    }
   ],
   "source": [
    "get_next('此一凡')"
   ]
  },
  {
   "cell_type": "code",
   "execution_count": 40,
   "metadata": {
    "hidden": true
   },
   "outputs": [
    {
     "data": {
      "text/plain": [
       "'首'"
      ]
     },
     "execution_count": 40,
     "metadata": {},
     "output_type": "execute_result"
    }
   ],
   "source": [
    "get_next('予事二')"
   ]
  },
  {
   "cell_type": "markdown",
   "metadata": {
    "heading_collapsed": true
   },
   "source": [
    "## Our first RNN!"
   ]
  },
  {
   "cell_type": "markdown",
   "metadata": {
    "hidden": true
   },
   "source": [
    "### Create inputs"
   ]
  },
  {
   "cell_type": "markdown",
   "metadata": {
    "hidden": true
   },
   "source": [
    "This is the size of our unrolled RNN."
   ]
  },
  {
   "cell_type": "code",
   "execution_count": 41,
   "metadata": {
    "collapsed": true,
    "hidden": true
   },
   "outputs": [],
   "source": [
    "cs=8"
   ]
  },
  {
   "cell_type": "markdown",
   "metadata": {
    "hidden": true
   },
   "source": [
    "For each of 0 through 7, create a list of every 8th character with that starting point. These will be the 8 inputs to out model."
   ]
  },
  {
   "cell_type": "code",
   "execution_count": 42,
   "metadata": {
    "collapsed": true,
    "hidden": true
   },
   "outputs": [],
   "source": [
    "c_in_dat = [[idx[i+j] for i in range(cs)] for j in range(len(idx)-cs)]"
   ]
  },
  {
   "cell_type": "markdown",
   "metadata": {
    "hidden": true
   },
   "source": [
    "Then create a list of the next character in each of these series. This will be the labels for our model."
   ]
  },
  {
   "cell_type": "code",
   "execution_count": 43,
   "metadata": {
    "collapsed": true,
    "hidden": true
   },
   "outputs": [],
   "source": [
    "c_out_dat = [idx[j+cs] for j in range(len(idx)-cs)]"
   ]
  },
  {
   "cell_type": "code",
   "execution_count": 44,
   "metadata": {
    "collapsed": true,
    "hidden": true
   },
   "outputs": [],
   "source": [
    "xs = np.stack(c_in_dat, axis=0)"
   ]
  },
  {
   "cell_type": "code",
   "execution_count": 45,
   "metadata": {
    "hidden": true
   },
   "outputs": [
    {
     "data": {
      "text/plain": [
       "(237305, 8)"
      ]
     },
     "execution_count": 45,
     "metadata": {},
     "output_type": "execute_result"
    }
   ],
   "source": [
    "xs.shape"
   ]
  },
  {
   "cell_type": "code",
   "execution_count": 46,
   "metadata": {
    "collapsed": true,
    "hidden": true
   },
   "outputs": [],
   "source": [
    "y = np.stack(c_out_dat)"
   ]
  },
  {
   "cell_type": "markdown",
   "metadata": {
    "hidden": true
   },
   "source": [
    "So each column below is one series of 8 characters from the text."
   ]
  },
  {
   "cell_type": "code",
   "execution_count": 47,
   "metadata": {
    "hidden": true
   },
   "outputs": [
    {
     "data": {
      "text/plain": [
       "array([[5066,    1,   30, 4196, 4369,  416,   35, 1723],\n",
       "       [   1,   30, 4196, 4369,  416,   35, 1723,  416],\n",
       "       [  30, 4196, 4369,  416,   35, 1723,  416,   65],\n",
       "       [4196, 4369,  416,   35, 1723,  416,   65, 1632],\n",
       "       [4369,  416,   35, 1723,  416,   65, 1632, 1631],\n",
       "       [ 416,   35, 1723,  416,   65, 1632, 1631, 3395],\n",
       "       [  35, 1723,  416,   65, 1632, 1631, 3395,  859],\n",
       "       [1723,  416,   65, 1632, 1631, 3395,  859, 2613]])"
      ]
     },
     "execution_count": 47,
     "metadata": {},
     "output_type": "execute_result"
    }
   ],
   "source": [
    "xs[:cs,:cs]"
   ]
  },
  {
   "cell_type": "markdown",
   "metadata": {
    "hidden": true
   },
   "source": [
    "...and this is the next character after each sequence."
   ]
  },
  {
   "cell_type": "code",
   "execution_count": 48,
   "metadata": {
    "hidden": true
   },
   "outputs": [
    {
     "data": {
      "text/plain": [
       "array([ 416,   65, 1632, 1631, 3395,  859, 2613,  333])"
      ]
     },
     "execution_count": 48,
     "metadata": {},
     "output_type": "execute_result"
    }
   ],
   "source": [
    "y[:cs]"
   ]
  },
  {
   "cell_type": "markdown",
   "metadata": {
    "hidden": true
   },
   "source": [
    "### Create and train model"
   ]
  },
  {
   "cell_type": "code",
   "execution_count": 49,
   "metadata": {
    "collapsed": true,
    "hidden": true
   },
   "outputs": [],
   "source": [
    "val_idx = get_cv_idxs(len(idx)-cs-1)"
   ]
  },
  {
   "cell_type": "code",
   "execution_count": 50,
   "metadata": {
    "collapsed": true,
    "hidden": true
   },
   "outputs": [],
   "source": [
    "md = ColumnarModelData.from_arrays('.', val_idx, xs, y, bs=512)"
   ]
  },
  {
   "cell_type": "code",
   "execution_count": 51,
   "metadata": {
    "collapsed": true,
    "hidden": true
   },
   "outputs": [],
   "source": [
    "class CharLoopModel(nn.Module):\n",
    "    # This is an RNN!\n",
    "    def __init__(self, vocab_size, n_fac):\n",
    "        super().__init__()\n",
    "        self.e = nn.Embedding(vocab_size, n_fac)\n",
    "        self.l_in = nn.Linear(n_fac, n_hidden)\n",
    "        self.l_hidden = nn.Linear(n_hidden, n_hidden)\n",
    "        self.l_out = nn.Linear(n_hidden, vocab_size)\n",
    "        \n",
    "    def forward(self, *cs):\n",
    "        bs = cs[0].size(0)\n",
    "        h = V(torch.zeros(bs, n_hidden).cuda())\n",
    "        for c in cs:\n",
    "            inp = F.relu(self.l_in(self.e(c)))\n",
    "            h = F.tanh(self.l_hidden(h+inp))\n",
    "        \n",
    "        return F.log_softmax(self.l_out(h), dim=-1)"
   ]
  },
  {
   "cell_type": "code",
   "execution_count": 52,
   "metadata": {
    "collapsed": true,
    "hidden": true
   },
   "outputs": [],
   "source": [
    "m = CharLoopModel(vocab_size, n_fac).cuda()\n",
    "opt = optim.Adam(m.parameters(), 1e-2)"
   ]
  },
  {
   "cell_type": "code",
   "execution_count": 53,
   "metadata": {
    "hidden": true
   },
   "outputs": [
    {
     "data": {
      "application/vnd.jupyter.widget-view+json": {
       "model_id": "e5339dfbef524f3dbe925d9b953c04a0",
       "version_major": 2,
       "version_minor": 0
      },
      "text/html": [
       "<p>Failed to display Jupyter Widget of type <code>HBox</code>.</p>\n",
       "<p>\n",
       "  If you're reading this message in the Jupyter Notebook or JupyterLab Notebook, it may mean\n",
       "  that the widgets JavaScript is still loading. If this message persists, it\n",
       "  likely means that the widgets JavaScript library is either not installed or\n",
       "  not enabled. See the <a href=\"https://ipywidgets.readthedocs.io/en/stable/user_install.html\">Jupyter\n",
       "  Widgets Documentation</a> for setup instructions.\n",
       "</p>\n",
       "<p>\n",
       "  If you're reading this message in another frontend (for example, a static\n",
       "  rendering on GitHub or <a href=\"https://nbviewer.jupyter.org/\">NBViewer</a>),\n",
       "  it may mean that your frontend doesn't currently support widgets.\n",
       "</p>\n"
      ],
      "text/plain": [
       "HBox(children=(IntProgress(value=0, description='Epoch', max=1), HTML(value='')))"
      ]
     },
     "metadata": {},
     "output_type": "display_data"
    },
    {
     "name": "stdout",
     "output_type": "stream",
     "text": [
      "epoch      trn_loss   val_loss                                                                                         \n",
      "    0      6.984252   6.948141  \n",
      "\n"
     ]
    },
    {
     "data": {
      "text/plain": [
       "[6.948141]"
      ]
     },
     "execution_count": 53,
     "metadata": {},
     "output_type": "execute_result"
    }
   ],
   "source": [
    "fit(m, md, 1, opt, F.nll_loss)"
   ]
  },
  {
   "cell_type": "code",
   "execution_count": 54,
   "metadata": {
    "collapsed": true,
    "hidden": true
   },
   "outputs": [],
   "source": [
    "set_lrs(opt, 0.001)"
   ]
  },
  {
   "cell_type": "code",
   "execution_count": 55,
   "metadata": {
    "hidden": true
   },
   "outputs": [
    {
     "data": {
      "application/vnd.jupyter.widget-view+json": {
       "model_id": "710e9992244f46f4b34c5a638bbfeb70",
       "version_major": 2,
       "version_minor": 0
      },
      "text/html": [
       "<p>Failed to display Jupyter Widget of type <code>HBox</code>.</p>\n",
       "<p>\n",
       "  If you're reading this message in the Jupyter Notebook or JupyterLab Notebook, it may mean\n",
       "  that the widgets JavaScript is still loading. If this message persists, it\n",
       "  likely means that the widgets JavaScript library is either not installed or\n",
       "  not enabled. See the <a href=\"https://ipywidgets.readthedocs.io/en/stable/user_install.html\">Jupyter\n",
       "  Widgets Documentation</a> for setup instructions.\n",
       "</p>\n",
       "<p>\n",
       "  If you're reading this message in another frontend (for example, a static\n",
       "  rendering on GitHub or <a href=\"https://nbviewer.jupyter.org/\">NBViewer</a>),\n",
       "  it may mean that your frontend doesn't currently support widgets.\n",
       "</p>\n"
      ],
      "text/plain": [
       "HBox(children=(IntProgress(value=0, description='Epoch', max=1), HTML(value='')))"
      ]
     },
     "metadata": {},
     "output_type": "display_data"
    },
    {
     "name": "stdout",
     "output_type": "stream",
     "text": [
      "epoch      trn_loss   val_loss                                                                                         \n",
      "    0      6.030232   6.178338  \n",
      "\n"
     ]
    },
    {
     "data": {
      "text/plain": [
       "[6.178338]"
      ]
     },
     "execution_count": 55,
     "metadata": {},
     "output_type": "execute_result"
    }
   ],
   "source": [
    "fit(m, md, 1, opt, F.nll_loss)"
   ]
  },
  {
   "cell_type": "code",
   "execution_count": 56,
   "metadata": {
    "collapsed": true,
    "hidden": true
   },
   "outputs": [],
   "source": [
    "class CharLoopConcatModel(nn.Module):\n",
    "    def __init__(self, vocab_size, n_fac):\n",
    "        super().__init__()\n",
    "        self.e = nn.Embedding(vocab_size, n_fac)\n",
    "        self.l_in = nn.Linear(n_fac+n_hidden, n_hidden)\n",
    "        self.l_hidden = nn.Linear(n_hidden, n_hidden)\n",
    "        self.l_out = nn.Linear(n_hidden, vocab_size)\n",
    "        \n",
    "    def forward(self, *cs):\n",
    "        bs = cs[0].size(0)\n",
    "        h = V(torch.zeros(bs, n_hidden).cuda())\n",
    "        for c in cs:\n",
    "            inp = torch.cat((h, self.e(c)), 1)\n",
    "            inp = F.relu(self.l_in(inp))\n",
    "            h = F.tanh(self.l_hidden(inp))\n",
    "        \n",
    "        return F.log_softmax(self.l_out(h), dim=-1)"
   ]
  },
  {
   "cell_type": "code",
   "execution_count": 57,
   "metadata": {
    "collapsed": true,
    "hidden": true
   },
   "outputs": [],
   "source": [
    "m = CharLoopConcatModel(vocab_size, n_fac).cuda()\n",
    "opt = optim.Adam(m.parameters(), 1e-3)"
   ]
  },
  {
   "cell_type": "code",
   "execution_count": 58,
   "metadata": {
    "collapsed": true,
    "hidden": true
   },
   "outputs": [],
   "source": [
    "it = iter(md.trn_dl)\n",
    "*xs,yt = next(it)\n",
    "t = m(*V(xs))"
   ]
  },
  {
   "cell_type": "code",
   "execution_count": 59,
   "metadata": {
    "hidden": true,
    "scrolled": false
   },
   "outputs": [
    {
     "data": {
      "application/vnd.jupyter.widget-view+json": {
       "model_id": "b9dde892718d4729a88d849900ca6392",
       "version_major": 2,
       "version_minor": 0
      },
      "text/html": [
       "<p>Failed to display Jupyter Widget of type <code>HBox</code>.</p>\n",
       "<p>\n",
       "  If you're reading this message in the Jupyter Notebook or JupyterLab Notebook, it may mean\n",
       "  that the widgets JavaScript is still loading. If this message persists, it\n",
       "  likely means that the widgets JavaScript library is either not installed or\n",
       "  not enabled. See the <a href=\"https://ipywidgets.readthedocs.io/en/stable/user_install.html\">Jupyter\n",
       "  Widgets Documentation</a> for setup instructions.\n",
       "</p>\n",
       "<p>\n",
       "  If you're reading this message in another frontend (for example, a static\n",
       "  rendering on GitHub or <a href=\"https://nbviewer.jupyter.org/\">NBViewer</a>),\n",
       "  it may mean that your frontend doesn't currently support widgets.\n",
       "</p>\n"
      ],
      "text/plain": [
       "HBox(children=(IntProgress(value=0, description='Epoch', max=1), HTML(value='')))"
      ]
     },
     "metadata": {},
     "output_type": "display_data"
    },
    {
     "name": "stdout",
     "output_type": "stream",
     "text": [
      "epoch      trn_loss   val_loss                                                                                         \n",
      "    0      6.629756   6.565658  \n",
      "\n"
     ]
    },
    {
     "data": {
      "text/plain": [
       "[6.565658]"
      ]
     },
     "execution_count": 59,
     "metadata": {},
     "output_type": "execute_result"
    }
   ],
   "source": [
    "fit(m, md, 1, opt, F.nll_loss)"
   ]
  },
  {
   "cell_type": "code",
   "execution_count": 60,
   "metadata": {
    "collapsed": true,
    "hidden": true
   },
   "outputs": [],
   "source": [
    "set_lrs(opt, 1e-4)"
   ]
  },
  {
   "cell_type": "code",
   "execution_count": 61,
   "metadata": {
    "hidden": true
   },
   "outputs": [
    {
     "data": {
      "application/vnd.jupyter.widget-view+json": {
       "model_id": "b4bb0412104142fdb95acd2aef0440f8",
       "version_major": 2,
       "version_minor": 0
      },
      "text/html": [
       "<p>Failed to display Jupyter Widget of type <code>HBox</code>.</p>\n",
       "<p>\n",
       "  If you're reading this message in the Jupyter Notebook or JupyterLab Notebook, it may mean\n",
       "  that the widgets JavaScript is still loading. If this message persists, it\n",
       "  likely means that the widgets JavaScript library is either not installed or\n",
       "  not enabled. See the <a href=\"https://ipywidgets.readthedocs.io/en/stable/user_install.html\">Jupyter\n",
       "  Widgets Documentation</a> for setup instructions.\n",
       "</p>\n",
       "<p>\n",
       "  If you're reading this message in another frontend (for example, a static\n",
       "  rendering on GitHub or <a href=\"https://nbviewer.jupyter.org/\">NBViewer</a>),\n",
       "  it may mean that your frontend doesn't currently support widgets.\n",
       "</p>\n"
      ],
      "text/plain": [
       "HBox(children=(IntProgress(value=0, description='Epoch', max=1), HTML(value='')))"
      ]
     },
     "metadata": {},
     "output_type": "display_data"
    },
    {
     "name": "stdout",
     "output_type": "stream",
     "text": [
      "epoch      trn_loss   val_loss                                                                                         \n",
      "    0      6.406258   6.425553  \n",
      "\n"
     ]
    },
    {
     "data": {
      "text/plain": [
       "[6.4255533]"
      ]
     },
     "execution_count": 61,
     "metadata": {},
     "output_type": "execute_result"
    }
   ],
   "source": [
    "fit(m, md, 1, opt, F.nll_loss)"
   ]
  },
  {
   "cell_type": "markdown",
   "metadata": {
    "hidden": true
   },
   "source": [
    "### Test model"
   ]
  },
  {
   "cell_type": "code",
   "execution_count": 62,
   "metadata": {
    "collapsed": true,
    "hidden": true
   },
   "outputs": [],
   "source": [
    "def get_next(inp):\n",
    "    idxs = T(np.array([char_indices[c] for c in inp]))\n",
    "    p = m(*VV(idxs))\n",
    "    i = np.argmax(to_np(p))\n",
    "    return chars[i]"
   ]
  },
  {
   "cell_type": "code",
   "execution_count": 64,
   "metadata": {
    "hidden": true
   },
   "outputs": [
    {
     "data": {
      "text/plain": [
       "'。'"
      ]
     },
     "execution_count": 64,
     "metadata": {},
     "output_type": "execute_result"
    }
   ],
   "source": [
    "get_next('一直到天色灰沉')"
   ]
  },
  {
   "cell_type": "code",
   "execution_count": 67,
   "metadata": {
    "hidden": true
   },
   "outputs": [
    {
     "data": {
      "text/plain": [
       "'。'"
      ]
     },
     "execution_count": 67,
     "metadata": {},
     "output_type": "execute_result"
    }
   ],
   "source": [
    "get_next('恭喜發財身體健')"
   ]
  },
  {
   "cell_type": "markdown",
   "metadata": {
    "collapsed": true,
    "heading_collapsed": true
   },
   "source": [
    "## RNN with pytorch"
   ]
  },
  {
   "cell_type": "code",
   "execution_count": 68,
   "metadata": {
    "collapsed": true,
    "hidden": true
   },
   "outputs": [],
   "source": [
    "class CharRnn(nn.Module):\n",
    "    def __init__(self, vocab_size, n_fac):\n",
    "        super().__init__()\n",
    "        self.e = nn.Embedding(vocab_size, n_fac)\n",
    "        self.rnn = nn.RNN(n_fac, n_hidden)\n",
    "        self.l_out = nn.Linear(n_hidden, vocab_size)\n",
    "        \n",
    "    def forward(self, *cs):\n",
    "        bs = cs[0].size(0)\n",
    "        h = V(torch.zeros(1, bs, n_hidden))\n",
    "        inp = self.e(torch.stack(cs))\n",
    "        outp,h = self.rnn(inp, h)\n",
    "        \n",
    "        return F.log_softmax(self.l_out(outp[-1]), dim=-1)"
   ]
  },
  {
   "cell_type": "code",
   "execution_count": 69,
   "metadata": {
    "collapsed": true,
    "hidden": true
   },
   "outputs": [],
   "source": [
    "m = CharRnn(vocab_size, n_fac).cuda()\n",
    "opt = optim.Adam(m.parameters(), 1e-3)"
   ]
  },
  {
   "cell_type": "code",
   "execution_count": 70,
   "metadata": {
    "collapsed": true,
    "hidden": true
   },
   "outputs": [],
   "source": [
    "it = iter(md.trn_dl)\n",
    "*xs,yt = next(it)"
   ]
  },
  {
   "cell_type": "code",
   "execution_count": 71,
   "metadata": {
    "hidden": true
   },
   "outputs": [
    {
     "data": {
      "text/plain": [
       "torch.Size([8, 512, 42])"
      ]
     },
     "execution_count": 71,
     "metadata": {},
     "output_type": "execute_result"
    }
   ],
   "source": [
    "t = m.e(V(torch.stack(xs)))\n",
    "t.size()"
   ]
  },
  {
   "cell_type": "code",
   "execution_count": 72,
   "metadata": {
    "hidden": true
   },
   "outputs": [
    {
     "data": {
      "text/plain": [
       "(torch.Size([8, 512, 256]), torch.Size([1, 512, 256]))"
      ]
     },
     "execution_count": 72,
     "metadata": {},
     "output_type": "execute_result"
    }
   ],
   "source": [
    "ht = V(torch.zeros(1, 512,n_hidden))\n",
    "outp, hn = m.rnn(t, ht)\n",
    "outp.size(), hn.size()"
   ]
  },
  {
   "cell_type": "code",
   "execution_count": 73,
   "metadata": {
    "hidden": true
   },
   "outputs": [
    {
     "data": {
      "text/plain": [
       "torch.Size([512, 5076])"
      ]
     },
     "execution_count": 73,
     "metadata": {},
     "output_type": "execute_result"
    }
   ],
   "source": [
    "t = m(*V(xs)); t.size()"
   ]
  },
  {
   "cell_type": "code",
   "execution_count": 74,
   "metadata": {
    "hidden": true,
    "scrolled": false
   },
   "outputs": [
    {
     "data": {
      "application/vnd.jupyter.widget-view+json": {
       "model_id": "ecf11cd102a14f898158c9437e812362",
       "version_major": 2,
       "version_minor": 0
      },
      "text/html": [
       "<p>Failed to display Jupyter Widget of type <code>HBox</code>.</p>\n",
       "<p>\n",
       "  If you're reading this message in the Jupyter Notebook or JupyterLab Notebook, it may mean\n",
       "  that the widgets JavaScript is still loading. If this message persists, it\n",
       "  likely means that the widgets JavaScript library is either not installed or\n",
       "  not enabled. See the <a href=\"https://ipywidgets.readthedocs.io/en/stable/user_install.html\">Jupyter\n",
       "  Widgets Documentation</a> for setup instructions.\n",
       "</p>\n",
       "<p>\n",
       "  If you're reading this message in another frontend (for example, a static\n",
       "  rendering on GitHub or <a href=\"https://nbviewer.jupyter.org/\">NBViewer</a>),\n",
       "  it may mean that your frontend doesn't currently support widgets.\n",
       "</p>\n"
      ],
      "text/plain": [
       "HBox(children=(IntProgress(value=0, description='Epoch', max=4), HTML(value='')))"
      ]
     },
     "metadata": {},
     "output_type": "display_data"
    },
    {
     "name": "stdout",
     "output_type": "stream",
     "text": [
      "epoch      trn_loss   val_loss                                                                                         \n",
      "    0      6.197723   6.148125  \n",
      "    1      5.918771   5.95801                                                                                          \n",
      "    2      5.706629   5.860617                                                                                         \n",
      "    3      5.523365   5.798117                                                                                         \n",
      "\n"
     ]
    },
    {
     "data": {
      "text/plain": [
       "[5.798117]"
      ]
     },
     "execution_count": 74,
     "metadata": {},
     "output_type": "execute_result"
    }
   ],
   "source": [
    "fit(m, md, 4, opt, F.nll_loss)"
   ]
  },
  {
   "cell_type": "code",
   "execution_count": 75,
   "metadata": {
    "collapsed": true,
    "hidden": true
   },
   "outputs": [],
   "source": [
    "set_lrs(opt, 1e-4)"
   ]
  },
  {
   "cell_type": "code",
   "execution_count": 76,
   "metadata": {
    "hidden": true
   },
   "outputs": [
    {
     "data": {
      "application/vnd.jupyter.widget-view+json": {
       "model_id": "d091240b5d79498b96e7185d6aedd1e6",
       "version_major": 2,
       "version_minor": 0
      },
      "text/html": [
       "<p>Failed to display Jupyter Widget of type <code>HBox</code>.</p>\n",
       "<p>\n",
       "  If you're reading this message in the Jupyter Notebook or JupyterLab Notebook, it may mean\n",
       "  that the widgets JavaScript is still loading. If this message persists, it\n",
       "  likely means that the widgets JavaScript library is either not installed or\n",
       "  not enabled. See the <a href=\"https://ipywidgets.readthedocs.io/en/stable/user_install.html\">Jupyter\n",
       "  Widgets Documentation</a> for setup instructions.\n",
       "</p>\n",
       "<p>\n",
       "  If you're reading this message in another frontend (for example, a static\n",
       "  rendering on GitHub or <a href=\"https://nbviewer.jupyter.org/\">NBViewer</a>),\n",
       "  it may mean that your frontend doesn't currently support widgets.\n",
       "</p>\n"
      ],
      "text/plain": [
       "HBox(children=(IntProgress(value=0, description='Epoch', max=2), HTML(value='')))"
      ]
     },
     "metadata": {},
     "output_type": "display_data"
    },
    {
     "name": "stdout",
     "output_type": "stream",
     "text": [
      "epoch      trn_loss   val_loss                                                                                         \n",
      "    0      5.219604   5.771392  \n",
      "    1      5.193476   5.764883                                                                                         \n",
      "\n"
     ]
    },
    {
     "data": {
      "text/plain": [
       "[5.764883]"
      ]
     },
     "execution_count": 76,
     "metadata": {},
     "output_type": "execute_result"
    }
   ],
   "source": [
    "fit(m, md, 2, opt, F.nll_loss)"
   ]
  },
  {
   "cell_type": "markdown",
   "metadata": {
    "hidden": true
   },
   "source": [
    "### Test model"
   ]
  },
  {
   "cell_type": "code",
   "execution_count": 77,
   "metadata": {
    "collapsed": true,
    "hidden": true
   },
   "outputs": [],
   "source": [
    "def get_next(inp):\n",
    "    idxs = T(np.array([char_indices[c] for c in inp]))\n",
    "    p = m(*VV(idxs))\n",
    "    i = np.argmax(to_np(p))\n",
    "    return chars[i]"
   ]
  },
  {
   "cell_type": "code",
   "execution_count": 78,
   "metadata": {
    "hidden": true
   },
   "outputs": [
    {
     "data": {
      "text/plain": [
       "'山'"
      ]
     },
     "execution_count": 78,
     "metadata": {},
     "output_type": "execute_result"
    }
   ],
   "source": [
    "get_next('急性')"
   ]
  },
  {
   "cell_type": "code",
   "execution_count": 79,
   "metadata": {
    "collapsed": true,
    "hidden": true
   },
   "outputs": [],
   "source": [
    "def get_next_n(inp, n):\n",
    "    res = inp\n",
    "    for i in range(n):\n",
    "        c = get_next(inp)\n",
    "        res += c\n",
    "        inp = inp[1:]+c\n",
    "    return res"
   ]
  },
  {
   "cell_type": "code",
   "execution_count": 82,
   "metadata": {
    "hidden": true
   },
   "outputs": [
    {
     "data": {
      "text/plain": [
       "'予事，不復識詩全集卷二十'"
      ]
     },
     "execution_count": 82,
     "metadata": {},
     "output_type": "execute_result"
    }
   ],
   "source": [
    "get_next_n('予事', 10)"
   ]
  },
  {
   "cell_type": "code",
   "execution_count": 83,
   "metadata": {
    "hidden": true
   },
   "outputs": [
    {
     "data": {
      "text/plain": [
       "'急性山川，未暇年來此詩，此身，但恐我亦何妨，但恐我亦何妨，但恐我'"
      ]
     },
     "execution_count": 83,
     "metadata": {},
     "output_type": "execute_result"
    }
   ],
   "source": [
    "get_next_n('急性', 30)"
   ]
  },
  {
   "cell_type": "markdown",
   "metadata": {
    "collapsed": true,
    "heading_collapsed": true
   },
   "source": [
    "## Multi-output model"
   ]
  },
  {
   "cell_type": "markdown",
   "metadata": {
    "hidden": true
   },
   "source": [
    "### Setup"
   ]
  },
  {
   "cell_type": "markdown",
   "metadata": {
    "hidden": true
   },
   "source": [
    "Let's take non-overlapping sets of characters this time"
   ]
  },
  {
   "cell_type": "code",
   "execution_count": 84,
   "metadata": {
    "collapsed": true,
    "hidden": true
   },
   "outputs": [],
   "source": [
    "c_in_dat = [[idx[i+j] for i in range(cs)] for j in range(0, len(idx)-cs-1, cs)]"
   ]
  },
  {
   "cell_type": "markdown",
   "metadata": {
    "hidden": true
   },
   "source": [
    "Then create the exact same thing, offset by 1, as our labels"
   ]
  },
  {
   "cell_type": "code",
   "execution_count": 85,
   "metadata": {
    "collapsed": true,
    "hidden": true
   },
   "outputs": [],
   "source": [
    "c_out_dat = [[idx[i+j] for i in range(cs)] for j in range(1, len(idx)-cs, cs)]"
   ]
  },
  {
   "cell_type": "code",
   "execution_count": 86,
   "metadata": {
    "hidden": true
   },
   "outputs": [
    {
     "data": {
      "text/plain": [
       "(29663, 8)"
      ]
     },
     "execution_count": 86,
     "metadata": {},
     "output_type": "execute_result"
    }
   ],
   "source": [
    "xs = np.stack(c_in_dat)\n",
    "xs.shape"
   ]
  },
  {
   "cell_type": "code",
   "execution_count": 87,
   "metadata": {
    "hidden": true
   },
   "outputs": [
    {
     "data": {
      "text/plain": [
       "(29663, 8)"
      ]
     },
     "execution_count": 87,
     "metadata": {},
     "output_type": "execute_result"
    }
   ],
   "source": [
    "ys = np.stack(c_out_dat)\n",
    "ys.shape"
   ]
  },
  {
   "cell_type": "code",
   "execution_count": 88,
   "metadata": {
    "hidden": true
   },
   "outputs": [
    {
     "data": {
      "text/plain": [
       "array([[5066,    1,   30, 4196, 4369,  416,   35, 1723],\n",
       "       [ 416,   65, 1632, 1631, 3395,  859, 2613,  333],\n",
       "       [1616, 4337, 1039, 3842, 4485,   58,  748, 4751],\n",
       "       [  40, 4049, 3897,   35, 2997,  908,   58,   31],\n",
       "       [   1,   42, 4715, 3325, 2373, 4363,  264,  264],\n",
       "       [5070, 1993, 1208, 1049, 4236, 1999, 4641, 2680],\n",
       "       [  26, 1999,   92, 2496, 3384, 1220, 1112, 4511],\n",
       "       [5070,   97, 1361,  137,  109, 1323,  907,  917]])"
      ]
     },
     "execution_count": 88,
     "metadata": {},
     "output_type": "execute_result"
    }
   ],
   "source": [
    "xs[:cs,:cs]"
   ]
  },
  {
   "cell_type": "code",
   "execution_count": 89,
   "metadata": {
    "hidden": true
   },
   "outputs": [
    {
     "data": {
      "text/plain": [
       "array([[   1,   30, 4196, 4369,  416,   35, 1723,  416],\n",
       "       [  65, 1632, 1631, 3395,  859, 2613,  333, 1616],\n",
       "       [4337, 1039, 3842, 4485,   58,  748, 4751,   40],\n",
       "       [4049, 3897,   35, 2997,  908,   58,   31,    1],\n",
       "       [  42, 4715, 3325, 2373, 4363,  264,  264, 5070],\n",
       "       [1993, 1208, 1049, 4236, 1999, 4641, 2680,   26],\n",
       "       [1999,   92, 2496, 3384, 1220, 1112, 4511, 5070],\n",
       "       [  97, 1361,  137,  109, 1323,  907,  917,   26]])"
      ]
     },
     "execution_count": 89,
     "metadata": {},
     "output_type": "execute_result"
    }
   ],
   "source": [
    "ys[:cs,:cs]"
   ]
  },
  {
   "cell_type": "markdown",
   "metadata": {
    "hidden": true
   },
   "source": [
    "### Create and train model"
   ]
  },
  {
   "cell_type": "code",
   "execution_count": 90,
   "metadata": {
    "collapsed": true,
    "hidden": true
   },
   "outputs": [],
   "source": [
    "val_idx = get_cv_idxs(len(xs)-cs-1)"
   ]
  },
  {
   "cell_type": "code",
   "execution_count": 91,
   "metadata": {
    "collapsed": true,
    "hidden": true
   },
   "outputs": [],
   "source": [
    "md = ColumnarModelData.from_arrays('.', val_idx, xs, ys, bs=512)"
   ]
  },
  {
   "cell_type": "code",
   "execution_count": 92,
   "metadata": {
    "collapsed": true,
    "hidden": true
   },
   "outputs": [],
   "source": [
    "class CharSeqRnn(nn.Module):\n",
    "    def __init__(self, vocab_size, n_fac):\n",
    "        super().__init__()\n",
    "        self.e = nn.Embedding(vocab_size, n_fac)\n",
    "        self.rnn = nn.RNN(n_fac, n_hidden)\n",
    "        self.l_out = nn.Linear(n_hidden, vocab_size)\n",
    "        \n",
    "    def forward(self, *cs):\n",
    "        bs = cs[0].size(0)\n",
    "        h = V(torch.zeros(1, bs, n_hidden))\n",
    "        inp = self.e(torch.stack(cs))\n",
    "        outp,h = self.rnn(inp, h)\n",
    "        return F.log_softmax(self.l_out(outp), dim=-1)"
   ]
  },
  {
   "cell_type": "code",
   "execution_count": 93,
   "metadata": {
    "collapsed": true,
    "hidden": true
   },
   "outputs": [],
   "source": [
    "m = CharSeqRnn(vocab_size, n_fac).cuda()\n",
    "opt = optim.Adam(m.parameters(), 1e-3)"
   ]
  },
  {
   "cell_type": "code",
   "execution_count": 94,
   "metadata": {
    "collapsed": true,
    "hidden": true
   },
   "outputs": [],
   "source": [
    "it = iter(md.trn_dl)\n",
    "*xst,yt = next(it)"
   ]
  },
  {
   "cell_type": "code",
   "execution_count": 95,
   "metadata": {
    "collapsed": true,
    "hidden": true
   },
   "outputs": [],
   "source": [
    "def nll_loss_seq(inp, targ):\n",
    "    sl,bs,nh = inp.size()\n",
    "    targ = targ.transpose(0,1).contiguous().view(-1)\n",
    "    return F.nll_loss(inp.view(-1,nh), targ)"
   ]
  },
  {
   "cell_type": "code",
   "execution_count": 96,
   "metadata": {
    "hidden": true,
    "scrolled": false
   },
   "outputs": [
    {
     "data": {
      "application/vnd.jupyter.widget-view+json": {
       "model_id": "d8c3172af92443c3973ea3aaf293d4ed",
       "version_major": 2,
       "version_minor": 0
      },
      "text/html": [
       "<p>Failed to display Jupyter Widget of type <code>HBox</code>.</p>\n",
       "<p>\n",
       "  If you're reading this message in the Jupyter Notebook or JupyterLab Notebook, it may mean\n",
       "  that the widgets JavaScript is still loading. If this message persists, it\n",
       "  likely means that the widgets JavaScript library is either not installed or\n",
       "  not enabled. See the <a href=\"https://ipywidgets.readthedocs.io/en/stable/user_install.html\">Jupyter\n",
       "  Widgets Documentation</a> for setup instructions.\n",
       "</p>\n",
       "<p>\n",
       "  If you're reading this message in another frontend (for example, a static\n",
       "  rendering on GitHub or <a href=\"https://nbviewer.jupyter.org/\">NBViewer</a>),\n",
       "  it may mean that your frontend doesn't currently support widgets.\n",
       "</p>\n"
      ],
      "text/plain": [
       "HBox(children=(IntProgress(value=0, description='Epoch', max=4), HTML(value='')))"
      ]
     },
     "metadata": {},
     "output_type": "display_data"
    },
    {
     "name": "stdout",
     "output_type": "stream",
     "text": [
      "epoch      trn_loss   val_loss                                                                                         \n",
      "    0      7.135257   6.813327  \n",
      "    1      6.836601   6.67459                                                                                          \n",
      "    2      6.682877   6.587859                                                                                         \n",
      "    3      6.571463   6.520045                                                                                         \n",
      "\n"
     ]
    },
    {
     "data": {
      "text/plain": [
       "[6.520045]"
      ]
     },
     "execution_count": 96,
     "metadata": {},
     "output_type": "execute_result"
    }
   ],
   "source": [
    "fit(m, md, 4, opt, nll_loss_seq)"
   ]
  },
  {
   "cell_type": "code",
   "execution_count": 97,
   "metadata": {
    "collapsed": true,
    "hidden": true
   },
   "outputs": [],
   "source": [
    "set_lrs(opt, 1e-4)"
   ]
  },
  {
   "cell_type": "code",
   "execution_count": 98,
   "metadata": {
    "hidden": true
   },
   "outputs": [
    {
     "data": {
      "application/vnd.jupyter.widget-view+json": {
       "model_id": "bf2ee3fa52c84cf4bdb441b72d795479",
       "version_major": 2,
       "version_minor": 0
      },
      "text/html": [
       "<p>Failed to display Jupyter Widget of type <code>HBox</code>.</p>\n",
       "<p>\n",
       "  If you're reading this message in the Jupyter Notebook or JupyterLab Notebook, it may mean\n",
       "  that the widgets JavaScript is still loading. If this message persists, it\n",
       "  likely means that the widgets JavaScript library is either not installed or\n",
       "  not enabled. See the <a href=\"https://ipywidgets.readthedocs.io/en/stable/user_install.html\">Jupyter\n",
       "  Widgets Documentation</a> for setup instructions.\n",
       "</p>\n",
       "<p>\n",
       "  If you're reading this message in another frontend (for example, a static\n",
       "  rendering on GitHub or <a href=\"https://nbviewer.jupyter.org/\">NBViewer</a>),\n",
       "  it may mean that your frontend doesn't currently support widgets.\n",
       "</p>\n"
      ],
      "text/plain": [
       "HBox(children=(IntProgress(value=0, description='Epoch', max=1), HTML(value='')))"
      ]
     },
     "metadata": {},
     "output_type": "display_data"
    },
    {
     "name": "stdout",
     "output_type": "stream",
     "text": [
      "epoch      trn_loss   val_loss                                                                                         \n",
      "    0      6.430997   6.495611  \n",
      "\n"
     ]
    },
    {
     "data": {
      "text/plain": [
       "[6.495611]"
      ]
     },
     "execution_count": 98,
     "metadata": {},
     "output_type": "execute_result"
    }
   ],
   "source": [
    "fit(m, md, 1, opt, nll_loss_seq)"
   ]
  },
  {
   "cell_type": "markdown",
   "metadata": {
    "hidden": true
   },
   "source": [
    "### Identity init!"
   ]
  },
  {
   "cell_type": "code",
   "execution_count": 99,
   "metadata": {
    "collapsed": true,
    "hidden": true
   },
   "outputs": [],
   "source": [
    "m = CharSeqRnn(vocab_size, n_fac).cuda()\n",
    "opt = optim.Adam(m.parameters(), 1e-2)"
   ]
  },
  {
   "cell_type": "code",
   "execution_count": 100,
   "metadata": {
    "hidden": true
   },
   "outputs": [
    {
     "data": {
      "text/plain": [
       "\n",
       "    1     0     0  ...      0     0     0\n",
       "    0     1     0  ...      0     0     0\n",
       "    0     0     1  ...      0     0     0\n",
       "       ...          ⋱          ...       \n",
       "    0     0     0  ...      1     0     0\n",
       "    0     0     0  ...      0     1     0\n",
       "    0     0     0  ...      0     0     1\n",
       "[torch.cuda.FloatTensor of size 256x256 (GPU 0)]"
      ]
     },
     "execution_count": 100,
     "metadata": {},
     "output_type": "execute_result"
    }
   ],
   "source": [
    "m.rnn.weight_hh_l0.data.copy_(torch.eye(n_hidden))"
   ]
  },
  {
   "cell_type": "code",
   "execution_count": 101,
   "metadata": {
    "hidden": true,
    "scrolled": false
   },
   "outputs": [
    {
     "data": {
      "application/vnd.jupyter.widget-view+json": {
       "model_id": "90fd4effb7ff49f69e3c92d9971f7386",
       "version_major": 2,
       "version_minor": 0
      },
      "text/html": [
       "<p>Failed to display Jupyter Widget of type <code>HBox</code>.</p>\n",
       "<p>\n",
       "  If you're reading this message in the Jupyter Notebook or JupyterLab Notebook, it may mean\n",
       "  that the widgets JavaScript is still loading. If this message persists, it\n",
       "  likely means that the widgets JavaScript library is either not installed or\n",
       "  not enabled. See the <a href=\"https://ipywidgets.readthedocs.io/en/stable/user_install.html\">Jupyter\n",
       "  Widgets Documentation</a> for setup instructions.\n",
       "</p>\n",
       "<p>\n",
       "  If you're reading this message in another frontend (for example, a static\n",
       "  rendering on GitHub or <a href=\"https://nbviewer.jupyter.org/\">NBViewer</a>),\n",
       "  it may mean that your frontend doesn't currently support widgets.\n",
       "</p>\n"
      ],
      "text/plain": [
       "HBox(children=(IntProgress(value=0, description='Epoch', max=4), HTML(value='')))"
      ]
     },
     "metadata": {},
     "output_type": "display_data"
    },
    {
     "name": "stdout",
     "output_type": "stream",
     "text": [
      "epoch      trn_loss   val_loss                                                                                         \n",
      "    0      6.998294   6.873904  \n",
      "    1      6.799324   6.734665                                                                                         \n",
      "    2      6.615573   6.573322                                                                                         \n",
      "    3      6.412263   6.400746                                                                                         \n",
      "\n"
     ]
    },
    {
     "data": {
      "text/plain": [
       "[6.400746]"
      ]
     },
     "execution_count": 101,
     "metadata": {},
     "output_type": "execute_result"
    }
   ],
   "source": [
    "fit(m, md, 4, opt, nll_loss_seq)"
   ]
  },
  {
   "cell_type": "code",
   "execution_count": 102,
   "metadata": {
    "collapsed": true,
    "hidden": true
   },
   "outputs": [],
   "source": [
    "set_lrs(opt, 1e-3)"
   ]
  },
  {
   "cell_type": "code",
   "execution_count": 103,
   "metadata": {
    "hidden": true
   },
   "outputs": [
    {
     "data": {
      "application/vnd.jupyter.widget-view+json": {
       "model_id": "97e3d97d669a426ea8ae44a32fc85b2a",
       "version_major": 2,
       "version_minor": 0
      },
      "text/html": [
       "<p>Failed to display Jupyter Widget of type <code>HBox</code>.</p>\n",
       "<p>\n",
       "  If you're reading this message in the Jupyter Notebook or JupyterLab Notebook, it may mean\n",
       "  that the widgets JavaScript is still loading. If this message persists, it\n",
       "  likely means that the widgets JavaScript library is either not installed or\n",
       "  not enabled. See the <a href=\"https://ipywidgets.readthedocs.io/en/stable/user_install.html\">Jupyter\n",
       "  Widgets Documentation</a> for setup instructions.\n",
       "</p>\n",
       "<p>\n",
       "  If you're reading this message in another frontend (for example, a static\n",
       "  rendering on GitHub or <a href=\"https://nbviewer.jupyter.org/\">NBViewer</a>),\n",
       "  it may mean that your frontend doesn't currently support widgets.\n",
       "</p>\n"
      ],
      "text/plain": [
       "HBox(children=(IntProgress(value=0, description='Epoch', max=4), HTML(value='')))"
      ]
     },
     "metadata": {},
     "output_type": "display_data"
    },
    {
     "name": "stdout",
     "output_type": "stream",
     "text": [
      "epoch      trn_loss   val_loss                                                                                         \n",
      "    0      5.932524   6.213053  \n",
      "    1      5.868279   6.187963                                                                                         \n",
      "    2      5.818639   6.169723                                                                                         \n",
      "    3      5.770109   6.150766                                                                                         \n",
      "\n"
     ]
    },
    {
     "data": {
      "text/plain": [
       "[6.150766]"
      ]
     },
     "execution_count": 103,
     "metadata": {},
     "output_type": "execute_result"
    }
   ],
   "source": [
    "fit(m, md, 4, opt, nll_loss_seq)"
   ]
  },
  {
   "cell_type": "markdown",
   "metadata": {},
   "source": [
    "## Stateful model"
   ]
  },
  {
   "cell_type": "markdown",
   "metadata": {
    "heading_collapsed": true
   },
   "source": [
    "### Setup"
   ]
  },
  {
   "cell_type": "code",
   "execution_count": 124,
   "metadata": {
    "hidden": true
   },
   "outputs": [
    {
     "name": "stdout",
     "output_type": "stream",
     "text": [
      "\n",
      "    Warning: no model found for 'en'\n",
      "\n",
      "    Only loading the 'en' tokenizer.\n",
      "\n"
     ]
    }
   ],
   "source": [
    "import spacy\n",
    "nlp = spacy.load('en') \n",
    "#nlp = spacy.load('en_core_web_sm')\n",
    "#nlp = spacy.load('en_core_web_sm-1.2.0')\n",
    "\n",
    "#import en_core_web_md"
   ]
  },
  {
   "cell_type": "code",
   "execution_count": 125,
   "metadata": {
    "collapsed": true,
    "hidden": true
   },
   "outputs": [],
   "source": [
    "from torchtext import vocab, data\n",
    "\n",
    "from fastai.nlp import *\n",
    "from fastai.lm_rnn import *"
   ]
  },
  {
   "cell_type": "code",
   "execution_count": 127,
   "metadata": {
    "collapsed": true,
    "hidden": true
   },
   "outputs": [],
   "source": [
    "\n",
    "\n",
    "#from spacy.lang.zh import Chinese\n",
    "#nlp = Chinese()"
   ]
  },
  {
   "cell_type": "code",
   "execution_count": 128,
   "metadata": {
    "collapsed": true,
    "hidden": true
   },
   "outputs": [],
   "source": [
    "PATH = 'C://Users/sarad/Documents/fastai/courses/dl1/data/SuShi/SuShi.txt'\n",
    "\n",
    "TRN_PATH = file\n",
    "VAL_PATH = file\n",
    "TRN = file\n",
    "VAL = file\n",
    "\n",
    "#%ls {PATH}"
   ]
  },
  {
   "cell_type": "code",
   "execution_count": 129,
   "metadata": {
    "hidden": true
   },
   "outputs": [
    {
     "name": "stderr",
     "output_type": "stream",
     "text": [
      "Invalid switch - \"/\".\n"
     ]
    }
   ],
   "source": [
    "%ls {PATH}"
   ]
  },
  {
   "cell_type": "code",
   "execution_count": 130,
   "metadata": {
    "hidden": true
   },
   "outputs": [
    {
     "data": {
      "text/plain": [
       "(445, 3698, 1, 228479)"
      ]
     },
     "execution_count": 130,
     "metadata": {},
     "output_type": "execute_result"
    }
   ],
   "source": [
    "TEXT = data.Field(lower=True, tokenize=list)\n",
    "bs=64; bptt=8; n_fac=42; n_hidden=256\n",
    "\n",
    "FILES = dict(train=TRN_PATH, validation=VAL_PATH, test=VAL_PATH)\n",
    "md = LanguageModelData.from_text_files(PATH, TEXT, **FILES, bs=bs, bptt=bptt, min_freq=3)\n",
    "\n",
    "len(md.trn_dl), md.nt, len(md.trn_ds), len(md.trn_ds[0].text)"
   ]
  },
  {
   "cell_type": "code",
   "execution_count": 131,
   "metadata": {
    "collapsed": true,
    "hidden": true
   },
   "outputs": [],
   "source": [
    "??LanguageModelData"
   ]
  },
  {
   "cell_type": "markdown",
   "metadata": {
    "heading_collapsed": true
   },
   "source": [
    "### RNN"
   ]
  },
  {
   "cell_type": "code",
   "execution_count": 132,
   "metadata": {
    "collapsed": true,
    "hidden": true
   },
   "outputs": [],
   "source": [
    "class CharSeqStatefulRnn(nn.Module):\n",
    "    def __init__(self, vocab_size, n_fac, bs):\n",
    "        self.vocab_size = vocab_size\n",
    "        super().__init__()\n",
    "        self.e = nn.Embedding(vocab_size, n_fac)\n",
    "        self.rnn = nn.RNN(n_fac, n_hidden)\n",
    "        self.l_out = nn.Linear(n_hidden, vocab_size)\n",
    "        self.init_hidden(bs)\n",
    "        \n",
    "    def forward(self, cs):\n",
    "        bs = cs[0].size(0)\n",
    "        if self.h.size(1) != bs: self.init_hidden(bs)\n",
    "        outp,h = self.rnn(self.e(cs), self.h)\n",
    "        self.h = repackage_var(h)\n",
    "        return F.log_softmax(self.l_out(outp), dim=-1).view(-1, self.vocab_size)\n",
    "    \n",
    "    def init_hidden(self, bs): self.h = V(torch.zeros(1, bs, n_hidden))"
   ]
  },
  {
   "cell_type": "code",
   "execution_count": 133,
   "metadata": {
    "collapsed": true,
    "hidden": true
   },
   "outputs": [],
   "source": [
    "m = CharSeqStatefulRnn(md.nt, n_fac, 512).cuda()\n",
    "opt = optim.Adam(m.parameters(), 1e-3)"
   ]
  },
  {
   "cell_type": "code",
   "execution_count": 134,
   "metadata": {
    "hidden": true,
    "scrolled": false
   },
   "outputs": [
    {
     "data": {
      "application/vnd.jupyter.widget-view+json": {
       "model_id": "d76a511b3db74cde941ae1617e17a5b4",
       "version_major": 2,
       "version_minor": 0
      },
      "text/html": [
       "<p>Failed to display Jupyter Widget of type <code>HBox</code>.</p>\n",
       "<p>\n",
       "  If you're reading this message in the Jupyter Notebook or JupyterLab Notebook, it may mean\n",
       "  that the widgets JavaScript is still loading. If this message persists, it\n",
       "  likely means that the widgets JavaScript library is either not installed or\n",
       "  not enabled. See the <a href=\"https://ipywidgets.readthedocs.io/en/stable/user_install.html\">Jupyter\n",
       "  Widgets Documentation</a> for setup instructions.\n",
       "</p>\n",
       "<p>\n",
       "  If you're reading this message in another frontend (for example, a static\n",
       "  rendering on GitHub or <a href=\"https://nbviewer.jupyter.org/\">NBViewer</a>),\n",
       "  it may mean that your frontend doesn't currently support widgets.\n",
       "</p>\n"
      ],
      "text/plain": [
       "HBox(children=(IntProgress(value=0, description='Epoch', max=4), HTML(value='')))"
      ]
     },
     "metadata": {},
     "output_type": "display_data"
    },
    {
     "name": "stdout",
     "output_type": "stream",
     "text": [
      "epoch      trn_loss   val_loss                                                                                         \n",
      "    0      6.098327   6.006408  \n",
      "    1      5.766559   5.658784                                                                                         \n",
      "    2      5.545071   5.419169                                                                                         \n",
      "    3      5.324456   5.232852                                                                                         \n",
      "\n"
     ]
    },
    {
     "data": {
      "text/plain": [
       "[5.2328515]"
      ]
     },
     "execution_count": 134,
     "metadata": {},
     "output_type": "execute_result"
    }
   ],
   "source": [
    "fit(m, md, 4, opt, F.nll_loss)"
   ]
  },
  {
   "cell_type": "code",
   "execution_count": 135,
   "metadata": {
    "hidden": true
   },
   "outputs": [
    {
     "data": {
      "application/vnd.jupyter.widget-view+json": {
       "model_id": "c92cd4666fca412291daf85b26c4c34d",
       "version_major": 2,
       "version_minor": 0
      },
      "text/html": [
       "<p>Failed to display Jupyter Widget of type <code>HBox</code>.</p>\n",
       "<p>\n",
       "  If you're reading this message in the Jupyter Notebook or JupyterLab Notebook, it may mean\n",
       "  that the widgets JavaScript is still loading. If this message persists, it\n",
       "  likely means that the widgets JavaScript library is either not installed or\n",
       "  not enabled. See the <a href=\"https://ipywidgets.readthedocs.io/en/stable/user_install.html\">Jupyter\n",
       "  Widgets Documentation</a> for setup instructions.\n",
       "</p>\n",
       "<p>\n",
       "  If you're reading this message in another frontend (for example, a static\n",
       "  rendering on GitHub or <a href=\"https://nbviewer.jupyter.org/\">NBViewer</a>),\n",
       "  it may mean that your frontend doesn't currently support widgets.\n",
       "</p>\n"
      ],
      "text/plain": [
       "HBox(children=(IntProgress(value=0, description='Epoch', max=4), HTML(value='')))"
      ]
     },
     "metadata": {},
     "output_type": "display_data"
    },
    {
     "name": "stdout",
     "output_type": "stream",
     "text": [
      "epoch      trn_loss   val_loss                                                                                         \n",
      "    0      5.06208    5.153009  \n",
      "    1      5.062025   5.127876                                                                                         \n",
      "    2      5.024437   5.106846                                                                                         \n",
      "    3      5.040597   5.088375                                                                                         \n",
      "\n"
     ]
    },
    {
     "data": {
      "application/vnd.jupyter.widget-view+json": {
       "model_id": "ce131628ce7540868766708bf7e974dd",
       "version_major": 2,
       "version_minor": 0
      },
      "text/html": [
       "<p>Failed to display Jupyter Widget of type <code>HBox</code>.</p>\n",
       "<p>\n",
       "  If you're reading this message in the Jupyter Notebook or JupyterLab Notebook, it may mean\n",
       "  that the widgets JavaScript is still loading. If this message persists, it\n",
       "  likely means that the widgets JavaScript library is either not installed or\n",
       "  not enabled. See the <a href=\"https://ipywidgets.readthedocs.io/en/stable/user_install.html\">Jupyter\n",
       "  Widgets Documentation</a> for setup instructions.\n",
       "</p>\n",
       "<p>\n",
       "  If you're reading this message in another frontend (for example, a static\n",
       "  rendering on GitHub or <a href=\"https://nbviewer.jupyter.org/\">NBViewer</a>),\n",
       "  it may mean that your frontend doesn't currently support widgets.\n",
       "</p>\n"
      ],
      "text/plain": [
       "HBox(children=(IntProgress(value=0, description='Epoch', max=4), HTML(value='')))"
      ]
     },
     "metadata": {},
     "output_type": "display_data"
    },
    {
     "name": "stdout",
     "output_type": "stream",
     "text": [
      "epoch      trn_loss   val_loss                                                                                         \n",
      "    0      5.028587   5.069773  \n",
      "    1      5.008036   5.050532                                                                                         \n",
      "    2      4.987772   5.036982                                                                                         \n",
      "    3      4.977088   5.016352                                                                                         \n",
      "\n"
     ]
    },
    {
     "data": {
      "application/vnd.jupyter.widget-view+json": {
       "model_id": "55d3116cdf4d43a895007c066e1fe965",
       "version_major": 2,
       "version_minor": 0
      },
      "text/html": [
       "<p>Failed to display Jupyter Widget of type <code>HBox</code>.</p>\n",
       "<p>\n",
       "  If you're reading this message in the Jupyter Notebook or JupyterLab Notebook, it may mean\n",
       "  that the widgets JavaScript is still loading. If this message persists, it\n",
       "  likely means that the widgets JavaScript library is either not installed or\n",
       "  not enabled. See the <a href=\"https://ipywidgets.readthedocs.io/en/stable/user_install.html\">Jupyter\n",
       "  Widgets Documentation</a> for setup instructions.\n",
       "</p>\n",
       "<p>\n",
       "  If you're reading this message in another frontend (for example, a static\n",
       "  rendering on GitHub or <a href=\"https://nbviewer.jupyter.org/\">NBViewer</a>),\n",
       "  it may mean that your frontend doesn't currently support widgets.\n",
       "</p>\n"
      ],
      "text/plain": [
       "HBox(children=(IntProgress(value=0, description='Epoch', max=4), HTML(value='')))"
      ]
     },
     "metadata": {},
     "output_type": "display_data"
    },
    {
     "name": "stdout",
     "output_type": "stream",
     "text": [
      "epoch      trn_loss   val_loss                                                                                         \n",
      "    0      4.932723   4.998403  \n",
      "    1      4.945692   4.98021                                                                                          \n",
      "    2      4.942671   4.970663                                                                                         \n",
      "    3      4.914395   4.949049                                                                                         \n",
      "\n"
     ]
    },
    {
     "data": {
      "application/vnd.jupyter.widget-view+json": {
       "model_id": "90f05200358240dd9a5029454c042212",
       "version_major": 2,
       "version_minor": 0
      },
      "text/html": [
       "<p>Failed to display Jupyter Widget of type <code>HBox</code>.</p>\n",
       "<p>\n",
       "  If you're reading this message in the Jupyter Notebook or JupyterLab Notebook, it may mean\n",
       "  that the widgets JavaScript is still loading. If this message persists, it\n",
       "  likely means that the widgets JavaScript library is either not installed or\n",
       "  not enabled. See the <a href=\"https://ipywidgets.readthedocs.io/en/stable/user_install.html\">Jupyter\n",
       "  Widgets Documentation</a> for setup instructions.\n",
       "</p>\n",
       "<p>\n",
       "  If you're reading this message in another frontend (for example, a static\n",
       "  rendering on GitHub or <a href=\"https://nbviewer.jupyter.org/\">NBViewer</a>),\n",
       "  it may mean that your frontend doesn't currently support widgets.\n",
       "</p>\n"
      ],
      "text/plain": [
       "HBox(children=(IntProgress(value=0, description='Epoch', max=4), HTML(value='')))"
      ]
     },
     "metadata": {},
     "output_type": "display_data"
    },
    {
     "name": "stdout",
     "output_type": "stream",
     "text": [
      "epoch      trn_loss   val_loss                                                                                         \n",
      "    0      4.901569   4.936237  \n",
      "    1      4.870619   4.916993                                                                                         \n",
      "    2      4.872973   4.903101                                                                                         \n",
      "    3      4.862384   4.886934                                                                                         \n",
      "\n"
     ]
    },
    {
     "data": {
      "application/vnd.jupyter.widget-view+json": {
       "model_id": "ab736adb2abe4bff8662f62be7e66b4f",
       "version_major": 2,
       "version_minor": 0
      },
      "text/html": [
       "<p>Failed to display Jupyter Widget of type <code>HBox</code>.</p>\n",
       "<p>\n",
       "  If you're reading this message in the Jupyter Notebook or JupyterLab Notebook, it may mean\n",
       "  that the widgets JavaScript is still loading. If this message persists, it\n",
       "  likely means that the widgets JavaScript library is either not installed or\n",
       "  not enabled. See the <a href=\"https://ipywidgets.readthedocs.io/en/stable/user_install.html\">Jupyter\n",
       "  Widgets Documentation</a> for setup instructions.\n",
       "</p>\n",
       "<p>\n",
       "  If you're reading this message in another frontend (for example, a static\n",
       "  rendering on GitHub or <a href=\"https://nbviewer.jupyter.org/\">NBViewer</a>),\n",
       "  it may mean that your frontend doesn't currently support widgets.\n",
       "</p>\n"
      ],
      "text/plain": [
       "HBox(children=(IntProgress(value=0, description='Epoch', max=4), HTML(value='')))"
      ]
     },
     "metadata": {},
     "output_type": "display_data"
    },
    {
     "name": "stdout",
     "output_type": "stream",
     "text": [
      "epoch      trn_loss   val_loss                                                                                         \n",
      "    0      4.839276   4.864014  \n",
      "    1      4.849626   4.85479                                                                                          \n",
      "    2      4.822561   4.840415                                                                                         \n",
      "    3      4.803782   4.832864                                                                                         \n",
      "\n"
     ]
    },
    {
     "data": {
      "application/vnd.jupyter.widget-view+json": {
       "model_id": "216e462e9945402f84bad9e5f88ca06c",
       "version_major": 2,
       "version_minor": 0
      },
      "text/html": [
       "<p>Failed to display Jupyter Widget of type <code>HBox</code>.</p>\n",
       "<p>\n",
       "  If you're reading this message in the Jupyter Notebook or JupyterLab Notebook, it may mean\n",
       "  that the widgets JavaScript is still loading. If this message persists, it\n",
       "  likely means that the widgets JavaScript library is either not installed or\n",
       "  not enabled. See the <a href=\"https://ipywidgets.readthedocs.io/en/stable/user_install.html\">Jupyter\n",
       "  Widgets Documentation</a> for setup instructions.\n",
       "</p>\n",
       "<p>\n",
       "  If you're reading this message in another frontend (for example, a static\n",
       "  rendering on GitHub or <a href=\"https://nbviewer.jupyter.org/\">NBViewer</a>),\n",
       "  it may mean that your frontend doesn't currently support widgets.\n",
       "</p>\n"
      ],
      "text/plain": [
       "HBox(children=(IntProgress(value=0, description='Epoch', max=4), HTML(value='')))"
      ]
     },
     "metadata": {},
     "output_type": "display_data"
    },
    {
     "name": "stdout",
     "output_type": "stream",
     "text": [
      "epoch      trn_loss   val_loss                                                                                         \n",
      "    0      4.79973    4.813143  \n",
      "    1      4.778301   4.803526                                                                                         \n",
      "    2      4.773802   4.783237                                                                                         \n",
      "    3      4.725565   4.772972                                                                                         \n",
      "\n"
     ]
    },
    {
     "data": {
      "application/vnd.jupyter.widget-view+json": {
       "model_id": "6064c8905673417c9216da4b2b2ada0f",
       "version_major": 2,
       "version_minor": 0
      },
      "text/html": [
       "<p>Failed to display Jupyter Widget of type <code>HBox</code>.</p>\n",
       "<p>\n",
       "  If you're reading this message in the Jupyter Notebook or JupyterLab Notebook, it may mean\n",
       "  that the widgets JavaScript is still loading. If this message persists, it\n",
       "  likely means that the widgets JavaScript library is either not installed or\n",
       "  not enabled. See the <a href=\"https://ipywidgets.readthedocs.io/en/stable/user_install.html\">Jupyter\n",
       "  Widgets Documentation</a> for setup instructions.\n",
       "</p>\n",
       "<p>\n",
       "  If you're reading this message in another frontend (for example, a static\n",
       "  rendering on GitHub or <a href=\"https://nbviewer.jupyter.org/\">NBViewer</a>),\n",
       "  it may mean that your frontend doesn't currently support widgets.\n",
       "</p>\n"
      ],
      "text/plain": [
       "HBox(children=(IntProgress(value=0, description='Epoch', max=4), HTML(value='')))"
      ]
     },
     "metadata": {},
     "output_type": "display_data"
    },
    {
     "name": "stdout",
     "output_type": "stream",
     "text": [
      "epoch      trn_loss   val_loss                                                                                         \n",
      "    0      4.748817   4.758426  \n",
      "    1      4.733264   4.74334                                                                                          \n",
      "    2      4.708388   4.732416                                                                                         \n",
      "    3      4.702018   4.721746                                                                                         \n",
      "\n"
     ]
    },
    {
     "data": {
      "application/vnd.jupyter.widget-view+json": {
       "model_id": "fc649c8365f745d3a0a511ed7e45ba6d",
       "version_major": 2,
       "version_minor": 0
      },
      "text/html": [
       "<p>Failed to display Jupyter Widget of type <code>HBox</code>.</p>\n",
       "<p>\n",
       "  If you're reading this message in the Jupyter Notebook or JupyterLab Notebook, it may mean\n",
       "  that the widgets JavaScript is still loading. If this message persists, it\n",
       "  likely means that the widgets JavaScript library is either not installed or\n",
       "  not enabled. See the <a href=\"https://ipywidgets.readthedocs.io/en/stable/user_install.html\">Jupyter\n",
       "  Widgets Documentation</a> for setup instructions.\n",
       "</p>\n",
       "<p>\n",
       "  If you're reading this message in another frontend (for example, a static\n",
       "  rendering on GitHub or <a href=\"https://nbviewer.jupyter.org/\">NBViewer</a>),\n",
       "  it may mean that your frontend doesn't currently support widgets.\n",
       "</p>\n"
      ],
      "text/plain": [
       "HBox(children=(IntProgress(value=0, description='Epoch', max=4), HTML(value='')))"
      ]
     },
     "metadata": {},
     "output_type": "display_data"
    },
    {
     "name": "stdout",
     "output_type": "stream",
     "text": [
      "epoch      trn_loss   val_loss                                                                                         \n",
      "    0      4.684811   4.711418  \n",
      "    1      4.688835   4.693983                                                                                         \n",
      "    2      4.672451   4.683557                                                                                         \n",
      "    3      4.653609   4.675121                                                                                         \n",
      "\n",
      "19.4 s ± 250 ms per loop (mean ± std. dev. of 7 runs, 1 loop each)\n"
     ]
    }
   ],
   "source": [
    "set_lrs(opt, 1e-4)\n",
    "\n",
    "%timeit fit(m, md, 4, opt, F.nll_loss)"
   ]
  },
  {
   "cell_type": "markdown",
   "metadata": {
    "heading_collapsed": true
   },
   "source": [
    "### RNN loop"
   ]
  },
  {
   "cell_type": "code",
   "execution_count": 136,
   "metadata": {
    "collapsed": true,
    "hidden": true
   },
   "outputs": [],
   "source": [
    "# From the pytorch source\n",
    "\n",
    "def RNNCell(input, hidden, w_ih, w_hh, b_ih, b_hh):\n",
    "    return F.tanh(F.linear(input, w_ih, b_ih) + F.linear(hidden, w_hh, b_hh))"
   ]
  },
  {
   "cell_type": "code",
   "execution_count": 137,
   "metadata": {
    "collapsed": true,
    "hidden": true
   },
   "outputs": [],
   "source": [
    "class CharSeqStatefulRnn2(nn.Module):\n",
    "    def __init__(self, vocab_size, n_fac, bs):\n",
    "        super().__init__()\n",
    "        self.vocab_size = vocab_size\n",
    "        self.e = nn.Embedding(vocab_size, n_fac)\n",
    "        self.rnn = nn.RNNCell(n_fac, n_hidden)\n",
    "        self.l_out = nn.Linear(n_hidden, vocab_size)\n",
    "        self.init_hidden(bs)\n",
    "        \n",
    "    def forward(self, cs):\n",
    "        bs = cs[0].size(0)\n",
    "        if self.h.size(1) != bs: self.init_hidden(bs)\n",
    "        outp = []\n",
    "        o = self.h\n",
    "        for c in cs: \n",
    "            o = self.rnn(self.e(c), o)\n",
    "            outp.append(o)\n",
    "        outp = self.l_out(torch.stack(outp))\n",
    "        self.h = repackage_var(o)\n",
    "        return F.log_softmax(outp, dim=-1).view(-1, self.vocab_size)\n",
    "    \n",
    "    def init_hidden(self, bs): self.h = V(torch.zeros(1, bs, n_hidden))"
   ]
  },
  {
   "cell_type": "code",
   "execution_count": 138,
   "metadata": {
    "collapsed": true,
    "hidden": true
   },
   "outputs": [],
   "source": [
    "m = CharSeqStatefulRnn2(md.nt, n_fac, 512).cuda()\n",
    "opt = optim.Adam(m.parameters(), 1e-3)"
   ]
  },
  {
   "cell_type": "code",
   "execution_count": 139,
   "metadata": {
    "hidden": true,
    "scrolled": false
   },
   "outputs": [
    {
     "data": {
      "application/vnd.jupyter.widget-view+json": {
       "model_id": "b8a75d4be7144fc2b4d9422a3a792db8",
       "version_major": 2,
       "version_minor": 0
      },
      "text/html": [
       "<p>Failed to display Jupyter Widget of type <code>HBox</code>.</p>\n",
       "<p>\n",
       "  If you're reading this message in the Jupyter Notebook or JupyterLab Notebook, it may mean\n",
       "  that the widgets JavaScript is still loading. If this message persists, it\n",
       "  likely means that the widgets JavaScript library is either not installed or\n",
       "  not enabled. See the <a href=\"https://ipywidgets.readthedocs.io/en/stable/user_install.html\">Jupyter\n",
       "  Widgets Documentation</a> for setup instructions.\n",
       "</p>\n",
       "<p>\n",
       "  If you're reading this message in another frontend (for example, a static\n",
       "  rendering on GitHub or <a href=\"https://nbviewer.jupyter.org/\">NBViewer</a>),\n",
       "  it may mean that your frontend doesn't currently support widgets.\n",
       "</p>\n"
      ],
      "text/plain": [
       "HBox(children=(IntProgress(value=0, description='Epoch', max=4), HTML(value='')))"
      ]
     },
     "metadata": {},
     "output_type": "display_data"
    },
    {
     "name": "stdout",
     "output_type": "stream",
     "text": [
      "epoch      trn_loss   val_loss                                                                                         \n",
      "    0      6.091781   5.975792  \n",
      "    1      5.748205   5.642408                                                                                         \n",
      "    2      5.515157   5.394542                                                                                         \n",
      "    3      5.348775   5.201637                                                                                         \n",
      "\n"
     ]
    },
    {
     "data": {
      "text/plain": [
       "[5.201637]"
      ]
     },
     "execution_count": 139,
     "metadata": {},
     "output_type": "execute_result"
    }
   ],
   "source": [
    "fit(m, md, 4, opt, F.nll_loss)"
   ]
  },
  {
   "cell_type": "markdown",
   "metadata": {
    "heading_collapsed": true
   },
   "source": [
    "### GRU"
   ]
  },
  {
   "cell_type": "code",
   "execution_count": 140,
   "metadata": {
    "collapsed": true,
    "hidden": true
   },
   "outputs": [],
   "source": [
    "class CharSeqStatefulGRU(nn.Module):\n",
    "    def __init__(self, vocab_size, n_fac, bs):\n",
    "        super().__init__()\n",
    "        self.vocab_size = vocab_size\n",
    "        self.e = nn.Embedding(vocab_size, n_fac)\n",
    "        self.rnn = nn.GRU(n_fac, n_hidden)\n",
    "        self.l_out = nn.Linear(n_hidden, vocab_size)\n",
    "        self.init_hidden(bs)\n",
    "        \n",
    "    def forward(self, cs):\n",
    "        bs = cs[0].size(0)\n",
    "        if self.h.size(1) != bs: self.init_hidden(bs)\n",
    "        outp,h = self.rnn(self.e(cs), self.h)\n",
    "        self.h = repackage_var(h)\n",
    "        return F.log_softmax(self.l_out(outp), dim=-1).view(-1, self.vocab_size)\n",
    "    \n",
    "    def init_hidden(self, bs): self.h = V(torch.zeros(1, bs, n_hidden))"
   ]
  },
  {
   "cell_type": "code",
   "execution_count": 141,
   "metadata": {
    "collapsed": true,
    "hidden": true
   },
   "outputs": [],
   "source": [
    "# From the pytorch source code - for reference\n",
    "\n",
    "def GRUCell(input, hidden, w_ih, w_hh, b_ih, b_hh):\n",
    "    gi = F.linear(input, w_ih, b_ih)\n",
    "    gh = F.linear(hidden, w_hh, b_hh)\n",
    "    i_r, i_i, i_n = gi.chunk(3, 1)\n",
    "    h_r, h_i, h_n = gh.chunk(3, 1)\n",
    "\n",
    "    resetgate = F.sigmoid(i_r + h_r)\n",
    "    inputgate = F.sigmoid(i_i + h_i)\n",
    "    newgate = F.tanh(i_n + resetgate * h_n)\n",
    "    return newgate + inputgate * (hidden - newgate)"
   ]
  },
  {
   "cell_type": "code",
   "execution_count": 142,
   "metadata": {
    "collapsed": true,
    "hidden": true
   },
   "outputs": [],
   "source": [
    "m = CharSeqStatefulGRU(md.nt, n_fac, 512).cuda()\n",
    "\n",
    "opt = optim.Adam(m.parameters(), 1e-3)"
   ]
  },
  {
   "cell_type": "code",
   "execution_count": 143,
   "metadata": {
    "hidden": true,
    "scrolled": false
   },
   "outputs": [
    {
     "data": {
      "application/vnd.jupyter.widget-view+json": {
       "model_id": "9170ac280dee45e08136d79197d5c891",
       "version_major": 2,
       "version_minor": 0
      },
      "text/html": [
       "<p>Failed to display Jupyter Widget of type <code>HBox</code>.</p>\n",
       "<p>\n",
       "  If you're reading this message in the Jupyter Notebook or JupyterLab Notebook, it may mean\n",
       "  that the widgets JavaScript is still loading. If this message persists, it\n",
       "  likely means that the widgets JavaScript library is either not installed or\n",
       "  not enabled. See the <a href=\"https://ipywidgets.readthedocs.io/en/stable/user_install.html\">Jupyter\n",
       "  Widgets Documentation</a> for setup instructions.\n",
       "</p>\n",
       "<p>\n",
       "  If you're reading this message in another frontend (for example, a static\n",
       "  rendering on GitHub or <a href=\"https://nbviewer.jupyter.org/\">NBViewer</a>),\n",
       "  it may mean that your frontend doesn't currently support widgets.\n",
       "</p>\n"
      ],
      "text/plain": [
       "HBox(children=(IntProgress(value=0, description='Epoch', max=6), HTML(value='')))"
      ]
     },
     "metadata": {},
     "output_type": "display_data"
    },
    {
     "name": "stdout",
     "output_type": "stream",
     "text": [
      "epoch      trn_loss   val_loss                                                                                         \n",
      "    0      6.066504   5.915525  \n",
      "    1      5.674269   5.56004                                                                                          \n",
      "    2      5.41742    5.261218                                                                                         \n",
      "    3      5.18545    5.060897                                                                                         \n",
      "    4      5.026189   4.863071                                                                                         \n",
      "    5      4.840787   4.706044                                                                                         \n",
      "\n"
     ]
    },
    {
     "data": {
      "application/vnd.jupyter.widget-view+json": {
       "model_id": "fa2e52bfefa34ec8acdfdf789d5ef69d",
       "version_major": 2,
       "version_minor": 0
      },
      "text/html": [
       "<p>Failed to display Jupyter Widget of type <code>HBox</code>.</p>\n",
       "<p>\n",
       "  If you're reading this message in the Jupyter Notebook or JupyterLab Notebook, it may mean\n",
       "  that the widgets JavaScript is still loading. If this message persists, it\n",
       "  likely means that the widgets JavaScript library is either not installed or\n",
       "  not enabled. See the <a href=\"https://ipywidgets.readthedocs.io/en/stable/user_install.html\">Jupyter\n",
       "  Widgets Documentation</a> for setup instructions.\n",
       "</p>\n",
       "<p>\n",
       "  If you're reading this message in another frontend (for example, a static\n",
       "  rendering on GitHub or <a href=\"https://nbviewer.jupyter.org/\">NBViewer</a>),\n",
       "  it may mean that your frontend doesn't currently support widgets.\n",
       "</p>\n"
      ],
      "text/plain": [
       "HBox(children=(IntProgress(value=0, description='Epoch', max=6), HTML(value='')))"
      ]
     },
     "metadata": {},
     "output_type": "display_data"
    },
    {
     "name": "stdout",
     "output_type": "stream",
     "text": [
      "epoch      trn_loss   val_loss                                                                                         \n",
      "    0      4.71677    4.566166  \n",
      "    1      4.550214   4.435846                                                                                         \n",
      "    2      4.390211   4.305636                                                                                         \n",
      "    3      4.283414   4.205716                                                                                         \n",
      "    4      4.159799   4.095462                                                                                         \n",
      "    5      4.076872   3.983641                                                                                         \n",
      "\n"
     ]
    },
    {
     "data": {
      "application/vnd.jupyter.widget-view+json": {
       "model_id": "ed1264d668d9408f84b71f7e04ba9578",
       "version_major": 2,
       "version_minor": 0
      },
      "text/html": [
       "<p>Failed to display Jupyter Widget of type <code>HBox</code>.</p>\n",
       "<p>\n",
       "  If you're reading this message in the Jupyter Notebook or JupyterLab Notebook, it may mean\n",
       "  that the widgets JavaScript is still loading. If this message persists, it\n",
       "  likely means that the widgets JavaScript library is either not installed or\n",
       "  not enabled. See the <a href=\"https://ipywidgets.readthedocs.io/en/stable/user_install.html\">Jupyter\n",
       "  Widgets Documentation</a> for setup instructions.\n",
       "</p>\n",
       "<p>\n",
       "  If you're reading this message in another frontend (for example, a static\n",
       "  rendering on GitHub or <a href=\"https://nbviewer.jupyter.org/\">NBViewer</a>),\n",
       "  it may mean that your frontend doesn't currently support widgets.\n",
       "</p>\n"
      ],
      "text/plain": [
       "HBox(children=(IntProgress(value=0, description='Epoch', max=6), HTML(value='')))"
      ]
     },
     "metadata": {},
     "output_type": "display_data"
    },
    {
     "name": "stdout",
     "output_type": "stream",
     "text": [
      "epoch      trn_loss   val_loss                                                                                         \n",
      "    0      3.941508   3.890654  \n",
      "    1      3.855432   3.801905                                                                                         \n",
      "    2      3.763802   3.73024                                                                                          \n",
      "    3      3.6728     3.645109                                                                                         \n",
      "    4      3.628562   3.574921                                                                                         \n",
      "    5      3.549238   3.518466                                                                                         \n",
      "\n"
     ]
    },
    {
     "data": {
      "application/vnd.jupyter.widget-view+json": {
       "model_id": "a1e2df2c2cff4f3fbc8fa08255901657",
       "version_major": 2,
       "version_minor": 0
      },
      "text/html": [
       "<p>Failed to display Jupyter Widget of type <code>HBox</code>.</p>\n",
       "<p>\n",
       "  If you're reading this message in the Jupyter Notebook or JupyterLab Notebook, it may mean\n",
       "  that the widgets JavaScript is still loading. If this message persists, it\n",
       "  likely means that the widgets JavaScript library is either not installed or\n",
       "  not enabled. See the <a href=\"https://ipywidgets.readthedocs.io/en/stable/user_install.html\">Jupyter\n",
       "  Widgets Documentation</a> for setup instructions.\n",
       "</p>\n",
       "<p>\n",
       "  If you're reading this message in another frontend (for example, a static\n",
       "  rendering on GitHub or <a href=\"https://nbviewer.jupyter.org/\">NBViewer</a>),\n",
       "  it may mean that your frontend doesn't currently support widgets.\n",
       "</p>\n"
      ],
      "text/plain": [
       "HBox(children=(IntProgress(value=0, description='Epoch', max=6), HTML(value='')))"
      ]
     },
     "metadata": {},
     "output_type": "display_data"
    },
    {
     "name": "stdout",
     "output_type": "stream",
     "text": [
      "epoch      trn_loss   val_loss                                                                                         \n",
      "    0      3.476291   3.441355  \n",
      "    1      3.389695   3.377501                                                                                         \n",
      "    2      3.366952   3.320648                                                                                         \n",
      "    3      3.310434   3.307586                                                                                         \n",
      "    4      3.235456   3.240342                                                                                         \n",
      "    5      3.185139   3.193704                                                                                         \n",
      "\n"
     ]
    },
    {
     "data": {
      "application/vnd.jupyter.widget-view+json": {
       "model_id": "5e6ff86688ba42e3bfcb324ae9e64275",
       "version_major": 2,
       "version_minor": 0
      },
      "text/html": [
       "<p>Failed to display Jupyter Widget of type <code>HBox</code>.</p>\n",
       "<p>\n",
       "  If you're reading this message in the Jupyter Notebook or JupyterLab Notebook, it may mean\n",
       "  that the widgets JavaScript is still loading. If this message persists, it\n",
       "  likely means that the widgets JavaScript library is either not installed or\n",
       "  not enabled. See the <a href=\"https://ipywidgets.readthedocs.io/en/stable/user_install.html\">Jupyter\n",
       "  Widgets Documentation</a> for setup instructions.\n",
       "</p>\n",
       "<p>\n",
       "  If you're reading this message in another frontend (for example, a static\n",
       "  rendering on GitHub or <a href=\"https://nbviewer.jupyter.org/\">NBViewer</a>),\n",
       "  it may mean that your frontend doesn't currently support widgets.\n",
       "</p>\n"
      ],
      "text/plain": [
       "HBox(children=(IntProgress(value=0, description='Epoch', max=6), HTML(value='')))"
      ]
     },
     "metadata": {},
     "output_type": "display_data"
    },
    {
     "name": "stdout",
     "output_type": "stream",
     "text": [
      "epoch      trn_loss   val_loss                                                                                         \n",
      "    0      3.146376   3.171534  \n",
      "    1      3.097533   3.117482                                                                                         \n",
      "    2      3.032565   3.086309                                                                                         \n",
      "    3      3.023336   3.047725                                                                                         \n",
      "    4      2.9666     3.016329                                                                                         \n",
      "    5      2.932522   2.979317                                                                                         \n",
      "\n"
     ]
    },
    {
     "data": {
      "application/vnd.jupyter.widget-view+json": {
       "model_id": "2b7672f34f954f3a895be52fe6f6019e",
       "version_major": 2,
       "version_minor": 0
      },
      "text/html": [
       "<p>Failed to display Jupyter Widget of type <code>HBox</code>.</p>\n",
       "<p>\n",
       "  If you're reading this message in the Jupyter Notebook or JupyterLab Notebook, it may mean\n",
       "  that the widgets JavaScript is still loading. If this message persists, it\n",
       "  likely means that the widgets JavaScript library is either not installed or\n",
       "  not enabled. See the <a href=\"https://ipywidgets.readthedocs.io/en/stable/user_install.html\">Jupyter\n",
       "  Widgets Documentation</a> for setup instructions.\n",
       "</p>\n",
       "<p>\n",
       "  If you're reading this message in another frontend (for example, a static\n",
       "  rendering on GitHub or <a href=\"https://nbviewer.jupyter.org/\">NBViewer</a>),\n",
       "  it may mean that your frontend doesn't currently support widgets.\n",
       "</p>\n"
      ],
      "text/plain": [
       "HBox(children=(IntProgress(value=0, description='Epoch', max=6), HTML(value='')))"
      ]
     },
     "metadata": {},
     "output_type": "display_data"
    },
    {
     "name": "stdout",
     "output_type": "stream",
     "text": [
      "epoch      trn_loss   val_loss                                                                                         \n",
      "    0      2.909336   2.954999  \n",
      "    1      2.853991   2.929542                                                                                         \n",
      "    2      2.850746   2.903054                                                                                         \n",
      "    3      2.829871   2.888196                                                                                         \n",
      "    4      2.77677    2.859377                                                                                         \n",
      "    5      2.774796   2.822279                                                                                         \n",
      "\n"
     ]
    },
    {
     "data": {
      "application/vnd.jupyter.widget-view+json": {
       "model_id": "9eb9941a77aa4024963f3b6f86c03065",
       "version_major": 2,
       "version_minor": 0
      },
      "text/html": [
       "<p>Failed to display Jupyter Widget of type <code>HBox</code>.</p>\n",
       "<p>\n",
       "  If you're reading this message in the Jupyter Notebook or JupyterLab Notebook, it may mean\n",
       "  that the widgets JavaScript is still loading. If this message persists, it\n",
       "  likely means that the widgets JavaScript library is either not installed or\n",
       "  not enabled. See the <a href=\"https://ipywidgets.readthedocs.io/en/stable/user_install.html\">Jupyter\n",
       "  Widgets Documentation</a> for setup instructions.\n",
       "</p>\n",
       "<p>\n",
       "  If you're reading this message in another frontend (for example, a static\n",
       "  rendering on GitHub or <a href=\"https://nbviewer.jupyter.org/\">NBViewer</a>),\n",
       "  it may mean that your frontend doesn't currently support widgets.\n",
       "</p>\n"
      ],
      "text/plain": [
       "HBox(children=(IntProgress(value=0, description='Epoch', max=6), HTML(value='')))"
      ]
     },
     "metadata": {},
     "output_type": "display_data"
    },
    {
     "name": "stdout",
     "output_type": "stream",
     "text": [
      "epoch      trn_loss   val_loss                                                                                         \n",
      "    0      2.714619   2.799456  \n",
      "    1      2.741952   2.800181                                                                                         \n",
      "    2      2.717779   2.775222                                                                                         \n",
      "    3      2.670951   2.761652                                                                                         \n",
      "    4      2.642206   2.73935                                                                                          \n",
      "    5      2.654712   2.724295                                                                                         \n",
      "\n"
     ]
    },
    {
     "data": {
      "application/vnd.jupyter.widget-view+json": {
       "model_id": "9adf3e1b55104b78b3b6eda47321f263",
       "version_major": 2,
       "version_minor": 0
      },
      "text/html": [
       "<p>Failed to display Jupyter Widget of type <code>HBox</code>.</p>\n",
       "<p>\n",
       "  If you're reading this message in the Jupyter Notebook or JupyterLab Notebook, it may mean\n",
       "  that the widgets JavaScript is still loading. If this message persists, it\n",
       "  likely means that the widgets JavaScript library is either not installed or\n",
       "  not enabled. See the <a href=\"https://ipywidgets.readthedocs.io/en/stable/user_install.html\">Jupyter\n",
       "  Widgets Documentation</a> for setup instructions.\n",
       "</p>\n",
       "<p>\n",
       "  If you're reading this message in another frontend (for example, a static\n",
       "  rendering on GitHub or <a href=\"https://nbviewer.jupyter.org/\">NBViewer</a>),\n",
       "  it may mean that your frontend doesn't currently support widgets.\n",
       "</p>\n"
      ],
      "text/plain": [
       "HBox(children=(IntProgress(value=0, description='Epoch', max=6), HTML(value='')))"
      ]
     },
     "metadata": {},
     "output_type": "display_data"
    },
    {
     "name": "stdout",
     "output_type": "stream",
     "text": [
      "epoch      trn_loss   val_loss                                                                                         \n",
      "    0      2.595458   2.732153  \n",
      "    1      2.577773   2.718429                                                                                         \n",
      "    2      2.581104   2.685483                                                                                         \n",
      "    3      2.544935   2.662391                                                                                         \n",
      "    4      2.579764   2.654138                                                                                         \n",
      "    5      2.566341   2.625561                                                                                         \n",
      "\n",
      "28.9 s ± 395 ms per loop (mean ± std. dev. of 7 runs, 1 loop each)\n"
     ]
    }
   ],
   "source": [
    "%timeit fit(m, md, 6, opt, F.nll_loss)"
   ]
  },
  {
   "cell_type": "code",
   "execution_count": 144,
   "metadata": {
    "collapsed": true,
    "hidden": true
   },
   "outputs": [],
   "source": [
    "set_lrs(opt, 1e-4)"
   ]
  },
  {
   "cell_type": "code",
   "execution_count": 145,
   "metadata": {
    "hidden": true,
    "scrolled": false
   },
   "outputs": [
    {
     "data": {
      "application/vnd.jupyter.widget-view+json": {
       "model_id": "9e49e1c62d934352badae3bf6166c9cf",
       "version_major": 2,
       "version_minor": 0
      },
      "text/html": [
       "<p>Failed to display Jupyter Widget of type <code>HBox</code>.</p>\n",
       "<p>\n",
       "  If you're reading this message in the Jupyter Notebook or JupyterLab Notebook, it may mean\n",
       "  that the widgets JavaScript is still loading. If this message persists, it\n",
       "  likely means that the widgets JavaScript library is either not installed or\n",
       "  not enabled. See the <a href=\"https://ipywidgets.readthedocs.io/en/stable/user_install.html\">Jupyter\n",
       "  Widgets Documentation</a> for setup instructions.\n",
       "</p>\n",
       "<p>\n",
       "  If you're reading this message in another frontend (for example, a static\n",
       "  rendering on GitHub or <a href=\"https://nbviewer.jupyter.org/\">NBViewer</a>),\n",
       "  it may mean that your frontend doesn't currently support widgets.\n",
       "</p>\n"
      ],
      "text/plain": [
       "HBox(children=(IntProgress(value=0, description='Epoch', max=3), HTML(value='')))"
      ]
     },
     "metadata": {},
     "output_type": "display_data"
    },
    {
     "name": "stdout",
     "output_type": "stream",
     "text": [
      "epoch      trn_loss   val_loss                                                                                         \n",
      "    0      2.328863   2.47705   \n",
      "    1      2.299953   2.436171                                                                                         \n",
      "    2      2.298146   2.39809                                                                                          \n",
      "\n"
     ]
    },
    {
     "data": {
      "application/vnd.jupyter.widget-view+json": {
       "model_id": "8928bb97c3b84125b8c6c67a0de138e2",
       "version_major": 2,
       "version_minor": 0
      },
      "text/html": [
       "<p>Failed to display Jupyter Widget of type <code>HBox</code>.</p>\n",
       "<p>\n",
       "  If you're reading this message in the Jupyter Notebook or JupyterLab Notebook, it may mean\n",
       "  that the widgets JavaScript is still loading. If this message persists, it\n",
       "  likely means that the widgets JavaScript library is either not installed or\n",
       "  not enabled. See the <a href=\"https://ipywidgets.readthedocs.io/en/stable/user_install.html\">Jupyter\n",
       "  Widgets Documentation</a> for setup instructions.\n",
       "</p>\n",
       "<p>\n",
       "  If you're reading this message in another frontend (for example, a static\n",
       "  rendering on GitHub or <a href=\"https://nbviewer.jupyter.org/\">NBViewer</a>),\n",
       "  it may mean that your frontend doesn't currently support widgets.\n",
       "</p>\n"
      ],
      "text/plain": [
       "HBox(children=(IntProgress(value=0, description='Epoch', max=3), HTML(value='')))"
      ]
     },
     "metadata": {},
     "output_type": "display_data"
    },
    {
     "name": "stdout",
     "output_type": "stream",
     "text": [
      "epoch      trn_loss   val_loss                                                                                         \n",
      "    0      2.292751   2.394148  \n",
      "    1      2.2757     2.375929                                                                                         \n",
      "    2      2.261224   2.352224                                                                                         \n",
      "\n"
     ]
    },
    {
     "data": {
      "application/vnd.jupyter.widget-view+json": {
       "model_id": "ff815469b0764a1e857553bb85c13a8b",
       "version_major": 2,
       "version_minor": 0
      },
      "text/html": [
       "<p>Failed to display Jupyter Widget of type <code>HBox</code>.</p>\n",
       "<p>\n",
       "  If you're reading this message in the Jupyter Notebook or JupyterLab Notebook, it may mean\n",
       "  that the widgets JavaScript is still loading. If this message persists, it\n",
       "  likely means that the widgets JavaScript library is either not installed or\n",
       "  not enabled. See the <a href=\"https://ipywidgets.readthedocs.io/en/stable/user_install.html\">Jupyter\n",
       "  Widgets Documentation</a> for setup instructions.\n",
       "</p>\n",
       "<p>\n",
       "  If you're reading this message in another frontend (for example, a static\n",
       "  rendering on GitHub or <a href=\"https://nbviewer.jupyter.org/\">NBViewer</a>),\n",
       "  it may mean that your frontend doesn't currently support widgets.\n",
       "</p>\n"
      ],
      "text/plain": [
       "HBox(children=(IntProgress(value=0, description='Epoch', max=3), HTML(value='')))"
      ]
     },
     "metadata": {},
     "output_type": "display_data"
    },
    {
     "name": "stdout",
     "output_type": "stream",
     "text": [
      "epoch      trn_loss   val_loss                                                                                         \n",
      "    0      2.232087   2.330886  \n",
      "    1      2.230929   2.329124                                                                                         \n",
      "    2      2.213449   2.312416                                                                                         \n",
      "\n"
     ]
    },
    {
     "data": {
      "application/vnd.jupyter.widget-view+json": {
       "model_id": "28c7c28e0f744abaadd4aaf58960f515",
       "version_major": 2,
       "version_minor": 0
      },
      "text/html": [
       "<p>Failed to display Jupyter Widget of type <code>HBox</code>.</p>\n",
       "<p>\n",
       "  If you're reading this message in the Jupyter Notebook or JupyterLab Notebook, it may mean\n",
       "  that the widgets JavaScript is still loading. If this message persists, it\n",
       "  likely means that the widgets JavaScript library is either not installed or\n",
       "  not enabled. See the <a href=\"https://ipywidgets.readthedocs.io/en/stable/user_install.html\">Jupyter\n",
       "  Widgets Documentation</a> for setup instructions.\n",
       "</p>\n",
       "<p>\n",
       "  If you're reading this message in another frontend (for example, a static\n",
       "  rendering on GitHub or <a href=\"https://nbviewer.jupyter.org/\">NBViewer</a>),\n",
       "  it may mean that your frontend doesn't currently support widgets.\n",
       "</p>\n"
      ],
      "text/plain": [
       "HBox(children=(IntProgress(value=0, description='Epoch', max=3), HTML(value='')))"
      ]
     },
     "metadata": {},
     "output_type": "display_data"
    },
    {
     "name": "stdout",
     "output_type": "stream",
     "text": [
      "epoch      trn_loss   val_loss                                                                                         \n",
      "    0      2.196164   2.306367  \n",
      "    1      2.198905   2.292653                                                                                         \n",
      "    2      2.179399   2.276196                                                                                         \n",
      "\n"
     ]
    },
    {
     "data": {
      "application/vnd.jupyter.widget-view+json": {
       "model_id": "502521ef982e44e1b82404f0650c1d78",
       "version_major": 2,
       "version_minor": 0
      },
      "text/html": [
       "<p>Failed to display Jupyter Widget of type <code>HBox</code>.</p>\n",
       "<p>\n",
       "  If you're reading this message in the Jupyter Notebook or JupyterLab Notebook, it may mean\n",
       "  that the widgets JavaScript is still loading. If this message persists, it\n",
       "  likely means that the widgets JavaScript library is either not installed or\n",
       "  not enabled. See the <a href=\"https://ipywidgets.readthedocs.io/en/stable/user_install.html\">Jupyter\n",
       "  Widgets Documentation</a> for setup instructions.\n",
       "</p>\n",
       "<p>\n",
       "  If you're reading this message in another frontend (for example, a static\n",
       "  rendering on GitHub or <a href=\"https://nbviewer.jupyter.org/\">NBViewer</a>),\n",
       "  it may mean that your frontend doesn't currently support widgets.\n",
       "</p>\n"
      ],
      "text/plain": [
       "HBox(children=(IntProgress(value=0, description='Epoch', max=3), HTML(value='')))"
      ]
     },
     "metadata": {},
     "output_type": "display_data"
    },
    {
     "name": "stdout",
     "output_type": "stream",
     "text": [
      "epoch      trn_loss   val_loss                                                                                         \n",
      "    0      2.211192   2.293248  \n",
      "    1      2.183308   2.267596                                                                                         \n",
      "    2      2.193721   2.256214                                                                                         \n",
      "\n"
     ]
    },
    {
     "data": {
      "application/vnd.jupyter.widget-view+json": {
       "model_id": "2ea0b97f0687426eb6983f0261e8960c",
       "version_major": 2,
       "version_minor": 0
      },
      "text/html": [
       "<p>Failed to display Jupyter Widget of type <code>HBox</code>.</p>\n",
       "<p>\n",
       "  If you're reading this message in the Jupyter Notebook or JupyterLab Notebook, it may mean\n",
       "  that the widgets JavaScript is still loading. If this message persists, it\n",
       "  likely means that the widgets JavaScript library is either not installed or\n",
       "  not enabled. See the <a href=\"https://ipywidgets.readthedocs.io/en/stable/user_install.html\">Jupyter\n",
       "  Widgets Documentation</a> for setup instructions.\n",
       "</p>\n",
       "<p>\n",
       "  If you're reading this message in another frontend (for example, a static\n",
       "  rendering on GitHub or <a href=\"https://nbviewer.jupyter.org/\">NBViewer</a>),\n",
       "  it may mean that your frontend doesn't currently support widgets.\n",
       "</p>\n"
      ],
      "text/plain": [
       "HBox(children=(IntProgress(value=0, description='Epoch', max=3), HTML(value='')))"
      ]
     },
     "metadata": {},
     "output_type": "display_data"
    },
    {
     "name": "stdout",
     "output_type": "stream",
     "text": [
      "epoch      trn_loss   val_loss                                                                                         \n",
      "    0      2.161767   2.256735  \n",
      "    1      2.171722   2.244369                                                                                         \n",
      "    2      2.163695   2.241668                                                                                         \n",
      "\n"
     ]
    },
    {
     "data": {
      "application/vnd.jupyter.widget-view+json": {
       "model_id": "6c8c447381284c928756ef8d3956cd1c",
       "version_major": 2,
       "version_minor": 0
      },
      "text/html": [
       "<p>Failed to display Jupyter Widget of type <code>HBox</code>.</p>\n",
       "<p>\n",
       "  If you're reading this message in the Jupyter Notebook or JupyterLab Notebook, it may mean\n",
       "  that the widgets JavaScript is still loading. If this message persists, it\n",
       "  likely means that the widgets JavaScript library is either not installed or\n",
       "  not enabled. See the <a href=\"https://ipywidgets.readthedocs.io/en/stable/user_install.html\">Jupyter\n",
       "  Widgets Documentation</a> for setup instructions.\n",
       "</p>\n",
       "<p>\n",
       "  If you're reading this message in another frontend (for example, a static\n",
       "  rendering on GitHub or <a href=\"https://nbviewer.jupyter.org/\">NBViewer</a>),\n",
       "  it may mean that your frontend doesn't currently support widgets.\n",
       "</p>\n"
      ],
      "text/plain": [
       "HBox(children=(IntProgress(value=0, description='Epoch', max=3), HTML(value='')))"
      ]
     },
     "metadata": {},
     "output_type": "display_data"
    },
    {
     "name": "stdout",
     "output_type": "stream",
     "text": [
      "epoch      trn_loss   val_loss                                                                                         \n",
      "    0      2.138064   2.236043  \n",
      "    1      2.145211   2.230179                                                                                         \n",
      "    2      2.129272   2.224459                                                                                         \n",
      "\n"
     ]
    },
    {
     "data": {
      "application/vnd.jupyter.widget-view+json": {
       "model_id": "edfa0e297826437e88e70912a1fc3bfb",
       "version_major": 2,
       "version_minor": 0
      },
      "text/html": [
       "<p>Failed to display Jupyter Widget of type <code>HBox</code>.</p>\n",
       "<p>\n",
       "  If you're reading this message in the Jupyter Notebook or JupyterLab Notebook, it may mean\n",
       "  that the widgets JavaScript is still loading. If this message persists, it\n",
       "  likely means that the widgets JavaScript library is either not installed or\n",
       "  not enabled. See the <a href=\"https://ipywidgets.readthedocs.io/en/stable/user_install.html\">Jupyter\n",
       "  Widgets Documentation</a> for setup instructions.\n",
       "</p>\n",
       "<p>\n",
       "  If you're reading this message in another frontend (for example, a static\n",
       "  rendering on GitHub or <a href=\"https://nbviewer.jupyter.org/\">NBViewer</a>),\n",
       "  it may mean that your frontend doesn't currently support widgets.\n",
       "</p>\n"
      ],
      "text/plain": [
       "HBox(children=(IntProgress(value=0, description='Epoch', max=3), HTML(value='')))"
      ]
     },
     "metadata": {},
     "output_type": "display_data"
    },
    {
     "name": "stdout",
     "output_type": "stream",
     "text": [
      "epoch      trn_loss   val_loss                                                                                         \n",
      "    0      2.125478   2.219153  \n",
      "    1      2.125529   2.210223                                                                                         \n",
      "    2      2.106884   2.213417                                                                                         \n",
      "\n",
      "14.6 s ± 361 ms per loop (mean ± std. dev. of 7 runs, 1 loop each)\n"
     ]
    }
   ],
   "source": [
    "%timeit fit(m, md, 3, opt, F.nll_loss)"
   ]
  },
  {
   "cell_type": "markdown",
   "metadata": {
    "heading_collapsed": true
   },
   "source": [
    "### Putting it all together: LSTM"
   ]
  },
  {
   "cell_type": "code",
   "execution_count": 146,
   "metadata": {
    "collapsed": true,
    "hidden": true
   },
   "outputs": [],
   "source": [
    "from fastai import sgdr\n",
    "\n",
    "n_hidden=512"
   ]
  },
  {
   "cell_type": "code",
   "execution_count": 147,
   "metadata": {
    "collapsed": true,
    "hidden": true
   },
   "outputs": [],
   "source": [
    "class CharSeqStatefulLSTM(nn.Module):\n",
    "    def __init__(self, vocab_size, n_fac, bs, nl):\n",
    "        super().__init__()\n",
    "        self.vocab_size,self.nl = vocab_size,nl\n",
    "        self.e = nn.Embedding(vocab_size, n_fac)\n",
    "        self.rnn = nn.LSTM(n_fac, n_hidden, nl, dropout=0.5)\n",
    "        self.l_out = nn.Linear(n_hidden, vocab_size)\n",
    "        self.init_hidden(bs)\n",
    "        \n",
    "    def forward(self, cs):\n",
    "        bs = cs[0].size(0)\n",
    "        if self.h[0].size(1) != bs: self.init_hidden(bs)\n",
    "        outp,h = self.rnn(self.e(cs), self.h)\n",
    "        self.h = repackage_var(h)\n",
    "        return F.log_softmax(self.l_out(outp), dim=-1).view(-1, self.vocab_size)\n",
    "    \n",
    "    def init_hidden(self, bs):\n",
    "        self.h = (V(torch.zeros(self.nl, bs, n_hidden)),\n",
    "                  V(torch.zeros(self.nl, bs, n_hidden)))"
   ]
  },
  {
   "cell_type": "code",
   "execution_count": 148,
   "metadata": {
    "collapsed": true,
    "hidden": true
   },
   "outputs": [],
   "source": [
    "m = CharSeqStatefulLSTM(md.nt, n_fac, 512, 2).cuda()\n",
    "lo = LayerOptimizer(optim.Adam, m, 1e-2, 1e-5)"
   ]
  },
  {
   "cell_type": "code",
   "execution_count": 158,
   "metadata": {
    "collapsed": true,
    "hidden": true
   },
   "outputs": [],
   "source": [
    "PATH='C://Users/sarad/Documents/fastai/courses/dl1/data/SuShi/'\n",
    "os.makedirs(f'{PATH}models', exist_ok=True)"
   ]
  },
  {
   "cell_type": "code",
   "execution_count": 150,
   "metadata": {
    "hidden": true
   },
   "outputs": [
    {
     "data": {
      "application/vnd.jupyter.widget-view+json": {
       "model_id": "789fd72ce75640759fe587c320ecca7c",
       "version_major": 2,
       "version_minor": 0
      },
      "text/html": [
       "<p>Failed to display Jupyter Widget of type <code>HBox</code>.</p>\n",
       "<p>\n",
       "  If you're reading this message in the Jupyter Notebook or JupyterLab Notebook, it may mean\n",
       "  that the widgets JavaScript is still loading. If this message persists, it\n",
       "  likely means that the widgets JavaScript library is either not installed or\n",
       "  not enabled. See the <a href=\"https://ipywidgets.readthedocs.io/en/stable/user_install.html\">Jupyter\n",
       "  Widgets Documentation</a> for setup instructions.\n",
       "</p>\n",
       "<p>\n",
       "  If you're reading this message in another frontend (for example, a static\n",
       "  rendering on GitHub or <a href=\"https://nbviewer.jupyter.org/\">NBViewer</a>),\n",
       "  it may mean that your frontend doesn't currently support widgets.\n",
       "</p>\n"
      ],
      "text/plain": [
       "HBox(children=(IntProgress(value=0, description='Epoch', max=2), HTML(value='')))"
      ]
     },
     "metadata": {},
     "output_type": "display_data"
    },
    {
     "name": "stdout",
     "output_type": "stream",
     "text": [
      "epoch      trn_loss   val_loss                                                                                         \n",
      "    0      6.059476   6.054818  \n",
      "    1      5.793957   5.697289                                                                                         \n",
      "\n"
     ]
    },
    {
     "data": {
      "application/vnd.jupyter.widget-view+json": {
       "model_id": "9c38ccaa517e498f8b7e5fd5adc48920",
       "version_major": 2,
       "version_minor": 0
      },
      "text/html": [
       "<p>Failed to display Jupyter Widget of type <code>HBox</code>.</p>\n",
       "<p>\n",
       "  If you're reading this message in the Jupyter Notebook or JupyterLab Notebook, it may mean\n",
       "  that the widgets JavaScript is still loading. If this message persists, it\n",
       "  likely means that the widgets JavaScript library is either not installed or\n",
       "  not enabled. See the <a href=\"https://ipywidgets.readthedocs.io/en/stable/user_install.html\">Jupyter\n",
       "  Widgets Documentation</a> for setup instructions.\n",
       "</p>\n",
       "<p>\n",
       "  If you're reading this message in another frontend (for example, a static\n",
       "  rendering on GitHub or <a href=\"https://nbviewer.jupyter.org/\">NBViewer</a>),\n",
       "  it may mean that your frontend doesn't currently support widgets.\n",
       "</p>\n"
      ],
      "text/plain": [
       "HBox(children=(IntProgress(value=0, description='Epoch', max=2), HTML(value='')))"
      ]
     },
     "metadata": {},
     "output_type": "display_data"
    },
    {
     "name": "stdout",
     "output_type": "stream",
     "text": [
      "epoch      trn_loss   val_loss                                                                                         \n",
      "    0      5.648384   5.554955  \n",
      "    1      5.524454   5.419644                                                                                         \n",
      "\n"
     ]
    },
    {
     "data": {
      "application/vnd.jupyter.widget-view+json": {
       "model_id": "3898b1349eef43d8bf213c4e8922f05a",
       "version_major": 2,
       "version_minor": 0
      },
      "text/html": [
       "<p>Failed to display Jupyter Widget of type <code>HBox</code>.</p>\n",
       "<p>\n",
       "  If you're reading this message in the Jupyter Notebook or JupyterLab Notebook, it may mean\n",
       "  that the widgets JavaScript is still loading. If this message persists, it\n",
       "  likely means that the widgets JavaScript library is either not installed or\n",
       "  not enabled. See the <a href=\"https://ipywidgets.readthedocs.io/en/stable/user_install.html\">Jupyter\n",
       "  Widgets Documentation</a> for setup instructions.\n",
       "</p>\n",
       "<p>\n",
       "  If you're reading this message in another frontend (for example, a static\n",
       "  rendering on GitHub or <a href=\"https://nbviewer.jupyter.org/\">NBViewer</a>),\n",
       "  it may mean that your frontend doesn't currently support widgets.\n",
       "</p>\n"
      ],
      "text/plain": [
       "HBox(children=(IntProgress(value=0, description='Epoch', max=2), HTML(value='')))"
      ]
     },
     "metadata": {},
     "output_type": "display_data"
    },
    {
     "name": "stdout",
     "output_type": "stream",
     "text": [
      "epoch      trn_loss   val_loss                                                                                         \n",
      "    0      5.441168   5.337239  \n",
      "    1      5.369845   5.255755                                                                                         \n",
      "\n"
     ]
    },
    {
     "data": {
      "application/vnd.jupyter.widget-view+json": {
       "model_id": "bee2e4dd384442d38d93114c979ba83b",
       "version_major": 2,
       "version_minor": 0
      },
      "text/html": [
       "<p>Failed to display Jupyter Widget of type <code>HBox</code>.</p>\n",
       "<p>\n",
       "  If you're reading this message in the Jupyter Notebook or JupyterLab Notebook, it may mean\n",
       "  that the widgets JavaScript is still loading. If this message persists, it\n",
       "  likely means that the widgets JavaScript library is either not installed or\n",
       "  not enabled. See the <a href=\"https://ipywidgets.readthedocs.io/en/stable/user_install.html\">Jupyter\n",
       "  Widgets Documentation</a> for setup instructions.\n",
       "</p>\n",
       "<p>\n",
       "  If you're reading this message in another frontend (for example, a static\n",
       "  rendering on GitHub or <a href=\"https://nbviewer.jupyter.org/\">NBViewer</a>),\n",
       "  it may mean that your frontend doesn't currently support widgets.\n",
       "</p>\n"
      ],
      "text/plain": [
       "HBox(children=(IntProgress(value=0, description='Epoch', max=2), HTML(value='')))"
      ]
     },
     "metadata": {},
     "output_type": "display_data"
    },
    {
     "name": "stdout",
     "output_type": "stream",
     "text": [
      "epoch      trn_loss   val_loss                                                                                         \n",
      "    0      5.333947   5.202437  \n",
      "    1      5.30167    5.156297                                                                                         \n",
      "\n"
     ]
    },
    {
     "data": {
      "application/vnd.jupyter.widget-view+json": {
       "model_id": "3c72227318d0433688d6086b86009027",
       "version_major": 2,
       "version_minor": 0
      },
      "text/html": [
       "<p>Failed to display Jupyter Widget of type <code>HBox</code>.</p>\n",
       "<p>\n",
       "  If you're reading this message in the Jupyter Notebook or JupyterLab Notebook, it may mean\n",
       "  that the widgets JavaScript is still loading. If this message persists, it\n",
       "  likely means that the widgets JavaScript library is either not installed or\n",
       "  not enabled. See the <a href=\"https://ipywidgets.readthedocs.io/en/stable/user_install.html\">Jupyter\n",
       "  Widgets Documentation</a> for setup instructions.\n",
       "</p>\n",
       "<p>\n",
       "  If you're reading this message in another frontend (for example, a static\n",
       "  rendering on GitHub or <a href=\"https://nbviewer.jupyter.org/\">NBViewer</a>),\n",
       "  it may mean that your frontend doesn't currently support widgets.\n",
       "</p>\n"
      ],
      "text/plain": [
       "HBox(children=(IntProgress(value=0, description='Epoch', max=2), HTML(value='')))"
      ]
     },
     "metadata": {},
     "output_type": "display_data"
    },
    {
     "name": "stdout",
     "output_type": "stream",
     "text": [
      "epoch      trn_loss   val_loss                                                                                         \n",
      "    0      5.257483   5.097074  \n",
      "    1      5.231733   5.056028                                                                                         \n",
      "\n"
     ]
    },
    {
     "data": {
      "application/vnd.jupyter.widget-view+json": {
       "model_id": "174f0c932f0449ee9347ed913e3408dc",
       "version_major": 2,
       "version_minor": 0
      },
      "text/html": [
       "<p>Failed to display Jupyter Widget of type <code>HBox</code>.</p>\n",
       "<p>\n",
       "  If you're reading this message in the Jupyter Notebook or JupyterLab Notebook, it may mean\n",
       "  that the widgets JavaScript is still loading. If this message persists, it\n",
       "  likely means that the widgets JavaScript library is either not installed or\n",
       "  not enabled. See the <a href=\"https://ipywidgets.readthedocs.io/en/stable/user_install.html\">Jupyter\n",
       "  Widgets Documentation</a> for setup instructions.\n",
       "</p>\n",
       "<p>\n",
       "  If you're reading this message in another frontend (for example, a static\n",
       "  rendering on GitHub or <a href=\"https://nbviewer.jupyter.org/\">NBViewer</a>),\n",
       "  it may mean that your frontend doesn't currently support widgets.\n",
       "</p>\n"
      ],
      "text/plain": [
       "HBox(children=(IntProgress(value=0, description='Epoch', max=2), HTML(value='')))"
      ]
     },
     "metadata": {},
     "output_type": "display_data"
    },
    {
     "name": "stdout",
     "output_type": "stream",
     "text": [
      "epoch      trn_loss   val_loss                                                                                         \n",
      "    0      5.192591   5.005971  \n",
      "    1      5.167614   5.02337                                                                                          \n",
      "\n"
     ]
    },
    {
     "data": {
      "application/vnd.jupyter.widget-view+json": {
       "model_id": "efe46f5d5c9e4e9ca6bd5b6051d27208",
       "version_major": 2,
       "version_minor": 0
      },
      "text/html": [
       "<p>Failed to display Jupyter Widget of type <code>HBox</code>.</p>\n",
       "<p>\n",
       "  If you're reading this message in the Jupyter Notebook or JupyterLab Notebook, it may mean\n",
       "  that the widgets JavaScript is still loading. If this message persists, it\n",
       "  likely means that the widgets JavaScript library is either not installed or\n",
       "  not enabled. See the <a href=\"https://ipywidgets.readthedocs.io/en/stable/user_install.html\">Jupyter\n",
       "  Widgets Documentation</a> for setup instructions.\n",
       "</p>\n",
       "<p>\n",
       "  If you're reading this message in another frontend (for example, a static\n",
       "  rendering on GitHub or <a href=\"https://nbviewer.jupyter.org/\">NBViewer</a>),\n",
       "  it may mean that your frontend doesn't currently support widgets.\n",
       "</p>\n"
      ],
      "text/plain": [
       "HBox(children=(IntProgress(value=0, description='Epoch', max=2), HTML(value='')))"
      ]
     },
     "metadata": {},
     "output_type": "display_data"
    },
    {
     "name": "stdout",
     "output_type": "stream",
     "text": [
      "epoch      trn_loss   val_loss                                                                                         \n",
      "    0      5.135167   4.965368  \n",
      "    1      5.089534   4.95017                                                                                          \n",
      "\n"
     ]
    },
    {
     "data": {
      "application/vnd.jupyter.widget-view+json": {
       "model_id": "3b345c3c7232476fbf9bb43ce4dc4243",
       "version_major": 2,
       "version_minor": 0
      },
      "text/html": [
       "<p>Failed to display Jupyter Widget of type <code>HBox</code>.</p>\n",
       "<p>\n",
       "  If you're reading this message in the Jupyter Notebook or JupyterLab Notebook, it may mean\n",
       "  that the widgets JavaScript is still loading. If this message persists, it\n",
       "  likely means that the widgets JavaScript library is either not installed or\n",
       "  not enabled. See the <a href=\"https://ipywidgets.readthedocs.io/en/stable/user_install.html\">Jupyter\n",
       "  Widgets Documentation</a> for setup instructions.\n",
       "</p>\n",
       "<p>\n",
       "  If you're reading this message in another frontend (for example, a static\n",
       "  rendering on GitHub or <a href=\"https://nbviewer.jupyter.org/\">NBViewer</a>),\n",
       "  it may mean that your frontend doesn't currently support widgets.\n",
       "</p>\n"
      ],
      "text/plain": [
       "HBox(children=(IntProgress(value=0, description='Epoch', max=2), HTML(value='')))"
      ]
     },
     "metadata": {},
     "output_type": "display_data"
    },
    {
     "name": "stdout",
     "output_type": "stream",
     "text": [
      "epoch      trn_loss   val_loss                                                                                         \n",
      "    0      5.081523   4.940741  \n",
      "    1      5.095331   4.886881                                                                                         \n",
      "\n",
      "16.5 s ± 205 ms per loop (mean ± std. dev. of 7 runs, 1 loop each)\n"
     ]
    }
   ],
   "source": [
    "%timeit fit(m, md, 2, lo.opt, F.nll_loss)"
   ]
  },
  {
   "cell_type": "code",
   "execution_count": 151,
   "metadata": {
    "hidden": true,
    "scrolled": true
   },
   "outputs": [
    {
     "data": {
      "application/vnd.jupyter.widget-view+json": {
       "model_id": "ac88e85183554837b322f02f10473fc5",
       "version_major": 2,
       "version_minor": 0
      },
      "text/html": [
       "<p>Failed to display Jupyter Widget of type <code>HBox</code>.</p>\n",
       "<p>\n",
       "  If you're reading this message in the Jupyter Notebook or JupyterLab Notebook, it may mean\n",
       "  that the widgets JavaScript is still loading. If this message persists, it\n",
       "  likely means that the widgets JavaScript library is either not installed or\n",
       "  not enabled. See the <a href=\"https://ipywidgets.readthedocs.io/en/stable/user_install.html\">Jupyter\n",
       "  Widgets Documentation</a> for setup instructions.\n",
       "</p>\n",
       "<p>\n",
       "  If you're reading this message in another frontend (for example, a static\n",
       "  rendering on GitHub or <a href=\"https://nbviewer.jupyter.org/\">NBViewer</a>),\n",
       "  it may mean that your frontend doesn't currently support widgets.\n",
       "</p>\n"
      ],
      "text/plain": [
       "HBox(children=(IntProgress(value=0, description='Epoch', max=15), HTML(value='')))"
      ]
     },
     "metadata": {},
     "output_type": "display_data"
    },
    {
     "name": "stdout",
     "output_type": "stream",
     "text": [
      "epoch      trn_loss   val_loss                                                                                         \n",
      "    0      4.902965   4.739222  \n",
      "    1      5.050755   4.790213                                                                                         \n",
      "    2      4.832848   4.673209                                                                                         \n",
      "    3      5.086874   4.830372                                                                                         \n",
      "    4      4.950373   4.717639                                                                                         \n",
      "    5      4.786842   4.608561                                                                                         \n",
      "    6      4.680819   4.54759                                                                                          \n",
      "    7      5.008823   4.750691                                                                                         \n",
      "    8      4.973599   4.735167                                                                                         \n",
      "    9      4.884257   4.671226                                                                                         \n",
      "    10     4.804807   4.61166                                                                                          \n",
      "    11     4.695212   4.53551                                                                                          \n",
      "    12     4.60441    4.471744                                                                                         \n",
      "    13     4.525735   4.407158                                                                                         \n",
      "    14     4.465036   4.376935                                                                                         \n",
      "\n"
     ]
    },
    {
     "data": {
      "text/plain": [
       "[4.3769345]"
      ]
     },
     "execution_count": 151,
     "metadata": {},
     "output_type": "execute_result"
    }
   ],
   "source": [
    "on_end = lambda sched, cycle: save_model(m, f'{PATH}models/cyc_{cycle}')\n",
    "cb = [CosAnneal(lo, len(md.trn_dl), cycle_mult=2, on_cycle_end=on_end)]\n",
    "fit(m, md, 2**4-1, lo.opt, F.nll_loss, callbacks=cb)"
   ]
  },
  {
   "cell_type": "code",
   "execution_count": 152,
   "metadata": {
    "hidden": true,
    "scrolled": true
   },
   "outputs": [
    {
     "data": {
      "application/vnd.jupyter.widget-view+json": {
       "model_id": "58677210a2084b94a7d1f5e1d3f1f2c2",
       "version_major": 2,
       "version_minor": 0
      },
      "text/html": [
       "<p>Failed to display Jupyter Widget of type <code>HBox</code>.</p>\n",
       "<p>\n",
       "  If you're reading this message in the Jupyter Notebook or JupyterLab Notebook, it may mean\n",
       "  that the widgets JavaScript is still loading. If this message persists, it\n",
       "  likely means that the widgets JavaScript library is either not installed or\n",
       "  not enabled. See the <a href=\"https://ipywidgets.readthedocs.io/en/stable/user_install.html\">Jupyter\n",
       "  Widgets Documentation</a> for setup instructions.\n",
       "</p>\n",
       "<p>\n",
       "  If you're reading this message in another frontend (for example, a static\n",
       "  rendering on GitHub or <a href=\"https://nbviewer.jupyter.org/\">NBViewer</a>),\n",
       "  it may mean that your frontend doesn't currently support widgets.\n",
       "</p>\n"
      ],
      "text/plain": [
       "HBox(children=(IntProgress(value=0, description='Epoch', max=63), HTML(value='')))"
      ]
     },
     "metadata": {},
     "output_type": "display_data"
    },
    {
     "name": "stdout",
     "output_type": "stream",
     "text": [
      "epoch      trn_loss   val_loss                                                                                         \n",
      "    0      4.451617   4.373536  \n",
      "    1      4.470408   4.368623                                                                                         \n",
      "    2      4.448079   4.364522                                                                                         \n",
      "    3      4.440605   4.359096                                                                                         \n",
      "    4      4.444331   4.357347                                                                                         \n",
      "    5      4.452813   4.346957                                                                                         \n",
      "    6      4.429931   4.349927                                                                                         \n",
      "    7      4.441357   4.34802                                                                                          \n",
      "    8      4.430176   4.343621                                                                                         \n",
      "    9      4.397702   4.334023                                                                                         \n",
      "    10     4.405619   4.330746                                                                                         \n",
      "    11     4.384632   4.304861                                                                                         \n",
      "    12     4.380834   4.308187                                                                                         \n",
      "    13     4.391988   4.277668                                                                                         \n",
      "    14     4.393496   4.272167                                                                                         \n",
      "    15     4.359017   4.289971                                                                                         \n",
      "    16     4.356925   4.266998                                                                                         \n",
      "    17     4.31566    4.253448                                                                                         \n",
      "    18     4.285517   4.226769                                                                                         \n",
      "    19     4.263869   4.199531                                                                                         \n",
      "    20     4.233908   4.18246                                                                                          \n",
      "    21     4.208181   4.187133                                                                                         \n",
      "    22     4.169845   4.125855                                                                                         \n",
      "    23     4.161304   4.114127                                                                                         \n",
      "    24     4.133599   4.0912                                                                                           \n",
      "    25     4.128805   4.116046                                                                                         \n",
      "    26     4.117876   4.106992                                                                                         \n",
      "    27     4.149837   4.066862                                                                                         \n",
      "    28     4.107478   4.05152                                                                                          \n",
      "    29     4.120104   4.021446                                                                                         \n",
      "    30     4.140552   4.021763                                                                                         \n",
      "    31     4.13727    4.023855                                                                                         \n",
      "    32     4.09679    4.070031                                                                                         \n",
      "    33     4.087028   4.049331                                                                                         \n",
      "    34     4.045887   4.010747                                                                                         \n",
      "    35     4.036719   3.979794                                                                                         \n",
      "    36     3.990248   3.962685                                                                                         \n",
      "    37     3.963387   3.945588                                                                                         \n",
      "    38     3.918844   3.901643                                                                                         \n",
      "    39     3.898039   3.891479                                                                                         \n",
      "    40     3.862205   3.876894                                                                                         \n",
      "    41     3.824293   3.873641                                                                                         \n",
      "    42     3.828386   3.871227                                                                                         \n",
      "    43     3.788012   3.880923                                                                                         \n",
      "    44     3.767148   3.852441                                                                                         \n",
      "    45     3.735908   3.846526                                                                                         \n",
      "    46     3.74024    3.835905                                                                                         \n",
      "    47     3.724311   3.827917                                                                                         \n",
      "    48     3.721801   3.800051                                                                                         \n",
      "    49     3.702261   3.770001                                                                                         \n",
      "    50     3.683933   3.741857                                                                                         \n",
      "    51     3.676519   3.726382                                                                                         \n",
      "    52     3.687361   3.699032                                                                                         \n",
      "    53     3.679877   3.713367                                                                                         \n",
      "    54     3.639613   3.681106                                                                                         \n",
      "    55     3.598443   3.648398                                                                                         \n",
      "    56     3.603948   3.627022                                                                                         \n",
      "    57     3.621991   3.626855                                                                                         \n",
      "    58     3.616088   3.623924                                                                                         \n",
      "    59     3.619381   3.612429                                                                                         \n",
      "    60     3.670752   3.619047                                                                                         \n",
      "    61     3.705513   3.603739                                                                                         \n",
      "    62     3.683133   3.596224                                                                                         \n",
      "\n"
     ]
    },
    {
     "data": {
      "application/vnd.jupyter.widget-view+json": {
       "model_id": "bdc7120cd169455fb1da65b9c446d536",
       "version_major": 2,
       "version_minor": 0
      },
      "text/html": [
       "<p>Failed to display Jupyter Widget of type <code>HBox</code>.</p>\n",
       "<p>\n",
       "  If you're reading this message in the Jupyter Notebook or JupyterLab Notebook, it may mean\n",
       "  that the widgets JavaScript is still loading. If this message persists, it\n",
       "  likely means that the widgets JavaScript library is either not installed or\n",
       "  not enabled. See the <a href=\"https://ipywidgets.readthedocs.io/en/stable/user_install.html\">Jupyter\n",
       "  Widgets Documentation</a> for setup instructions.\n",
       "</p>\n",
       "<p>\n",
       "  If you're reading this message in another frontend (for example, a static\n",
       "  rendering on GitHub or <a href=\"https://nbviewer.jupyter.org/\">NBViewer</a>),\n",
       "  it may mean that your frontend doesn't currently support widgets.\n",
       "</p>\n"
      ],
      "text/plain": [
       "HBox(children=(IntProgress(value=0, description='Epoch', max=63), HTML(value='')))"
      ]
     },
     "metadata": {},
     "output_type": "display_data"
    },
    {
     "name": "stdout",
     "output_type": "stream",
     "text": [
      "epoch      trn_loss   val_loss                                                                                         \n",
      "    0      3.725336   3.593517  \n",
      "    1      3.615303   3.680045                                                                                         \n",
      "    2      3.580699   3.692941                                                                                         \n",
      "    3      3.557394   3.648238                                                                                         \n",
      "    4      3.52495    3.649722                                                                                         \n",
      "    5      3.501479   3.612817                                                                                         \n",
      "    6      3.47859    3.621847                                                                                         \n",
      "    7      3.446712   3.583463                                                                                         \n",
      "    8      3.422751   3.593372                                                                                         \n",
      "    9      3.385152   3.586683                                                                                         \n",
      "    10     3.394278   3.57083                                                                                          \n",
      "    11     3.367176   3.556826                                                                                         \n",
      "    12     3.362686   3.549741                                                                                         \n",
      "    13     3.322264   3.472854                                                                                         \n",
      "    14     3.321276   3.460644                                                                                         \n",
      "    15     3.308709   3.421799                                                                                         \n",
      "    16     3.304129   3.377269                                                                                         \n",
      "    17     3.355306   3.382297                                                                                         \n",
      "    18     3.330323   3.355033                                                                                         \n",
      "    19     3.339974   3.336826                                                                                         \n",
      "    20     3.332114   3.332504                                                                                         \n",
      "    21     3.309979   3.332671                                                                                         \n",
      "    22     3.303792   3.317989                                                                                         \n",
      "    23     3.286578   3.307323                                                                                         \n",
      "    24     3.269386   3.297863                                                                                         \n",
      "    25     3.215809   3.267282                                                                                         \n",
      "    26     3.301263   3.26058                                                                                          \n",
      "    27     3.285034   3.254227                                                                                         \n",
      "    28     3.31965    3.23721                                                                                          \n",
      "    29     3.372627   3.232849                                                                                         \n",
      "    30     3.391621   3.230622                                                                                         \n",
      "    31     3.417188   3.227608                                                                                         \n",
      "    32     3.415851   3.227185                                                                                         \n",
      "    33     3.215337   3.339073                                                                                         \n",
      "    34     3.220189   3.304659                                                                                         \n",
      "    35     3.15907    3.323108                                                                                         \n",
      "    36     3.177657   3.298109                                                                                         \n",
      "    37     3.156686   3.292051                                                                                         \n",
      "    38     3.104261   3.244495                                                                                         \n",
      "    39     3.099989   3.226031                                                                                         \n",
      "    40     3.086124   3.20381                                                                                          \n",
      "    41     3.060423   3.193686                                                                                         \n",
      "    42     3.018864   3.16349                                                                                          \n",
      "    43     2.992511   3.135444                                                                                         \n",
      "    44     2.99311    3.11348                                                                                          \n",
      "    45     2.989269   3.14376                                                                                          \n",
      "    46     2.973741   3.095756                                                                                         \n",
      "    47     2.93935    3.05207                                                                                          \n",
      "    48     2.932957   3.059294                                                                                         \n",
      "    49     2.920756   3.039634                                                                                         \n",
      "    50     2.930019   3.027028                                                                                         \n",
      "    51     2.907476   3.008951                                                                                         \n",
      "    52     2.878368   2.978042                                                                                         \n",
      "    53     2.883911   2.981279                                                                                         \n",
      "    54     2.853872   2.967576                                                                                         \n",
      "    55     2.801559   2.931037                                                                                         \n",
      "    56     2.789075   2.925925                                                                                         \n",
      "    57     2.826185   2.912624                                                                                         \n",
      "    58     2.781303   2.925687                                                                                         \n",
      "    59     2.783455   2.894701                                                                                         \n",
      "    60     2.781522   2.87113                                                                                          \n",
      "    61     2.7514     2.840465                                                                                         \n",
      "    62     2.761653   2.825058                                                                                         \n",
      "\n"
     ]
    },
    {
     "data": {
      "application/vnd.jupyter.widget-view+json": {
       "model_id": "c56719ce1bfa406db6cd9c13f25806ec",
       "version_major": 2,
       "version_minor": 0
      },
      "text/html": [
       "<p>Failed to display Jupyter Widget of type <code>HBox</code>.</p>\n",
       "<p>\n",
       "  If you're reading this message in the Jupyter Notebook or JupyterLab Notebook, it may mean\n",
       "  that the widgets JavaScript is still loading. If this message persists, it\n",
       "  likely means that the widgets JavaScript library is either not installed or\n",
       "  not enabled. See the <a href=\"https://ipywidgets.readthedocs.io/en/stable/user_install.html\">Jupyter\n",
       "  Widgets Documentation</a> for setup instructions.\n",
       "</p>\n",
       "<p>\n",
       "  If you're reading this message in another frontend (for example, a static\n",
       "  rendering on GitHub or <a href=\"https://nbviewer.jupyter.org/\">NBViewer</a>),\n",
       "  it may mean that your frontend doesn't currently support widgets.\n",
       "</p>\n"
      ],
      "text/plain": [
       "HBox(children=(IntProgress(value=0, description='Epoch', max=63), HTML(value='')))"
      ]
     },
     "metadata": {},
     "output_type": "display_data"
    },
    {
     "name": "stdout",
     "output_type": "stream",
     "text": [
      "epoch      trn_loss   val_loss                                                                                         \n",
      "    0      2.969292   2.799544  \n",
      "    1      2.911244   2.786776                                                                                         \n",
      "    2      2.917215   2.778406                                                                                         \n",
      "    3      2.754088   2.858797                                                                                         \n",
      "    4      2.728453   2.81706                                                                                          \n",
      "    5      2.736706   2.824627                                                                                         \n",
      "    6      2.698962   2.791903                                                                                         \n",
      "    7      2.648214   2.786693                                                                                         \n",
      "    8      2.652812   2.807059                                                                                         \n",
      "    9      2.656157   2.742387                                                                                         \n",
      "    10     2.611864   2.73346                                                                                          \n",
      "    11     2.632968   2.769223                                                                                         \n",
      "    12     2.592981   2.709018                                                                                         \n",
      "    13     2.542704   2.714993                                                                                         \n",
      "    14     2.590185   2.703331                                                                                         \n",
      "    15     2.547493   2.68903                                                                                          \n",
      "    16     2.533475   2.648916                                                                                         \n",
      "    17     2.519018   2.633893                                                                                         \n",
      "    18     2.515977   2.609574                                                                                         \n",
      "    19     2.498814   2.650853                                                                                         \n",
      "    20     2.45264    2.603137                                                                                         \n",
      "    21     2.45452    2.611574                                                                                         \n",
      "    22     2.448995   2.589005                                                                                         \n",
      "    23     2.439251   2.553962                                                                                         \n",
      "    24     2.408846   2.557843                                                                                         \n",
      "    25     2.423314   2.500385                                                                                         \n",
      "    26     2.420921   2.515939                                                                                         \n",
      "    27     2.40225    2.523958                                                                                         \n",
      "    28     2.385729   2.497561                                                                                         \n",
      "    29     2.378934   2.480755                                                                                         \n",
      "    30     2.360772   2.459632                                                                                         \n",
      "    31     2.326325   2.490638                                                                                         \n",
      "    32     2.353222   2.504946                                                                                         \n",
      "    33     2.342891   2.486702                                                                                         \n",
      "    34     2.356127   2.505169                                                                                         \n",
      "    35     2.368763   2.443706                                                                                         \n",
      "    36     2.368127   2.382761                                                                                         \n",
      "    37     2.381291   2.363274                                                                                         \n",
      "    38     2.329467   2.371694                                                                                         \n",
      "    39     2.321597   2.388523                                                                                         \n",
      "    40     2.333457   2.381949                                                                                         \n",
      "    41     2.332587   2.331848                                                                                         \n",
      "    42     2.321758   2.367545                                                                                         \n",
      "    43     2.290636   2.320828                                                                                         \n",
      "    44     2.324033   2.307858                                                                                         \n",
      "    45     2.290239   2.31783                                                                                          \n",
      "    46     2.310519   2.298813                                                                                         \n",
      "    47     2.306338   2.291379                                                                                         \n",
      "    48     2.281473   2.307731                                                                                         \n",
      "    49     2.276483   2.305398                                                                                         \n",
      "    50     2.291606   2.30406                                                                                          \n",
      "    51     2.272633   2.260037                                                                                         \n",
      "    52     2.352992   2.249315                                                                                         \n",
      "    53     2.425242   2.21335                                                                                          \n",
      "    54     2.39112    2.210858                                                                                         \n",
      "    55     2.399659   2.198079                                                                                         \n",
      "    56     2.382665   2.190553                                                                                         \n",
      "    57     2.444545   2.177907                                                                                         \n",
      "    58     2.429856   2.163403                                                                                         \n",
      "    59     2.483184   2.169886                                                                                         \n",
      "    60     2.467723   2.157283                                                                                         \n",
      "    61     2.489497   2.157702                                                                                         \n",
      "    62     2.513962   2.145929                                                                                         \n",
      "\n"
     ]
    },
    {
     "data": {
      "application/vnd.jupyter.widget-view+json": {
       "model_id": "87bee387f97549648457e95a1cf61c9c",
       "version_major": 2,
       "version_minor": 0
      },
      "text/html": [
       "<p>Failed to display Jupyter Widget of type <code>HBox</code>.</p>\n",
       "<p>\n",
       "  If you're reading this message in the Jupyter Notebook or JupyterLab Notebook, it may mean\n",
       "  that the widgets JavaScript is still loading. If this message persists, it\n",
       "  likely means that the widgets JavaScript library is either not installed or\n",
       "  not enabled. See the <a href=\"https://ipywidgets.readthedocs.io/en/stable/user_install.html\">Jupyter\n",
       "  Widgets Documentation</a> for setup instructions.\n",
       "</p>\n",
       "<p>\n",
       "  If you're reading this message in another frontend (for example, a static\n",
       "  rendering on GitHub or <a href=\"https://nbviewer.jupyter.org/\">NBViewer</a>),\n",
       "  it may mean that your frontend doesn't currently support widgets.\n",
       "</p>\n"
      ],
      "text/plain": [
       "HBox(children=(IntProgress(value=0, description='Epoch', max=63), HTML(value='')))"
      ]
     },
     "metadata": {},
     "output_type": "display_data"
    },
    {
     "name": "stdout",
     "output_type": "stream",
     "text": [
      "epoch      trn_loss   val_loss                                                                                         \n",
      "    0      2.507282   2.146632  \n",
      "    1      2.498218   2.133582                                                                                         \n",
      "    2      2.48729    2.126998                                                                                         \n",
      "    3      2.25128    2.334702                                                                                         \n",
      "    4      2.237811   2.322101                                                                                         \n",
      "    5      2.225368   2.32024                                                                                          \n",
      "    6      2.214864   2.310113                                                                                         \n",
      "    7      2.197673   2.387277                                                                                         \n",
      "    8      2.197919   2.318107                                                                                         \n",
      "    9      2.159678   2.336441                                                                                         \n",
      "    10     2.176618   2.275592                                                                                         \n",
      "    11     2.15594    2.250758                                                                                         \n",
      "    12     2.12925    2.255574                                                                                         \n",
      "    13     2.132957   2.280509                                                                                         \n",
      "    14     2.103902   2.240029                                                                                         \n",
      "    15     2.102697   2.199663                                                                                         \n",
      "    16     2.104063   2.218995                                                                                         \n",
      "    17     2.073918   2.194227                                                                                         \n",
      "    18     2.061488   2.206121                                                                                         \n",
      "    19     2.069535   2.256604                                                                                         \n",
      "    20     2.052654   2.184079                                                                                         \n",
      "    21     2.04463    2.134115                                                                                         \n",
      "    22     2.03097    2.147965                                                                                         \n",
      "    23     2.009858   2.138124                                                                                         \n",
      "    24     2.009149   2.159358                                                                                         \n",
      "    25     2.005345   2.185616                                                                                         \n",
      "    26     2.005852   2.180811                                                                                         \n",
      "    27     1.989525   2.130534                                                                                         \n",
      "    28     2.002589   2.147762                                                                                         \n",
      "    29     1.968418   2.130539                                                                                         \n",
      "    30     1.964257   2.165055                                                                                         \n",
      "    31     1.973174   2.170403                                                                                         \n",
      "    32     1.973256   2.167443                                                                                         \n",
      "    33     1.957927   2.144004                                                                                         \n",
      "    34     1.968096   2.168585                                                                                         \n",
      "    35     1.973808   2.141361                                                                                         \n",
      "    36     1.975941   2.125065                                                                                         \n",
      "    37     1.988707   2.097534                                                                                         \n",
      "    38     1.996621   2.057855                                                                                         \n",
      "    39     1.98974    2.060876                                                                                         \n",
      "    40     1.973287   1.976395                                                                                         \n",
      "    41     2.051245   1.956011                                                                                         \n",
      "    42     2.020832   1.943221                                                                                         \n",
      "    43     2.034595   1.907656                                                                                         \n",
      "    44     1.996816   1.916745                                                                                         \n",
      "    45     2.005877   1.899134                                                                                         \n",
      "    46     1.997252   1.899647                                                                                         \n",
      "    47     1.93398    1.911775                                                                                         \n",
      "    48     1.929004   1.873946                                                                                         \n",
      "    49     1.919994   1.879055                                                                                         \n",
      "    50     1.957656   1.869208                                                                                         \n",
      "    51     1.969752   1.852115                                                                                         \n",
      "    52     1.98709    1.830034                                                                                         \n",
      "    53     2.036614   1.8054                                                                                           \n",
      "    54     2.100653   1.799112                                                                                         \n",
      "    55     2.021719   1.808993                                                                                         \n",
      "    56     2.096206   1.796862                                                                                         \n",
      "    57     2.12051    1.755996                                                                                         \n",
      "    58     2.094475   1.759357                                                                                         \n",
      "    59     2.091883   1.751274                                                                                         \n",
      "    60     2.14351    1.738639                                                                                         \n",
      "    61     2.166004   1.722713                                                                                         \n",
      "    62     2.152875   1.723592                                                                                         \n",
      "\n"
     ]
    },
    {
     "data": {
      "application/vnd.jupyter.widget-view+json": {
       "model_id": "f3e4ee4da53f4b1bbc4017cdeb457607",
       "version_major": 2,
       "version_minor": 0
      },
      "text/html": [
       "<p>Failed to display Jupyter Widget of type <code>HBox</code>.</p>\n",
       "<p>\n",
       "  If you're reading this message in the Jupyter Notebook or JupyterLab Notebook, it may mean\n",
       "  that the widgets JavaScript is still loading. If this message persists, it\n",
       "  likely means that the widgets JavaScript library is either not installed or\n",
       "  not enabled. See the <a href=\"https://ipywidgets.readthedocs.io/en/stable/user_install.html\">Jupyter\n",
       "  Widgets Documentation</a> for setup instructions.\n",
       "</p>\n",
       "<p>\n",
       "  If you're reading this message in another frontend (for example, a static\n",
       "  rendering on GitHub or <a href=\"https://nbviewer.jupyter.org/\">NBViewer</a>),\n",
       "  it may mean that your frontend doesn't currently support widgets.\n",
       "</p>\n"
      ],
      "text/plain": [
       "HBox(children=(IntProgress(value=0, description='Epoch', max=63), HTML(value='')))"
      ]
     },
     "metadata": {},
     "output_type": "display_data"
    },
    {
     "name": "stdout",
     "output_type": "stream",
     "text": [
      "epoch      trn_loss   val_loss                                                                                         \n",
      "    0      2.161121   1.72258   \n",
      "    1      2.173854   1.710278                                                                                         \n",
      "    2      2.139705   1.705729                                                                                         \n",
      "    3      1.867089   1.994069                                                                                         \n",
      "    4      1.903175   2.013956                                                                                         \n",
      "    5      1.879908   2.002144                                                                                         \n",
      "    6      1.880349   1.975415                                                                                         \n",
      "    7      1.879557   1.990582                                                                                         \n",
      "    8      1.84815    1.955876                                                                                         \n",
      "    9      1.843391   1.936039                                                                                         \n",
      "    10     1.854817   1.96924                                                                                          \n",
      "    11     1.816838   1.962893                                                                                         \n",
      "    12     1.823096   1.922672                                                                                         \n",
      "    13     1.787341   1.894162                                                                                         \n",
      "    14     1.808506   1.880813                                                                                         \n",
      "    15     1.769934   1.883869                                                                                         \n",
      "    16     1.788014   1.889501                                                                                         \n",
      "    17     1.766006   1.900201                                                                                         \n",
      "    18     1.768483   1.843994                                                                                         \n",
      "    19     1.754075   1.846636                                                                                         \n",
      "    20     1.722947   1.857722                                                                                         \n",
      "    21     1.741035   1.787551                                                                                         \n",
      "    22     1.696825   1.7924                                                                                           \n",
      "    23     1.718322   1.816583                                                                                         \n",
      "    24     1.713522   1.829173                                                                                         \n",
      "    25     1.674826   1.813539                                                                                         \n",
      "    26     1.677094   1.795018                                                                                         \n",
      "    27     1.696436   1.795119                                                                                         \n",
      "    28     1.679355   1.810914                                                                                         \n",
      "    29     1.681611   1.798518                                                                                         \n",
      "    30     1.666315   1.778763                                                                                         \n",
      "    31     1.657744   1.792981                                                                                         \n",
      "    32     1.663323   1.780457                                                                                         \n",
      "    33     1.689583   1.799399                                                                                         \n",
      "    34     1.667974   1.857034                                                                                         \n",
      "    35     1.677224   1.832191                                                                                         \n",
      "    36     1.680183   1.818625                                                                                         \n",
      "    37     1.668778   1.839443                                                                                         \n",
      "    38     1.693622   1.773598                                                                                         \n",
      "    39     1.72955    1.71219                                                                                          \n",
      "    40     1.751081   1.706775                                                                                         \n",
      "    41     1.736863   1.626559                                                                                         \n",
      "    42     1.728561   1.625408                                                                                         \n",
      "    43     1.726378   1.608645                                                                                         \n",
      "    44     1.74543    1.574537                                                                                         \n",
      "    45     1.662781   1.571677                                                                                         \n",
      "    46     1.697828   1.548517                                                                                         \n",
      "    47     1.729726   1.544384                                                                                         \n",
      "    48     1.730308   1.533975                                                                                         \n",
      "    49     1.717669   1.526424                                                                                         \n",
      "    50     1.759098   1.513355                                                                                         \n",
      "    51     1.743734   1.51848                                                                                          \n",
      "    52     1.701415   1.50188                                                                                          \n",
      "    53     1.713357   1.481443                                                                                         \n",
      "    54     1.693526   1.470585                                                                                         \n",
      "    55     1.732593   1.454887                                                                                         \n",
      "    56     1.797288   1.443259                                                                                         \n",
      "    57     1.799677   1.425548                                                                                         \n",
      "    58     1.787447   1.427565                                                                                         \n",
      "    59     1.822414   1.40191                                                                                          \n",
      "    60     1.873796   1.388217                                                                                         \n",
      "    61     1.851378   1.374488                                                                                         \n",
      "    62     1.851235   1.376064                                                                                         \n",
      "\n"
     ]
    },
    {
     "data": {
      "application/vnd.jupyter.widget-view+json": {
       "model_id": "3074ed51d7e44d61b5ffe85038dba266",
       "version_major": 2,
       "version_minor": 0
      },
      "text/html": [
       "<p>Failed to display Jupyter Widget of type <code>HBox</code>.</p>\n",
       "<p>\n",
       "  If you're reading this message in the Jupyter Notebook or JupyterLab Notebook, it may mean\n",
       "  that the widgets JavaScript is still loading. If this message persists, it\n",
       "  likely means that the widgets JavaScript library is either not installed or\n",
       "  not enabled. See the <a href=\"https://ipywidgets.readthedocs.io/en/stable/user_install.html\">Jupyter\n",
       "  Widgets Documentation</a> for setup instructions.\n",
       "</p>\n",
       "<p>\n",
       "  If you're reading this message in another frontend (for example, a static\n",
       "  rendering on GitHub or <a href=\"https://nbviewer.jupyter.org/\">NBViewer</a>),\n",
       "  it may mean that your frontend doesn't currently support widgets.\n",
       "</p>\n"
      ],
      "text/plain": [
       "HBox(children=(IntProgress(value=0, description='Epoch', max=63), HTML(value='')))"
      ]
     },
     "metadata": {},
     "output_type": "display_data"
    },
    {
     "name": "stdout",
     "output_type": "stream",
     "text": [
      "epoch      trn_loss   val_loss                                                                                         \n",
      "    0      1.832719   1.367918  \n",
      "    1      1.855266   1.36204                                                                                          \n",
      "    2      1.845428   1.358699                                                                                         \n",
      "    3      1.57956    1.646949                                                                                         \n",
      "    4      1.596491   1.666751                                                                                         \n",
      "    5      1.601598   1.746752                                                                                         \n",
      "    6      1.591682   1.685524                                                                                         \n",
      "    7      1.600861   1.69831                                                                                          \n",
      "    8      1.559413   1.69197                                                                                          \n",
      "    9      1.567447   1.672409                                                                                         \n",
      "    10     1.596042   1.622808                                                                                         \n",
      "    11     1.567482   1.625088                                                                                         \n",
      "    12     1.562624   1.605889                                                                                         \n",
      "    13     1.548378   1.691754                                                                                         \n",
      "    14     1.54418    1.578947                                                                                         \n",
      "    15     1.538065   1.615806                                                                                         \n",
      "    16     1.52906    1.59957                                                                                          \n",
      "    17     1.512262   1.584668                                                                                         \n",
      "    18     1.523174   1.572652                                                                                         \n",
      "    19     1.492447   1.525865                                                                                         \n",
      "    20     1.481139   1.555929                                                                                         \n",
      "    21     1.503702   1.585627                                                                                         \n",
      "    22     1.496713   1.556223                                                                                         \n",
      "    23     1.481343   1.539244                                                                                         \n",
      "    24     1.481059   1.498147                                                                                         \n",
      "    25     1.476068   1.523842                                                                                         \n",
      "    26     1.47305    1.51711                                                                                          \n",
      "    27     1.469829   1.476063                                                                                         \n",
      "    28     1.480464   1.512536                                                                                         \n",
      "    29     1.438497   1.541888                                                                                         \n",
      "    30     1.462475   1.526083                                                                                         \n",
      "    31     1.422479   1.520379                                                                                         \n",
      "    32     1.473649   1.554578                                                                                         \n",
      "    33     1.444373   1.530874                                                                                         \n",
      "    34     1.477845   1.575408                                                                                         \n",
      "    35     1.482137   1.549094                                                                                         \n",
      "    36     1.478499   1.574916                                                                                         \n",
      "    37     1.494864   1.500907                                                                                         \n",
      "    38     1.527365   1.501073                                                                                         \n",
      "    39     1.518778   1.45397                                                                                          \n",
      "    40     1.51567    1.437628                                                                                         \n",
      "    41     1.58432    1.360342                                                                                         \n",
      "    42     1.565203   1.343984                                                                                         \n",
      "    43     1.601755   1.280455                                                                                         \n",
      "    44     1.57213    1.270435                                                                                         \n",
      "    45     1.589317   1.246186                                                                                         \n",
      "    46     1.505321   1.259838                                                                                         \n",
      "    47     1.500411   1.231777                                                                                         \n",
      "    48     1.519685   1.24232                                                                                          \n",
      "    49     1.516497   1.238897                                                                                         \n",
      "    50     1.536046   1.215539                                                                                         \n",
      "    51     1.507773   1.212466                                                                                         \n",
      "    52     1.531047   1.208542                                                                                         \n",
      "    53     1.499224   1.205125                                                                                         \n",
      "    54     1.542391   1.187479                                                                                         \n",
      "    55     1.538626   1.1815                                                                                           \n",
      "    56     1.570303   1.163383                                                                                         \n",
      "    57     1.555911   1.143624                                                                                         \n",
      "    58     1.600362   1.134276                                                                                         \n",
      "    59     1.620217   1.117921                                                                                         \n",
      "    60     1.6403     1.107958                                                                                         \n",
      "    61     1.633024   1.09291                                                                                          \n",
      "    62     1.634745   1.093736                                                                                         \n",
      "\n"
     ]
    },
    {
     "data": {
      "application/vnd.jupyter.widget-view+json": {
       "model_id": "08d73cb4ac5346f390a04989846a81ae",
       "version_major": 2,
       "version_minor": 0
      },
      "text/html": [
       "<p>Failed to display Jupyter Widget of type <code>HBox</code>.</p>\n",
       "<p>\n",
       "  If you're reading this message in the Jupyter Notebook or JupyterLab Notebook, it may mean\n",
       "  that the widgets JavaScript is still loading. If this message persists, it\n",
       "  likely means that the widgets JavaScript library is either not installed or\n",
       "  not enabled. See the <a href=\"https://ipywidgets.readthedocs.io/en/stable/user_install.html\">Jupyter\n",
       "  Widgets Documentation</a> for setup instructions.\n",
       "</p>\n",
       "<p>\n",
       "  If you're reading this message in another frontend (for example, a static\n",
       "  rendering on GitHub or <a href=\"https://nbviewer.jupyter.org/\">NBViewer</a>),\n",
       "  it may mean that your frontend doesn't currently support widgets.\n",
       "</p>\n"
      ],
      "text/plain": [
       "HBox(children=(IntProgress(value=0, description='Epoch', max=63), HTML(value='')))"
      ]
     },
     "metadata": {},
     "output_type": "display_data"
    },
    {
     "name": "stdout",
     "output_type": "stream",
     "text": [
      "epoch      trn_loss   val_loss                                                                                         \n",
      "    0      1.624954   1.08813   \n",
      "    1      1.632728   1.080199                                                                                         \n",
      "    2      1.634939   1.077639                                                                                         \n",
      "    3      1.369822   1.407853                                                                                         \n",
      "    4      1.392343   1.390758                                                                                         \n",
      "    5      1.374324   1.37154                                                                                          \n",
      "    6      1.387836   1.438467                                                                                         \n",
      "    7      1.389984   1.38947                                                                                          \n",
      "    8      1.380342   1.418785                                                                                         \n",
      "    9      1.354419   1.394799                                                                                         \n",
      "    10     1.356933   1.367542                                                                                         \n",
      "    11     1.340681   1.411852                                                                                         \n",
      "    12     1.335833   1.414568                                                                                         \n",
      "    13     1.326827   1.415611                                                                                         \n",
      "    14     1.330045   1.366585                                                                                         \n",
      "    15     1.326275   1.430342                                                                                         \n",
      "    16     1.324799   1.374843                                                                                         \n",
      "    17     1.317262   1.318272                                                                                         \n",
      "    18     1.303763   1.35582                                                                                          \n",
      "    19     1.300667   1.362263                                                                                         \n",
      "    20     1.287032   1.342486                                                                                         \n",
      "    21     1.305558   1.284926                                                                                         \n",
      "    22     1.273559   1.264851                                                                                         \n",
      "    23     1.269255   1.297446                                                                                         \n",
      "    24     1.258573   1.29629                                                                                          \n",
      "    25     1.262594   1.279662                                                                                         \n",
      "    26     1.260034   1.271471                                                                                         \n",
      "    27     1.25246    1.251862                                                                                         \n",
      "    28     1.224134   1.303465                                                                                         \n",
      "    29     1.238507   1.307267                                                                                         \n",
      "    30     1.229936   1.313581                                                                                         \n",
      "    31     1.24772    1.331619                                                                                         \n",
      "    32     1.248169   1.355183                                                                                         \n",
      "    33     1.232561   1.355429                                                                                         \n",
      "    34     1.278213   1.347411                                                                                         \n",
      "    35     1.258905   1.364411                                                                                         \n",
      "    36     1.295478   1.353328                                                                                         \n",
      "    37     1.272239   1.317482                                                                                         \n",
      "    38     1.292756   1.247131                                                                                         \n",
      "    39     1.338641   1.233434                                                                                         \n",
      "    40     1.317024   1.200302                                                                                         \n",
      "    41     1.297933   1.178482                                                                                         \n",
      "    42     1.343191   1.105251                                                                                         \n",
      "    43     1.36497    1.087144                                                                                         \n",
      "    44     1.407342   1.040159                                                                                         \n",
      "    45     1.416639   1.016052                                                                                         \n",
      "    46     1.382532   1.01191                                                                                          \n",
      "    47     1.352685   1.009652                                                                                         \n",
      "    48     1.355      1.001031                                                                                         \n",
      "    49     1.32847    1.009717                                                                                         \n",
      "    50     1.322625   1.00255                                                                                          \n",
      "    51     1.300115   0.99254                                                                                          \n",
      "    52     1.292232   1.043588                                                                                         \n",
      "    53     1.296209   0.981494                                                                                         \n",
      "    54     1.288166   0.973473                                                                                         \n",
      "    55     1.334567   0.957455                                                                                         \n",
      "    56     1.353162   0.944565                                                                                         \n",
      "    57     1.366362   0.915727                                                                                         \n",
      "    58     1.350172   0.919702                                                                                         \n",
      "    59     1.378502   0.90394                                                                                          \n",
      "    60     1.40072    0.891482                                                                                         \n",
      "    61     1.442268   0.879519                                                                                         \n",
      "    62     1.446287   0.864978                                                                                         \n",
      "\n"
     ]
    },
    {
     "data": {
      "application/vnd.jupyter.widget-view+json": {
       "model_id": "33871dde482c405a8bb37e2eccd9afe9",
       "version_major": 2,
       "version_minor": 0
      },
      "text/html": [
       "<p>Failed to display Jupyter Widget of type <code>HBox</code>.</p>\n",
       "<p>\n",
       "  If you're reading this message in the Jupyter Notebook or JupyterLab Notebook, it may mean\n",
       "  that the widgets JavaScript is still loading. If this message persists, it\n",
       "  likely means that the widgets JavaScript library is either not installed or\n",
       "  not enabled. See the <a href=\"https://ipywidgets.readthedocs.io/en/stable/user_install.html\">Jupyter\n",
       "  Widgets Documentation</a> for setup instructions.\n",
       "</p>\n",
       "<p>\n",
       "  If you're reading this message in another frontend (for example, a static\n",
       "  rendering on GitHub or <a href=\"https://nbviewer.jupyter.org/\">NBViewer</a>),\n",
       "  it may mean that your frontend doesn't currently support widgets.\n",
       "</p>\n"
      ],
      "text/plain": [
       "HBox(children=(IntProgress(value=0, description='Epoch', max=63), HTML(value='')))"
      ]
     },
     "metadata": {},
     "output_type": "display_data"
    },
    {
     "name": "stdout",
     "output_type": "stream",
     "text": [
      "epoch      trn_loss   val_loss                                                                                         \n",
      "    0      1.404758   0.861967  \n",
      "    1      1.39695    0.856255                                                                                         \n",
      "    2      1.405092   0.848339                                                                                         \n",
      "    3      1.184224   1.141888                                                                                         \n",
      "    4      1.206934   1.157745                                                                                         \n",
      "    5      1.180049   1.205245                                                                                         \n",
      "    6      1.211885   1.17353                                                                                          \n",
      "    7      1.188678   1.212981                                                                                         \n",
      "    8      1.194099   1.183654                                                                                         \n",
      "    9      1.199162   1.204609                                                                                         \n",
      "    10     1.179715   1.213687                                                                                         \n",
      "    11     1.180737   1.159027                                                                                         \n",
      "    12     1.183826   1.124294                                                                                         \n",
      "    13     1.173578   1.172199                                                                                         \n",
      "    14     1.166517   1.181907                                                                                         \n",
      "    15     1.166517   1.200868                                                                                         \n",
      "    16     1.160939   1.137283                                                                                         \n",
      "    17     1.145649   1.13994                                                                                          \n",
      "    18     1.142781   1.180813                                                                                         \n",
      "    19     1.138068   1.155415                                                                                         \n",
      "    20     1.133604   1.177855                                                                                         \n",
      "    21     1.120086   1.184616                                                                                         \n",
      "    22     1.148778   1.217488                                                                                         \n",
      "    23     1.120391   1.161861                                                                                         \n",
      "    24     1.109742   1.189104                                                                                         \n",
      "    25     1.118273   1.175823                                                                                         \n",
      "    26     1.116104   1.117954                                                                                         \n",
      "    27     1.109268   1.150928                                                                                         \n",
      "    28     1.087733   1.133662                                                                                         \n",
      "    29     1.106005   1.168152                                                                                         \n",
      "    30     1.098851   1.078039                                                                                         \n",
      "    31     1.110574   1.146448                                                                                         \n",
      "    32     1.100761   1.11659                                                                                          \n",
      "    33     1.08064    1.130653                                                                                         \n",
      "    34     1.080808   1.152396                                                                                         \n",
      "    35     1.093135   1.132003                                                                                         \n",
      "    36     1.11       1.140637                                                                                         \n",
      "    37     1.132789   1.147526                                                                                         \n",
      "    38     1.143822   1.134216                                                                                         \n",
      "    39     1.144606   1.071009                                                                                         \n",
      "    40     1.172296   1.074079                                                                                         \n",
      "    41     1.212261   1.012275                                                                                         \n",
      "    42     1.246227   0.922587                                                                                         \n",
      "    43     1.228211   0.889141                                                                                         \n",
      "    44     1.242031   0.858067                                                                                         \n",
      "    45     1.255032   0.839156                                                                                         \n",
      "    46     1.236826   0.821503                                                                                         \n",
      "    47     1.225477   0.81868                                                                                          \n",
      "    48     1.20569    0.821883                                                                                         \n",
      "    49     1.186684   0.823031                                                                                         \n",
      "    50     1.178812   0.806442                                                                                         \n",
      "    51     1.173232   0.827301                                                                                         \n",
      "    52     1.131935   0.803314                                                                                         \n",
      "    53     1.163331   0.795154                                                                                         \n",
      "    54     1.142757   0.798041                                                                                         \n",
      "    55     1.168741   0.773441                                                                                         \n",
      "    56     1.194651   0.767655                                                                                         \n",
      "    57     1.195228   0.742775                                                                                         \n",
      "    58     1.208652   0.73043                                                                                          \n",
      "    59     1.223554   0.723222                                                                                         \n",
      "    60     1.219554   0.706542                                                                                         \n",
      "    61     1.252439   0.697366                                                                                         \n",
      "    62     1.267541   0.715845                                                                                         \n",
      "\n",
      "9min 11s ± 6.02 s per loop (mean ± std. dev. of 7 runs, 1 loop each)\n"
     ]
    }
   ],
   "source": [
    "on_end = lambda sched, cycle: save_model(m, f'{PATH}models/cyc_a{cycle}')\n",
    "cb = [CosAnneal(lo, len(md.trn_dl), cycle_mult=2, on_cycle_end=on_end)]\n",
    "%timeit fit(m, md, 2**6-1, lo.opt, F.nll_loss, callbacks=cb)"
   ]
  },
  {
   "cell_type": "markdown",
   "metadata": {
    "hidden": true
   },
   "source": [
    "around 10s/epoch on GTX1070 (eqv AWS P2)\n",
    "\n"
   ]
  },
  {
   "cell_type": "raw",
   "metadata": {
    "hidden": true
   },
   "source": [
    "\n",
    " Directory of C:\\Users\\sarad\\Documents\\fastai\\courses\\dl1\\data\\SuShi\\models\n",
    "\n",
    "                                         epoch      trn_loss   val_loss \n",
    "28-Feb-18  16:05        21,170,707 cyc_0     62     2.152875   1.723592\n",
    "28-Feb-18  15:51        21,170,707 cyc_1     62     1.851235   1.376064 \n",
    "28-Feb-18  15:52        21,170,707 cyc_2     62     1.634745   1.093736\n",
    "28-Feb-18  15:53        21,170,707 cyc_3     62     1.446287   0.864978   \n",
    "28-Feb-18  15:55        21,170,707 cyc_4     62     1.267541   0.715845 \n",
    "            "
   ]
  },
  {
   "cell_type": "raw",
   "metadata": {
    "collapsed": true,
    "hidden": true
   },
   "source": [
    "Jeremy Lesson6-rnn notebook result\n",
    "epoch [62.        1.13174   1.2524 ]      "
   ]
  },
  {
   "cell_type": "markdown",
   "metadata": {},
   "source": [
    "### Test"
   ]
  },
  {
   "cell_type": "code",
   "execution_count": 153,
   "metadata": {
    "collapsed": true
   },
   "outputs": [],
   "source": [
    "def get_next(inp):\n",
    "    idxs = TEXT.numericalize(inp)\n",
    "    p = m(VV(idxs.transpose(0,1)))\n",
    "    r = torch.multinomial(p[-1].exp(), 1)\n",
    "    return TEXT.vocab.itos[to_np(r)[0]]"
   ]
  },
  {
   "cell_type": "code",
   "execution_count": 154,
   "metadata": {
    "scrolled": false
   },
   "outputs": [
    {
     "data": {
      "text/plain": [
       "'呻'"
      ]
     },
     "execution_count": 154,
     "metadata": {},
     "output_type": "execute_result"
    }
   ],
   "source": [
    "get_next('從前')"
   ]
  },
  {
   "cell_type": "code",
   "execution_count": 155,
   "metadata": {
    "collapsed": true
   },
   "outputs": [],
   "source": [
    "def get_next_n(inp, n):\n",
    "    res = inp\n",
    "    for i in range(n):\n",
    "        c = get_next(inp)\n",
    "        res += c\n",
    "        inp = inp[1:]+c\n",
    "    return res"
   ]
  },
  {
   "cell_type": "code",
   "execution_count": 156,
   "metadata": {},
   "outputs": [
    {
     "name": "stdout",
     "output_type": "stream",
     "text": [
      "從前。日長醉送，前堂雨色，故人歌者】倦年見，篙本走。得之意不也，俗學所有，為補花。）【浮山開閣在禹門，潞神甲，<unk>眼也。然信向過，一絕徒往，故人作《一題歌句》。紅帶小詩樂燭腸不如甜酒。人間膏甚物不為齊安酒在別臥燈瑞月二首】倦看沙荻燈。綠浪翻翻燒，此生晴于竹間。二十六裏桔，玉宮蓋以商楊之蜀，果讀者，乃以詩為晴食矣。詩著宗公黃疲。）何年謝伯健。元茶顛還瀝，使君去歲，而不衰而艱；乎<unk>故不可至次元老韻則許矣初時聞勇而送啼老且魯君二首】去年東吏記西行，未能<unk>分禪師治之謂之器，食一十餘也，問其昌之弼耳。我有持此壽，何曾以遺泣。世間本無失，我來誰能<unk>芝。）老客念前生吞耳，但尋樊子自如兒。只恐且慚殘夢九，詩人不得愁<unk>井放紅衣酒倒庭起倒。主人在心腹有知，此心未繼亦逶忙。良遭未賜心與淺，兩時相迫不轉篇。【古日求南戲再和前篇】舊官古桃花，平生延不還。倦歸入吳繼，清<unk>金坎，入瑞如煙毿。浩疑我何所見，淒涼海轉吞雲山\n"
     ]
    }
   ],
   "source": [
    "print(get_next_n('從前', 50))"
   ]
  },
  {
   "cell_type": "code",
   "execution_count": 157,
   "metadata": {},
   "outputs": [
    {
     "name": "stdout",
     "output_type": "stream",
     "text": [
      "我。雲峰吒暗出煙空，坐覺孤煙影落空。古地中有泉塔中，蓬樓曉夜甘。二樂行人至歌者，城南修竹正無堅。幽心本消不用箱，麥瑕花當同過客。臥聞飛地春何落，收韻收拾魚祀息。煩算更吟終月識，更恨嘉十九筆成。黠陽聊複起薏禦，微言何足莊生殿。【今月十七日五首】夢看隨好來迎背，溪山何處雨春泉。不知鱸浦馬應啼，送君<unk>。誦桃花有詩拾種德不願賢且成而奉奉海都而老得之遺不逐不知此達幾也】翠垂本余無風也。夜酌而回。）聚散瀟坐借。）【郭奉元伯父老顛雖陶司馬何亡矣策兄宗縣太守王宴見八十餘餘複留之韻仍惠耳竹】今不醒居處。仲退原生表，鬱杭之數。）督恨畢考，未見雖不誇。朝退有黃門。我道方聞嵩有小詩，下隱之。）猶含鐵水。）清詩淡將飯倒示至長江今流勝官不遇故複次前韻龍湖之亦至郭達廬，中有李卿卿，故感其詩】浮河又似湯，即客，眠衣未香。）枕飲仍讀書之詩不跋慎因和草書並挺之於二子長孤溪方好久】雲夢浮。蘚書真一寄，貴神仙三篆，極妃，應造\n"
     ]
    }
   ],
   "source": [
    "print(get_next_n('我', 50))"
   ]
  },
  {
   "cell_type": "markdown",
   "metadata": {},
   "source": [
    "### Test"
   ]
  },
  {
   "cell_type": "code",
   "execution_count": 166,
   "metadata": {},
   "outputs": [
    {
     "ename": "SyntaxError",
     "evalue": "EOL while scanning string literal (<ipython-input-166-888ee57a3b62>, line 1)",
     "output_type": "error",
     "traceback": [
      "\u001b[1;36m  File \u001b[1;32m\"<ipython-input-166-888ee57a3b62>\"\u001b[1;36m, line \u001b[1;32m1\u001b[0m\n\u001b[1;33m    m.load_cycle('C://Users/sarad/Documents/fastai/courses/dl1/data/SuShi/models/cyc_0.h5)\u001b[0m\n\u001b[1;37m                                                                                          ^\u001b[0m\n\u001b[1;31mSyntaxError\u001b[0m\u001b[1;31m:\u001b[0m EOL while scanning string literal\n"
     ]
    }
   ],
   "source": [
    "m.load_cycle('C://Users/sarad/Documents/fastai/courses/dl1/data/SuShi/models/cyc_0.h5)"
   ]
  },
  {
   "cell_type": "code",
   "execution_count": null,
   "metadata": {
    "collapsed": true
   },
   "outputs": [],
   "source": [
    "print(get_next_n('從前', 400))"
   ]
  }
 ],
 "metadata": {
  "gist": {
   "data": {
    "description": "Chinese-SuShi.ipynb",
    "public": true
   },
   "id": ""
  },
  "kernelspec": {
   "display_name": "Python 3",
   "language": "python",
   "name": "python3"
  },
  "language_info": {
   "codemirror_mode": {
    "name": "ipython",
    "version": 3
   },
   "file_extension": ".py",
   "mimetype": "text/x-python",
   "name": "python",
   "nbconvert_exporter": "python",
   "pygments_lexer": "ipython3",
   "version": "3.6.2"
  },
  "nav_menu": {},
  "toc": {
   "nav_menu": {
    "height": "216px",
    "width": "252px"
   },
   "number_sections": true,
   "sideBar": true,
   "skip_h1_title": false,
   "title_cell": "Table of Contents",
   "title_sidebar": "Contents",
   "toc_cell": false,
   "toc_position": {},
   "toc_section_display": "block",
   "toc_window_display": false
  }
 },
 "nbformat": 4,
 "nbformat_minor": 1
}
